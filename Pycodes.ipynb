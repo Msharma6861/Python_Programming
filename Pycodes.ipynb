{
  "cells": [
    {
      "cell_type": "markdown",
      "metadata": {
        "id": "view-in-github",
        "colab_type": "text"
      },
      "source": [
        "<a href=\"https://colab.research.google.com/github/Msharma6861/Python_Programming/blob/main/Pycodes.ipynb\" target=\"_parent\"><img src=\"https://colab.research.google.com/assets/colab-badge.svg\" alt=\"Open In Colab\"/></a>"
      ]
    },
    {
      "cell_type": "code",
      "source": [
        "def hash_function(value):\n",
        "    sum_of_chars = 0\n",
        "    for char in value:\n",
        "        sum_of_chars += ord(char)\n",
        "\n",
        "    return sum_of_chars % 10\n",
        "\n",
        "print(\"'Bob' has hash code:\",hash_function('Bob'))"
      ],
      "metadata": {
        "colab": {
          "base_uri": "https://localhost:8080/"
        },
        "id": "Ur_DOYKAkAMq",
        "outputId": "72dd3760-9a96-4d3b-fd9b-9012b687bf2c"
      },
      "execution_count": null,
      "outputs": [
        {
          "output_type": "stream",
          "name": "stdout",
          "text": [
            "'Bob' has hash code: 5\n"
          ]
        }
      ]
    },
    {
      "cell_type": "code",
      "source": [
        "words = True\n",
        "if words is True:\n",
        "  print(f'It is fixed {words}')\n",
        "else:\n",
        "  print(\"It is not true\")\n"
      ],
      "metadata": {
        "colab": {
          "base_uri": "https://localhost:8080/"
        },
        "id": "v1dwV4DU_ifq",
        "outputId": "966c2a3d-9224-4d67-d4d9-f5521220b0c3"
      },
      "execution_count": null,
      "outputs": [
        {
          "output_type": "stream",
          "name": "stdout",
          "text": [
            "It is fixed True\n"
          ]
        }
      ]
    },
    {
      "cell_type": "code",
      "source": [
        "the_world_is_flat = True\n",
        "if the_world_is_flat is True:\n",
        "  print(\"yes it's true\")\n"
      ],
      "metadata": {
        "colab": {
          "base_uri": "https://localhost:8080/"
        },
        "id": "FTZj48qvWRV9",
        "outputId": "d3112ef5-f985-4d46-9c8b-e7ca7cf005b6"
      },
      "execution_count": null,
      "outputs": [
        {
          "output_type": "stream",
          "name": "stdout",
          "text": [
            "yes it's true\n"
          ]
        }
      ]
    },
    {
      "cell_type": "code",
      "execution_count": null,
      "metadata": {
        "id": "O3FrfvymySVZ",
        "colab": {
          "base_uri": "https://localhost:8080/"
        },
        "outputId": "22c5b15c-caf6-48eb-ac4b-e50ed88a2f7d"
      },
      "outputs": [
        {
          "output_type": "stream",
          "name": "stdout",
          "text": [
            "C:\\user\\name\n"
          ]
        }
      ],
      "source": [
        "#s = 'doesn\\'t' # While using single quotes to prevent from error use escape(\\) in between multiple single quotes.\n",
        "#y = 'first line. \\nsecond line'\n",
        "#print(y) # While using print it will create a new line by \\n.\n",
        "\n",
        "# use raw string interpolator(r)\n",
        "print(r'C:\\user\\name')"
      ]
    },
    {
      "cell_type": "code",
      "source": [
        "'py' 'thon' 'programme' # Two or more strings literal next to each other are automatically concatenated.\n",
        "prefix = 'py'\n",
        "# prefix 'thon'   # variable and Strings next to each cannot be concatenated automatically.\n",
        "# prefix * 'thon'    can't multiply sequence by non-int of type \"str\"\n",
        "prefix + 'thon'   # can concatenate strings and variables."
      ],
      "metadata": {
        "colab": {
          "base_uri": "https://localhost:8080/",
          "height": 35
        },
        "id": "l2ccNX84kjSN",
        "outputId": "a46eed43-8b9e-4123-f2f2-afb78763d864"
      },
      "execution_count": null,
      "outputs": [
        {
          "output_type": "execute_result",
          "data": {
            "text/plain": [
              "'python'"
            ],
            "application/vnd.google.colaboratory.intrinsic+json": {
              "type": "string"
            }
          },
          "metadata": {},
          "execution_count": 1
        }
      ]
    },
    {
      "cell_type": "code",
      "source": [
        "square = \"python\"\n",
        "print(square)\n",
        "print(square[0:2]) #Indexing slices from 0 to 2 it starts from 0 and skip last.[start,stop]\n",
        "print(square[2:5:2])#Indexing slices from 2 to 5 with gap of 2 .[start,stop,gap]\n",
        "print(square[-5:]) #Negative Indexing from left to right.Zero is not available."
      ],
      "metadata": {
        "id": "ElIxaieL5qE9",
        "colab": {
          "base_uri": "https://localhost:8080/"
        },
        "outputId": "6ecb0260-e455-4775-ccb4-08e84c45d26b"
      },
      "execution_count": null,
      "outputs": [
        {
          "output_type": "stream",
          "name": "stdout",
          "text": [
            "python\n",
            "py\n",
            "to\n",
            "ython\n"
          ]
        }
      ]
    },
    {
      "cell_type": "code",
      "source": [
        "#Python strings cannot be changed — they are immutable.\n",
        "#square[0] = 'J' #Therefore, assigning to an indexed position in the string results in an error.\n",
        "#It is good to concatenate.\n",
        "square = 'J' + square[1:]\n",
        "print(square)"
      ],
      "metadata": {
        "colab": {
          "base_uri": "https://localhost:8080/"
        },
        "id": "brtehNskuMDq",
        "outputId": "fa62cdf5-cc1c-4520-8cf4-fd868938e44a"
      },
      "execution_count": null,
      "outputs": [
        {
          "output_type": "stream",
          "name": "stdout",
          "text": [
            "Jython\n"
          ]
        }
      ]
    },
    {
      "cell_type": "code",
      "source": [
        "len(square) #len() function is used to check the variable length.\n"
      ],
      "metadata": {
        "colab": {
          "base_uri": "https://localhost:8080/"
        },
        "id": "Z8yq49yo3x7b",
        "outputId": "c7f8f31b-57b0-4653-ba25-e41665705f76"
      },
      "execution_count": null,
      "outputs": [
        {
          "output_type": "execute_result",
          "data": {
            "text/plain": [
              "6"
            ]
          },
          "metadata": {},
          "execution_count": 26
        }
      ]
    },
    {
      "cell_type": "markdown",
      "source": [
        "# **Variables**\n",
        "Variables are containers for storing data values."
      ],
      "metadata": {
        "id": "BCSu28-oIT-C"
      }
    },
    {
      "cell_type": "code",
      "source": [
        "# Casting-If you want to specify the data type of a variable, this can be done with casting.\n",
        "x = str(3)    # x will be '3'\n",
        "y = int(3)    # y will be 3\n",
        "z = float(3)  # z will be 3.0\n",
        "print(type(x))\n",
        "print(type(y))\n",
        "print(type(z))"
      ],
      "metadata": {
        "colab": {
          "base_uri": "https://localhost:8080/"
        },
        "id": "zpbf_C2rILp5",
        "outputId": "80e53d2b-f273-4378-edfb-866b5f1a2bab"
      },
      "execution_count": null,
      "outputs": [
        {
          "output_type": "stream",
          "name": "stdout",
          "text": [
            "<class 'str'>\n",
            "<class 'int'>\n",
            "<class 'float'>\n"
          ]
        }
      ]
    },
    {
      "cell_type": "code",
      "source": [
        "# Multi words Variable name.\n",
        "#Variable names with more than one word can be difficult to read.\n",
        "myVariableName = 'John' # Camel Case\n",
        "myvariablename = 'Jhonny' # Pascal Case\n",
        "my_variable_name = 'Janardhan' # Snake Case"
      ],
      "metadata": {
        "id": "woDxi21sXaIH"
      },
      "execution_count": null,
      "outputs": []
    },
    {
      "cell_type": "code",
      "source": [
        "# Many values to multiple varibles.\n",
        "x, y, z = \"Orange\", \"Banana\", \"Cherry\"\n",
        "print(x)\n",
        "print(y)\n",
        "print(z)\n",
        "\n",
        "# One values to multiple variables.\n",
        "x = y = z = \"Orange\"\n",
        "print(x)\n",
        "print(y)\n",
        "print(z)\n",
        "\n",
        "# Unpacking a collection-If you have a collection of values in a list, tuple etc. Python allows you to extract the values into variables. This is called unpacking.\n",
        "fruits = [\"apple\", \"banana\", \"cherry\"]\n",
        "x, y, z = fruits\n",
        "print(x)\n",
        "print(y)\n",
        "print(z)"
      ],
      "metadata": {
        "colab": {
          "base_uri": "https://localhost:8080/"
        },
        "id": "U9HfpwtcYakz",
        "outputId": "aa3560df-0ee4-4b66-d109-49f59ccaf1fa"
      },
      "execution_count": null,
      "outputs": [
        {
          "output_type": "stream",
          "name": "stdout",
          "text": [
            "Orange\n",
            "Banana\n",
            "Cherry\n",
            "Orange\n",
            "Orange\n",
            "Orange\n",
            "apple\n",
            "banana\n",
            "cherry\n"
          ]
        }
      ]
    },
    {
      "cell_type": "code",
      "source": [
        "# Global Variables- Variables that are created outside of a function (as in all of the examples above) are known as global variables.\n",
        "# Global variables can be used by everyone, both inside of functions and outside.\n",
        "x = \"awesome\"\n",
        "\n",
        "def myfunc():\n",
        "  print(\"Python is \" + x)\n",
        "\n",
        "myfunc()"
      ],
      "metadata": {
        "colab": {
          "base_uri": "https://localhost:8080/"
        },
        "id": "zdoECKChbvij",
        "outputId": "ff8cb1ec-2114-403c-ecb3-64a90fb8bef5"
      },
      "execution_count": null,
      "outputs": [
        {
          "output_type": "stream",
          "name": "stdout",
          "text": [
            "Python is awesome\n"
          ]
        }
      ]
    },
    {
      "cell_type": "code",
      "source": [
        "# global variable is changeable inside the function and but the local variable will not.\n",
        "# Use the global keyword if you want to change a global variable inside a function.\n",
        "\n",
        "x = \"awesome\"\n",
        "def funcc():\n",
        "  print(x)\n",
        "\n",
        "funcc()\n",
        "\n",
        "def myfunc():\n",
        "  global x\n",
        "  x = \"fantastic\"\n",
        "\n",
        "myfunc()\n",
        "\n",
        "print(\"Python is \" + x)\n",
        "\n"
      ],
      "metadata": {
        "colab": {
          "base_uri": "https://localhost:8080/"
        },
        "id": "lwKKMMpJxxYl",
        "outputId": "8b3e2a7a-4b40-4b2b-91a7-a7b39cae4b05"
      },
      "execution_count": null,
      "outputs": [
        {
          "output_type": "stream",
          "name": "stdout",
          "text": [
            "awesome\n",
            "Python is fantastic\n"
          ]
        }
      ]
    },
    {
      "cell_type": "code",
      "source": [
        "# strip() method removes any whitespace from the beginning or the end:\n",
        "a = \" Hello, World! \"\n",
        "print(a.strip()) # returns \"Hello, World!\""
      ],
      "metadata": {
        "colab": {
          "base_uri": "https://localhost:8080/"
        },
        "id": "BFbPp4y7EjI2",
        "outputId": "5c4b7aba-bd67-4f31-c67a-6049df185005"
      },
      "execution_count": null,
      "outputs": [
        {
          "output_type": "stream",
          "name": "stdout",
          "text": [
            "Hello, World!\n"
          ]
        }
      ]
    },
    {
      "cell_type": "code",
      "source": [
        "# The replace() method replaces a string with another string:\n",
        "\n",
        "a = \"Hello, World!\"\n",
        "print(a.replace(\"H\", \"B\"))"
      ],
      "metadata": {
        "colab": {
          "base_uri": "https://localhost:8080/"
        },
        "id": "ooAjNzS5FEct",
        "outputId": "4eaf6593-1a98-4a03-eb4b-32decc7e81f5"
      },
      "execution_count": null,
      "outputs": [
        {
          "output_type": "stream",
          "name": "stdout",
          "text": [
            "Bello, World!\n"
          ]
        }
      ]
    },
    {
      "cell_type": "code",
      "source": [
        "# The split() method splits a string into a list.\n",
        "#You can specify the separator, default separator is any whitespace.:\n",
        "\n",
        "a = \"Hello World!\"\n",
        "b = a.split() # returns ['Hello',' World!']\n",
        "print(b)"
      ],
      "metadata": {
        "colab": {
          "base_uri": "https://localhost:8080/"
        },
        "id": "Ic46yk3TFto2",
        "outputId": "84580bac-9f26-4816-9eac-074008074dcf"
      },
      "execution_count": null,
      "outputs": [
        {
          "output_type": "stream",
          "name": "stdout",
          "text": [
            "['Hello', 'World!']\n"
          ]
        }
      ]
    },
    {
      "cell_type": "markdown",
      "source": [
        "## **String Interpolation**\n",
        "String Interpolation is the process of substituting(replacing) values of variables into placeholders in a string."
      ],
      "metadata": {
        "id": "E1xLCjs4HT6_"
      }
    },
    {
      "cell_type": "code",
      "source": [
        "# F-strings\n",
        "# we can combine strings and numbers by using f-strings or the format() method!\n",
        "age = 36\n",
        "txt = \"My name is John, and I am {}\"\n",
        "print(txt.format(age))\n",
        "\n"
      ],
      "metadata": {
        "colab": {
          "base_uri": "https://localhost:8080/"
        },
        "id": "xIVH-Ol4GMOW",
        "outputId": "a80df92a-cded-402f-d273-4275c3e89cc3"
      },
      "execution_count": null,
      "outputs": [
        {
          "output_type": "stream",
          "name": "stdout",
          "text": [
            "My name is John, and I am 36\n"
          ]
        }
      ]
    },
    {
      "cell_type": "code",
      "source": [
        "n1 = 'Hello'\n",
        "n2 = 'GeeksforGeeks'\n",
        "\n",
        "# f tells Python to restore the value of two\n",
        "# string variable name and program inside braces {}\n",
        "print(f\"{n1}! This is {n2}\")\n"
      ],
      "metadata": {
        "colab": {
          "base_uri": "https://localhost:8080/"
        },
        "id": "MeHTlB7wIacg",
        "outputId": "cb9ca7f2-5693-4d6f-ee6f-8af7ae919e12"
      },
      "execution_count": null,
      "outputs": [
        {
          "output_type": "stream",
          "name": "stdout",
          "text": [
            "Hello! This is GeeksforGeeks\n"
          ]
        }
      ]
    },
    {
      "cell_type": "code",
      "source": [
        "# Placeholders and Modifiers\n",
        "# A placeholder can contain variables, operations, functions, and modifiers to format the value.\n",
        "price = 49\n",
        "txt = \"The price is {} dollars\"\n",
        "print(txt.format(price))"
      ],
      "metadata": {
        "colab": {
          "base_uri": "https://localhost:8080/"
        },
        "id": "nVoNrFvyaPCq",
        "outputId": "62d9e15d-c6d4-4326-db11-74f8a9cf9b4f"
      },
      "execution_count": null,
      "outputs": [
        {
          "output_type": "stream",
          "name": "stdout",
          "text": [
            "The price is 49 dollars\n"
          ]
        }
      ]
    },
    {
      "cell_type": "code",
      "source": [
        "# A placeholder can include a modifier to format the value.\n",
        "# A modifier is included by adding a colon : followed by a legal formatting type, like .2f which means fixed point number with 2 decimals:\n",
        "price = 59\n",
        "txt = f\"The price is {price:.2f} dollars\"\n",
        "print(txt)"
      ],
      "metadata": {
        "id": "ZCuQy01cI8we",
        "colab": {
          "base_uri": "https://localhost:8080/"
        },
        "outputId": "163f6227-a087-4e1f-d33d-4c434670e23d"
      },
      "execution_count": null,
      "outputs": [
        {
          "output_type": "stream",
          "name": "stdout",
          "text": [
            "The price is 59.00 dollars\n"
          ]
        }
      ]
    },
    {
      "cell_type": "markdown",
      "source": [
        "# **String Methods**\n",
        "Python has a set of built-in methods that you can use on strings.\n",
        "\n",
        "Note: All string methods return new values. They do not change the original string."
      ],
      "metadata": {
        "id": "0VZqeZHbeTeZ"
      }
    },
    {
      "cell_type": "code",
      "source": [
        "\"\"\"Method\tDescription\n",
        "capitalize()\tConverts the first character to upper case\n",
        "casefold()\tConverts string into lower case\n",
        "center()\tReturns a centered string\n",
        "count()\tReturns the number of times a specified value occurs in a string\n",
        "encode()\tReturns an encoded version of the string\n",
        "endswith()\tReturns true if the string ends with the specified value\n",
        "expandtabs()\tSets the tab size of the string\n",
        "find()\tSearches the string for a specified value and returns the position of where it was found\n",
        "format()\tFormats specified values in a string\n",
        "format_map()\tFormats specified values in a string\n",
        "index()\tSearches the string for a specified value and returns the position of where it was found\n",
        "isalnum()\tReturns True if all characters in the string are alphanumeric\n",
        "isalpha()\tReturns True if all characters in the string are in the alphabet\n",
        "isascii()\tReturns True if all characters in the string are ascii characters\n",
        "isdecimal()\tReturns True if all characters in the string are decimals\n",
        "isdigit()\tReturns True if all characters in the string are digits\n",
        "isidentifier()\tReturns True if the string is an identifier\n",
        "islower()\tReturns True if all characters in the string are lower case\n",
        "isnumeric()\tReturns True if all characters in the string are numeric\n",
        "isprintable()\tReturns True if all characters in the string are printable\n",
        "isspace()\tReturns True if all characters in the string are whitespaces\n",
        "istitle()\tReturns True if the string follows the rules of a title\n",
        "isupper()\tReturns True if all characters in the string are upper case\n",
        "join()\tJoins the elements of an iterable to the end of the string\n",
        "ljust()\tReturns a left justified version of the string\n",
        "lower()\tConverts a string into lower case\n",
        "lstrip()\tReturns a left trim version of the string\n",
        "maketrans()\tReturns a translation table to be used in translations\n",
        "partition()\tReturns a tuple where the string is parted into three parts\n",
        "replace()\tReturns a string where a specified value is replaced with a specified value\n",
        "rfind()\tSearches the string for a specified value and returns the last position of where it was found\n",
        "rindex()\tSearches the string for a specified value and returns the last position of where it was found\n",
        "rjust()\tReturns a right justified version of the string\n",
        "rpartition()\tReturns a tuple where the string is parted into three parts\n",
        "rsplit()\tSplits the string at the specified separator, and returns a list\n",
        "rstrip()\tReturns a right trim version of the string\n",
        "split()\tSplits the string at the specified separator, and returns a list\n",
        "splitlines()\tSplits the string at line breaks and returns a list\n",
        "startswith()\tReturns true if the string starts with the specified value\n",
        "strip()\tReturns a trimmed version of the string\n",
        "swapcase()\tSwaps cases, lower case becomes upper case and vice versa\n",
        "title()\tConverts the first character of each word to upper case\n",
        "translate()\tReturns a translated string\n",
        "upper()\tConverts a string into upper case\n",
        "zfill()\tFills the string with a specified number of 0 values at the beginning\"\"\""
      ],
      "metadata": {
        "colab": {
          "base_uri": "https://localhost:8080/",
          "height": 139
        },
        "id": "RF84MH6gePVh",
        "outputId": "c8306264-e8e5-4e88-8f22-b2d8914b644b"
      },
      "execution_count": null,
      "outputs": [
        {
          "output_type": "execute_result",
          "data": {
            "text/plain": [
              "'Method\\tDescription\\ncapitalize()\\tConverts the first character to upper case\\ncasefold()\\tConverts string into lower case\\ncenter()\\tReturns a centered string\\ncount()\\tReturns the number of times a specified value occurs in a string\\nencode()\\tReturns an encoded version of the string\\nendswith()\\tReturns true if the string ends with the specified value\\nexpandtabs()\\tSets the tab size of the string\\nfind()\\tSearches the string for a specified value and returns the position of where it was found\\nformat()\\tFormats specified values in a string\\nformat_map()\\tFormats specified values in a string\\nindex()\\tSearches the string for a specified value and returns the position of where it was found\\nisalnum()\\tReturns True if all characters in the string are alphanumeric\\nisalpha()\\tReturns True if all characters in the string are in the alphabet\\nisascii()\\tReturns True if all characters in the string are ascii characters\\nisdecimal()\\tReturns True if all characters in the string are decimals\\nisdigit()\\tReturns True if all characters in the string are digits\\nisidentifier()\\tReturns True if the string is an identifier\\nislower()\\tReturns True if all characters in the string are lower case\\nisnumeric()\\tReturns True if all characters in the string are numeric\\nisprintable()\\tReturns True if all characters in the string are printable\\nisspace()\\tReturns True if all characters in the string are whitespaces\\nistitle()\\tReturns True if the string follows the rules of a title\\nisupper()\\tReturns True if all characters in the string are upper case\\njoin()\\tJoins the elements of an iterable to the end of the string\\nljust()\\tReturns a left justified version of the string\\nlower()\\tConverts a string into lower case\\nlstrip()\\tReturns a left trim version of the string\\nmaketrans()\\tReturns a translation table to be used in translations\\npartition()\\tReturns a tuple where the string is parted into three parts\\nreplace()\\tReturns a string where a specified value is replaced with a specified value\\nrfind()\\tSearches the string for a specified value and returns the last position of where it was found\\nrindex()\\tSearches the string for a specified value and returns the last position of where it was found\\nrjust()\\tReturns a right justified version of the string\\nrpartition()\\tReturns a tuple where the string is parted into three parts\\nrsplit()\\tSplits the string at the specified separator, and returns a list\\nrstrip()\\tReturns a right trim version of the string\\nsplit()\\tSplits the string at the specified separator, and returns a list\\nsplitlines()\\tSplits the string at line breaks and returns a list\\nstartswith()\\tReturns true if the string starts with the specified value\\nstrip()\\tReturns a trimmed version of the string\\nswapcase()\\tSwaps cases, lower case becomes upper case and vice versa\\ntitle()\\tConverts the first character of each word to upper case\\ntranslate()\\tReturns a translated string\\nupper()\\tConverts a string into upper case\\nzfill()\\tFills the string with a specified number of 0 values at the beginning'"
            ],
            "application/vnd.google.colaboratory.intrinsic+json": {
              "type": "string"
            }
          },
          "metadata": {},
          "execution_count": 12
        }
      ]
    },
    {
      "cell_type": "code",
      "source": [
        "# Python divides the operators in the following groups:\n",
        "\n",
        "# Arithmetic operators\n",
        "# Assignment operators\n",
        "# Comparison operators\n",
        "# Logical operators\n",
        "# Identity operators\n",
        "# Membership operators\n",
        "# Bitwise operators"
      ],
      "metadata": {
        "id": "tpcYGYzqgNcF"
      },
      "execution_count": null,
      "outputs": []
    },
    {
      "cell_type": "code",
      "source": [
        "# Arithmetic operators\n",
        "a , b = 10 , 5\n",
        "print(a / b)  # Division\n",
        "print(a // b) # Floor division\n",
        "print(a % b)  # Modulus\n",
        "print(a ** b) # Exponentiation"
      ],
      "metadata": {
        "colab": {
          "base_uri": "https://localhost:8080/"
        },
        "id": "8thHmDR2kEnU",
        "outputId": "46350334-85c7-43dc-c987-eb84fe3d8bca"
      },
      "execution_count": null,
      "outputs": [
        {
          "output_type": "stream",
          "name": "stdout",
          "text": [
            "2.0\n",
            "2\n",
            "0\n",
            "100000\n"
          ]
        }
      ]
    },
    {
      "cell_type": "code",
      "source": [
        "# Comparison Operators.\n",
        "# Comparison operators are used to compare two values.\n",
        "'''\n",
        "==\tEqual\tx == y\n",
        "!=\tNot equal\tx != y\n",
        ">\tGreater than\tx > y\n",
        "<\tLess than\tx < y\n",
        ">=\tGreater than or equal to\tx >= y\n",
        "<=\tLess than or equal to\tx <= y '''"
      ],
      "metadata": {
        "id": "c-VaQuZaRig8"
      },
      "execution_count": null,
      "outputs": []
    },
    {
      "cell_type": "code",
      "source": [
        "# Logical Operator\n",
        "# Logical operators are used to combine conditional statements.\n",
        "# and - Returns True if both the statements are true. (x < 5 and  x < 10)\n",
        "# or - Returns True if one of the values are same. x < 5 or x < 4\n",
        "# not - Reverse the result, returns False if the result is true. not(x < 5 and x < 10)"
      ],
      "metadata": {
        "id": "-8Db-PAlRiTi"
      },
      "execution_count": null,
      "outputs": []
    },
    {
      "cell_type": "markdown",
      "source": [
        "# **Lists**\n",
        "A list is a data structure in Python that is a mutable, or changeable, ordered sequence of elements.It can be written as a list of comma-separated values (items) between square brackets."
      ],
      "metadata": {
        "id": "hL8EbY505Rzo"
      }
    },
    {
      "cell_type": "code",
      "source": [
        "list = [\"a\",1,2,3,4,5,'C'] # Lists might contain items of different types, but usually the items have all have the same type.\n",
        "print(type(list))\n",
        "#lists also supports concatenation.\n",
        "list + [6,7,8]\n",
        "#Unlike strings are immutable, lists are mutable so it can be changeable.\n",
        "list[0] = 'A'\n",
        "print(list)"
      ],
      "metadata": {
        "colab": {
          "base_uri": "https://localhost:8080/"
        },
        "id": "I2pt8eP64fBF",
        "outputId": "f1338d78-1510-449a-fad1-7ed17b3c95d9"
      },
      "execution_count": null,
      "outputs": [
        {
          "output_type": "stream",
          "name": "stdout",
          "text": [
            "<class 'list'>\n",
            "['A', 1, 2, 3, 4, 5, 'C']\n"
          ]
        }
      ]
    },
    {
      "cell_type": "code",
      "source": [
        "\"\"\"When you assign a list to a variable, the variable refers to the existing list. Any changes you make to the list through one variable will be seen through all other variables that refer to it\"\"\"\n",
        "rgb = ['Red','Green','Blue']\n",
        "rgba = []\n",
        "rgb = rgba\n",
        "if rgb == rgba:\n",
        "  print(\"same\")\n",
        "else:\n",
        "  print(\"not same\")\n"
      ],
      "metadata": {
        "colab": {
          "base_uri": "https://localhost:8080/"
        },
        "id": "pLIODNmf42TY",
        "outputId": "88ad0f4a-3ae4-4623-91a0-b82c25fde205"
      },
      "execution_count": null,
      "outputs": [
        {
          "output_type": "stream",
          "name": "stdout",
          "text": [
            "same\n"
          ]
        }
      ]
    },
    {
      "cell_type": "code",
      "source": [
        "#Assignment to slices is also possible, and this can even change the size of the list or clear it entirely:\n",
        "wordings = ['a','b','c','d','e']\n",
        "wordings[2:4] = ['C','D']\n",
        "print(wordings)"
      ],
      "metadata": {
        "colab": {
          "base_uri": "https://localhost:8080/"
        },
        "id": "vpvEp3D08GM6",
        "outputId": "81212a2b-4d00-467d-d54f-5183d917d01c"
      },
      "execution_count": null,
      "outputs": [
        {
          "output_type": "stream",
          "name": "stdout",
          "text": [
            "['a', 'b', 'C', 'D', 'e']\n"
          ]
        }
      ]
    },
    {
      "cell_type": "code",
      "source": [
        "#It is possible to nest lists (create lists containing other lists).\n",
        "a = ['a','b','c']\n",
        "n = [1,2,3]\n",
        "x = [a,n]\n",
        "print(x)\n",
        "print(x[0])\n",
        "print(x[1][0])"
      ],
      "metadata": {
        "colab": {
          "base_uri": "https://localhost:8080/"
        },
        "id": "hYpgVJ1GEx0q",
        "outputId": "0a79ea12-6222-4d72-82bf-2c8f2c2201e4"
      },
      "execution_count": null,
      "outputs": [
        {
          "output_type": "stream",
          "name": "stdout",
          "text": [
            "[['a', 'b', 'c'], [1, 2, 3]]\n",
            "['a', 'b', 'c']\n",
            "1\n"
          ]
        }
      ]
    },
    {
      "cell_type": "markdown",
      "source": [
        "# **Python Collections (Arrays)**\n",
        "There are four collection data types in the Python programming language:\n",
        "\n",
        "**List** is a collection which is ordered, changeable and Indexed. Allows duplicate members.\n",
        "\n",
        "**Tuple** is a collection which is ordered and unchangeable. Allows duplicate members.\n",
        "\n",
        "**Set** is a collection which is unordered, unchangeable*, and unindexed.\n",
        "No duplicate members.\n",
        "\n",
        "**Dictionary** is a collection which is ordered** and changeable. No duplicate members."
      ],
      "metadata": {
        "id": "CugdkPtHdLmx"
      }
    },
    {
      "cell_type": "code",
      "source": [
        "thislist = [\"apple\", \"banana\", \"cherry\"]\n",
        "if \"apple\" in thislist:\n",
        "  print(\"Yes, 'apple' is in the fruits list\")"
      ],
      "metadata": {
        "id": "HuXNaIIMigCF",
        "colab": {
          "base_uri": "https://localhost:8080/"
        },
        "outputId": "72c41c9c-c3b0-4df0-e231-ecf4ef8c22de"
      },
      "execution_count": null,
      "outputs": [
        {
          "output_type": "stream",
          "name": "stdout",
          "text": [
            "Yes, 'apple' is in the fruits list\n"
          ]
        }
      ]
    },
    {
      "cell_type": "markdown",
      "source": [
        "# **List comprehension**\n",
        "List comprehension offers a shorter syntax when you want to create a new list based on the values of an existing list.\n",
        "# The syntax\n",
        "newlist = [expression for item in iterable if condition == True]"
      ],
      "metadata": {
        "id": "JK_VuQ6QimwJ"
      }
    },
    {
      "cell_type": "code",
      "source": [
        "# list comprehension\n",
        "\"\"\"veggies = ['corriander','mustard','reddish','carrot','cabbage']\n",
        "newlist = [x for x in veggies if x != 'reddish']\n",
        "print(newlist)\"\"\"\n",
        "\n",
        "veggies = ['corriander','mustard','reddish','carrot','cabbage']\n",
        "newlist = []\n",
        "for x in veggies:\n",
        "  if x != 'reddish':\n",
        "    newlist.append(x)\n",
        "print(newlist)"
      ],
      "metadata": {
        "colab": {
          "base_uri": "https://localhost:8080/"
        },
        "id": "7wiBYjl92mFY",
        "outputId": "16ef80d0-5457-40d6-c2e8-d7f51485f71a"
      },
      "execution_count": null,
      "outputs": [
        {
          "output_type": "stream",
          "name": "stdout",
          "text": [
            "['corriander', 'mustard', 'carrot', 'cabbage']\n"
          ]
        }
      ]
    },
    {
      "cell_type": "code",
      "source": [
        "fruits = [\"apple\", \"banana\", \"cherry\", \"kiwi\", \"mango\"]\n",
        "newlist = [x for x in fruits if x =\"apple\"]\n",
        "print(newlist)\n",
        "\"\"\"newlist = []\n",
        "for x in fruits:\n",
        "\tif \"apple\" in x:\n",
        "\t\tnewlist.append(x)\n",
        "print(newlist)\"\"\""
      ],
      "metadata": {
        "colab": {
          "base_uri": "https://localhost:8080/",
          "height": 52
        },
        "id": "6ihDJdT_3RCD",
        "outputId": "f154a1ed-de91-4bf8-e5d4-bc920d9d4474"
      },
      "execution_count": null,
      "outputs": [
        {
          "output_type": "stream",
          "name": "stdout",
          "text": [
            "['banana', 'cherry', 'kiwi', 'mango']\n"
          ]
        },
        {
          "output_type": "execute_result",
          "data": {
            "text/plain": [
              "'newlist = []\\nfor x in fruits: \\n\\tif \"apple\" in x:\\n\\t\\tnewlist.append(x)\\nprint(newlist)'"
            ],
            "application/vnd.google.colaboratory.intrinsic+json": {
              "type": "string"
            }
          },
          "metadata": {},
          "execution_count": 34
        }
      ]
    },
    {
      "cell_type": "code",
      "source": [
        "# sort -Lists object have a sort() method that will sort the list alphanumerically ascending, by default. This method is case sensitive.\n",
        "numbers = [9,8,7,6,5,4,3,2]\n",
        "numbers.sort()\n",
        "print(numbers)\n",
        "# for sort descending use reverse = True.\n",
        "numbers.sort(reverse = True)\n",
        "print(numbers)"
      ],
      "metadata": {
        "id": "yzWtph0ySyx5",
        "colab": {
          "base_uri": "https://localhost:8080/"
        },
        "outputId": "7a1c3d4a-1659-4c2f-d0aa-cc049e794702"
      },
      "execution_count": null,
      "outputs": [
        {
          "output_type": "stream",
          "name": "stdout",
          "text": [
            "[2, 3, 4, 5, 6, 7, 8, 9]\n",
            "[9, 8, 7, 6, 5, 4, 3, 2]\n"
          ]
        }
      ]
    },
    {
      "cell_type": "code",
      "source": [
        "# Use key = str.lower function to sort the list to sort the case-insensitive(lower to upper case order).\n",
        "thislist = [\"Banana\", \"Orange\", \"Kiwi\", \"cherry\"]\n",
        "thislist.sort(key = str.lower)\n",
        "print(thislist)"
      ],
      "metadata": {
        "colab": {
          "base_uri": "https://localhost:8080/"
        },
        "id": "v_ijJkhBbFw8",
        "outputId": "fd4611d2-4aaf-4dfc-a9e3-49a2c209768f"
      },
      "execution_count": null,
      "outputs": [
        {
          "output_type": "stream",
          "name": "stdout",
          "text": [
            "['Banana', 'cherry', 'Kiwi', 'Orange']\n"
          ]
        }
      ]
    },
    {
      "cell_type": "code",
      "source": [
        "# Make a copy of a list use copy() Method.\n",
        "thelst = ['apple','banana','cherry']\n",
        "mylst = thelst.copy()\n",
        "print(mylst)\n",
        "\n",
        "# Note: If we pur mylst = thelst.It is consider as referencing not a copy."
      ],
      "metadata": {
        "colab": {
          "base_uri": "https://localhost:8080/"
        },
        "id": "m_T72zOmg4-o",
        "outputId": "c65d6363-9b6c-4cf6-ce73-15d317aa45ed"
      },
      "execution_count": null,
      "outputs": [
        {
          "output_type": "stream",
          "name": "stdout",
          "text": [
            "['apple', 'banana', 'cherry']\n"
          ]
        }
      ]
    },
    {
      "cell_type": "code",
      "source": [
        "# Join Two list\n",
        "# 1st step to concatenate by using + operator.\n",
        "a1 = ['a','b','c']\n",
        "a2 = [1,2,3]\n",
        "a3 = a1 + a2\n",
        "print(a3)\n",
        "# 2nd step to concatenate by using extend() method.\n",
        "a1 = ['a','b','c']\n",
        "a2 = [1,2,3]\n",
        "a1.extend(a2)\n",
        "print(a1)\n",
        "# 3rd step is by append the lists.\n",
        "a1 = ['a','b','c']\n",
        "a2 = [1,2,3]\n",
        "for x in a2:\n",
        "  a1.append(x)\n",
        "  print(a1)"
      ],
      "metadata": {
        "colab": {
          "base_uri": "https://localhost:8080/"
        },
        "id": "qLcmdbW3p8Ny",
        "outputId": "90fec2d9-e8ef-4039-9734-1c16220d4e13"
      },
      "execution_count": null,
      "outputs": [
        {
          "output_type": "stream",
          "name": "stdout",
          "text": [
            "['a', 'b', 'c', 1, 2, 3]\n",
            "['a', 'b', 'c', 1, 2, 3]\n",
            "['a', 'b', 'c', 1]\n",
            "['a', 'b', 'c', 1, 2]\n",
            "['a', 'b', 'c', 1, 2, 3]\n"
          ]
        }
      ]
    },
    {
      "cell_type": "code",
      "source": [
        "# How to remove duplicate using list comprehension\n",
        "a=[1,2,3,2,5,6,1,2]\n",
        "b=[]\n",
        "[b.append(x) for x in a if x not in b]\n",
        "print(b)"
      ],
      "metadata": {
        "colab": {
          "base_uri": "https://localhost:8080/"
        },
        "id": "RabepP_sJe52",
        "outputId": "14b349d9-6ca9-4ecc-dd6e-44d4d03257d6"
      },
      "execution_count": null,
      "outputs": [
        {
          "output_type": "stream",
          "name": "stdout",
          "text": [
            "[1, 2, 3, 5, 6]\n"
          ]
        }
      ]
    },
    {
      "cell_type": "code",
      "source": [
        "b=[]  #[1,2,3,5,6]\n",
        "for i in a:\n",
        "  if i not in b:\n",
        "    b.append(i)\n",
        "print(b)"
      ],
      "metadata": {
        "colab": {
          "base_uri": "https://localhost:8080/"
        },
        "id": "rXitGZKpb_Qn",
        "outputId": "c5c020ba-cdd5-4eb1-8583-65b10a0accf6"
      },
      "execution_count": null,
      "outputs": [
        {
          "output_type": "stream",
          "name": "stdout",
          "text": [
            "[1, 2, 3, 5, 6]\n"
          ]
        }
      ]
    },
    {
      "cell_type": "code",
      "source": [],
      "metadata": {
        "id": "F-4WkgzJkL4s"
      },
      "execution_count": null,
      "outputs": []
    },
    {
      "cell_type": "markdown",
      "source": [
        "## **Tuples**\n",
        "Tuples are immutable and enclosed by parenthesis(). Tuples are used to store multiple items in a single variable. It is ordered, indexed and allow duplicates.\n"
      ],
      "metadata": {
        "id": "3zBSdmgKrtRT"
      }
    },
    {
      "cell_type": "code",
      "source": [
        "# Accessing tuples in indexed method.\n",
        "thistuple = (\"apple\", \"banana\", \"cherry\")\n",
        "print(thistuple[1])\n",
        "# Tuple allows duplicates.\n",
        "thistuple = (\"apple\", \"banana\", \"cherry\", \"apple\", \"cherry\")\n",
        "print(thistuple)\n",
        "# Tuples are unchangeable but we can add or remove the values by converting it into the list and back to tuple.\n",
        "#thistuple[0] = 'A' # It throws an error because of it is immutable or unchangeable.\n",
        "thistuples = list(thistuple)\n",
        "thistuples.append('A')\n",
        "thistuple = tuple(thistuples)\n",
        "print(thistuples)"
      ],
      "metadata": {
        "colab": {
          "base_uri": "https://localhost:8080/"
        },
        "id": "4ZNKWtRaqShE",
        "outputId": "2325bd71-a656-4c87-ecaa-5217befdcacc"
      },
      "execution_count": null,
      "outputs": [
        {
          "output_type": "stream",
          "name": "stdout",
          "text": [
            "banana\n",
            "('apple', 'banana', 'cherry', 'apple', 'cherry')\n",
            "['apple', 'banana', 'cherry', 'apple', 'cherry', 'A']\n"
          ]
        }
      ]
    },
    {
      "cell_type": "code",
      "source": [
        "# Packing a tuples\n",
        "# when we create a tuple. we normally assign a values to it. this is called 'packing' a tuple.\n",
        "fruits = \"apple\", \"banana\", \"cherry\"\n",
        "# Unpacking a tuples.\n",
        "# But, in Python, we are also allowed to extract the values back into variables. This is called \"unpacking\":\n",
        "fruits = (\"apple\", \"banana\", \"cherry\")\n",
        "(green, yellow, red) = fruits\n",
        "print(green)\n",
        "print(yellow)\n",
        "print(red)"
      ],
      "metadata": {
        "colab": {
          "base_uri": "https://localhost:8080/"
        },
        "id": "AcFK2sHJtVL_",
        "outputId": "9235910d-9c36-4521-a5db-f5e291df2430"
      },
      "execution_count": null,
      "outputs": [
        {
          "output_type": "stream",
          "name": "stdout",
          "text": [
            "apple\n",
            "banana\n",
            "cherry\n"
          ]
        }
      ]
    },
    {
      "cell_type": "code",
      "source": [
        "# Using Asterisk*\n",
        "# If the number of variables is less than the number of values, you can add an * to the variable name and the values will be assigned to the variable as a list:\n",
        "fruits = ('apple','banana','cherry')\n",
        "(green,yellow,*red) = fruits  #So, in red using * all the values assigned to it.\n",
        "print(green)\n",
        "print(fruits)\n",
        "print(red)"
      ],
      "metadata": {
        "colab": {
          "base_uri": "https://localhost:8080/"
        },
        "id": "V5SX-6ch2Fn3",
        "outputId": "e866627c-f16d-488f-8a19-76927ae54b70"
      },
      "execution_count": null,
      "outputs": [
        {
          "output_type": "stream",
          "name": "stdout",
          "text": [
            "apple\n",
            "('apple', 'banana', 'cherry')\n",
            "['cherry']\n"
          ]
        }
      ]
    },
    {
      "cell_type": "code",
      "source": [
        "ttp = (\"apple\",\"banana\",\"cherry\")\n",
        "ttp1 = [] # The append() method appends an element to the end of the list not in tuple.\n",
        "for x in ttp:\n",
        "  ttp1.append(x)\n",
        "print(ttp1)"
      ],
      "metadata": {
        "id": "KKRrk0NC2l74"
      },
      "execution_count": null,
      "outputs": []
    },
    {
      "cell_type": "code",
      "source": [
        "ttp = (\"apple\",\"banana\",\"cherry\")\n",
        "ttp1 = []\n",
        "ttp2 = [ttp1.append(x) for x in ttp if x==\"cherry\" or x==\"Cherry\"]\n",
        "print(ttp1)"
      ],
      "metadata": {
        "colab": {
          "base_uri": "https://localhost:8080/"
        },
        "id": "gt7_X6VHHUBH",
        "outputId": "88d30f44-e7ef-4653-95c9-a381d655bbdc"
      },
      "execution_count": null,
      "outputs": [
        {
          "output_type": "stream",
          "name": "stdout",
          "text": [
            "['cherry']\n"
          ]
        }
      ]
    },
    {
      "cell_type": "code",
      "source": [
        "# Loop through the tuples by using index number\n",
        "ttp = (\"apple\",\"banana\",\"cherry\")\n",
        "for i in range(len(ttp)):\n",
        "  print(ttp[i])\n",
        "\n",
        "# Using a while loop\n",
        "ttp = (\"apple\",\"banana\",\"cherry\")\n",
        "print(len(ttp))\n",
        "i = 0\n",
        "while i < len(ttp):\n",
        "  print(ttp[i])\n",
        "  i = i + 1"
      ],
      "metadata": {
        "colab": {
          "base_uri": "https://localhost:8080/"
        },
        "id": "VH-lFqxW5rSr",
        "outputId": "9ba1472f-2f9d-4abc-a6c6-53dfe27388c4"
      },
      "execution_count": null,
      "outputs": [
        {
          "output_type": "stream",
          "name": "stdout",
          "text": [
            "apple\n",
            "banana\n",
            "cherry\n",
            "3\n",
            "apple\n",
            "banana\n",
            "cherry\n"
          ]
        }
      ]
    },
    {
      "cell_type": "markdown",
      "source": [
        "# **set{}**\n",
        "sets are unordered collection of elements and it does not accept duplicate elements.It is separated by commas and enclosed by curly braces{}.we cannot retrieve the elements using indexing and slicing operations.set{} can be modified but frozenset{} cannot be modified. update() and remove() methods will not work on frozenset since they cannot be modified.\n"
      ],
      "metadata": {
        "id": "dOyB_kXxYgoD"
      }
    },
    {
      "cell_type": "code",
      "source": [
        "# Program to convert the string into set.\n",
        "ch = (\"Hello\")\n",
        "print(set(ch))"
      ],
      "metadata": {
        "id": "TGvgqfPnd9rc",
        "colab": {
          "base_uri": "https://localhost:8080/"
        },
        "outputId": "7a18b5c3-82ec-4533-9471-1e7c41d45da3"
      },
      "execution_count": null,
      "outputs": [
        {
          "output_type": "stream",
          "name": "stdout",
          "text": [
            "{'o', 'l', 'e', 'H'}\n"
          ]
        }
      ]
    },
    {
      "cell_type": "code",
      "source": [
        "fs = frozenset(ch)\n",
        "print(fs)"
      ],
      "metadata": {
        "colab": {
          "base_uri": "https://localhost:8080/"
        },
        "id": "Sy5MQsOhbt2P",
        "outputId": "2693d777-5b51-4f7f-b6f0-a2bedd2eca6e"
      },
      "execution_count": null,
      "outputs": [
        {
          "output_type": "stream",
          "name": "stdout",
          "text": [
            "frozenset({'o', 'l', 'e', 'H'})\n"
          ]
        }
      ]
    },
    {
      "cell_type": "markdown",
      "source": [
        "# **if-else statement**\n",
        "If-Else statements are fundamental, providing a way to execute different blocks of code based on specific conditions.\n",
        "\n"
      ],
      "metadata": {
        "id": "iBEts9KofY5_"
      }
    },
    {
      "cell_type": "code",
      "source": [
        "num = 4\n",
        "if num % 3 == 0:\n",
        "  if num % 5 == 0:\n",
        "    print(\"Zip\")\n",
        "  else:\n",
        "    print(\"Zap\")\n",
        "elif num % 5 == 0:\n",
        "  print(\"Zoom\")\n",
        "else:\n",
        "  print(\"Invalid\")"
      ],
      "metadata": {
        "colab": {
          "base_uri": "https://localhost:8080/"
        },
        "id": "prgarLu-i98P",
        "outputId": "2a9d0be1-fdee-4aa9-dddf-6d370ca73f43"
      },
      "execution_count": null,
      "outputs": [
        {
          "output_type": "stream",
          "name": "stdout",
          "text": [
            "Invalid\n"
          ]
        }
      ]
    },
    {
      "cell_type": "code",
      "source": [
        "num =2\n",
        "if num % 3 == 0 and num % 5 == 0:\n",
        "  print(\"Zip\")\n",
        "elif num % 5 == 0:\n",
        "  print(\"Zoom\")\n",
        "else:\n",
        "  print(\"Invalid\")"
      ],
      "metadata": {
        "id": "HM8gtmv1-Aix"
      },
      "execution_count": null,
      "outputs": []
    },
    {
      "cell_type": "markdown",
      "source": [
        "# **elif**\n",
        "As soon as one of the conditions controlling the if is true, the statement associated with that if is executed, and the rest of the ladder is bypassed. If none of the conditions is true, then the final “else” statement will be executed."
      ],
      "metadata": {
        "id": "IN_1Xn-bhsti"
      }
    },
    {
      "cell_type": "code",
      "source": [
        "number=int(input(\"Enter the number : \"))\n",
        "print(\"The number is : \",number)\n",
        "if(number%3==0 and number%5==0):\n",
        "  print(\"Zoom\")\n",
        "elif(number%3==0):\n",
        "  print(\"Zip\")\n",
        "elif(number%5==0):\n",
        "  print(\"Zap\")\n",
        "else:\n",
        "  print(\"Invalid\")"
      ],
      "metadata": {
        "colab": {
          "base_uri": "https://localhost:8080/"
        },
        "id": "stB_XoqFAlNh",
        "outputId": "6f2158dc-418b-486f-a629-4dd6f420f6fb"
      },
      "execution_count": null,
      "outputs": [
        {
          "output_type": "stream",
          "name": "stdout",
          "text": [
            "Enter the number : 50\n",
            "The number is :  50\n",
            "Zap\n"
          ]
        }
      ]
    },
    {
      "cell_type": "code",
      "source": [
        "num1=10\n",
        "num2=20\n",
        "num3=30\n",
        "if(num1>num2):\n",
        "    if(num1>num3):\n",
        "        print(\"num1 is greater\")\n",
        "    else:\n",
        "        print(\"num3 is greater\")\n",
        "elif(num2>num3):\n",
        "    print(\"num2 is greater\")\n",
        "else:\n",
        "    print(\"num3 is greater\")\n"
      ],
      "metadata": {
        "colab": {
          "base_uri": "https://localhost:8080/"
        },
        "id": "oBpUPl7jnlN6",
        "outputId": "dd7dd122-615a-4421-a1ec-68d58ca00a3b"
      },
      "execution_count": null,
      "outputs": [
        {
          "output_type": "stream",
          "name": "stdout",
          "text": [
            "num3 is greater\n"
          ]
        }
      ]
    },
    {
      "cell_type": "markdown",
      "source": [
        "# **while loop**\n",
        "While Loop is used to execute a block of statements repeatedly until a given condition is satisfied. When the condition becomes false, the line immediately after the loop in the program is executed."
      ],
      "metadata": {
        "id": "jOduPWKrh9M7"
      }
    },
    {
      "cell_type": "code",
      "source": [
        "# Program for Sum of the digits of a given number using while loop.\n",
        "sum=0\n",
        "num=int(input(\"Enter the number : \"))\n",
        "print(\"The number is \",num)\n",
        "while(num>0):\n",
        "  rem=int(num%10)\n",
        "  num=int(num/10)\n",
        "  sum=sum+rem\n",
        "  print(\"Sum of digits of number : \",sum)"
      ],
      "metadata": {
        "colab": {
          "base_uri": "https://localhost:8080/"
        },
        "id": "AtJgksW7Ar1O",
        "outputId": "0ee22f06-6714-4066-d1b1-604cd8ff792e"
      },
      "execution_count": null,
      "outputs": [
        {
          "output_type": "stream",
          "name": "stdout",
          "text": [
            "Enter the number : 1234\n",
            "The number is  1234\n",
            "Sum of digits of number :  4\n",
            "Sum of digits of number :  7\n",
            "Sum of digits of number :  9\n",
            "Sum of digits of number :  10\n"
          ]
        }
      ]
    },
    {
      "cell_type": "code",
      "source": [
        "num=123\n",
        "sum=0\n",
        "while(num>0):\n",
        "  rem=num%10\n",
        "  sum+=rem\n",
        "  num=num//10\n",
        "  print(sum)"
      ],
      "metadata": {
        "colab": {
          "base_uri": "https://localhost:8080/"
        },
        "id": "6f1xwvDvmAZv",
        "outputId": "7eff0eb9-0e14-4ddc-b6ff-6bfbb88a5ac3"
      },
      "execution_count": null,
      "outputs": [
        {
          "output_type": "stream",
          "name": "stdout",
          "text": [
            "3\n",
            "5\n",
            "6\n"
          ]
        }
      ]
    },
    {
      "cell_type": "code",
      "source": [
        "count = 0\n",
        "while (count < 3):\n",
        "    count = count + 1\n",
        "    print(\"Hello Geek\")"
      ],
      "metadata": {
        "colab": {
          "base_uri": "https://localhost:8080/"
        },
        "id": "omhMM-fU7BCH",
        "outputId": "5dc48047-19b9-4257-abe9-5c14a51c49ce"
      },
      "execution_count": null,
      "outputs": [
        {
          "output_type": "stream",
          "name": "stdout",
          "text": [
            "Hello Geek\n",
            "Hello Geek\n",
            "Hello Geek\n"
          ]
        }
      ]
    },
    {
      "cell_type": "code",
      "source": [
        "def getSum(n):\n",
        "\n",
        "    sum = 0\n",
        "    while (n != 0):\n",
        "\n",
        "        sum = sum + int(n % 10)\n",
        "        n = int(n//10)\n",
        "\n",
        "    return sum\n",
        "\n",
        "\n",
        "n = 123\n",
        "print(getSum(n))"
      ],
      "metadata": {
        "colab": {
          "base_uri": "https://localhost:8080/"
        },
        "id": "IP0n57KOm2i3",
        "outputId": "bb97dfd7-5b10-459b-8bb2-ab058e2ae812"
      },
      "execution_count": null,
      "outputs": [
        {
          "output_type": "stream",
          "name": "stdout",
          "text": [
            "6\n"
          ]
        }
      ]
    },
    {
      "cell_type": "code",
      "source": [
        "Num = 0\n",
        "while(Num<=10):\n",
        "  print(Num)\n",
        "  Num+=1\n",
        "else:\n",
        "  print(\"done\")\n"
      ],
      "metadata": {
        "colab": {
          "base_uri": "https://localhost:8080/"
        },
        "id": "dBA4VzvNuLxj",
        "outputId": "bbc9a26f-9342-4b05-b9c6-49e2045c728c"
      },
      "execution_count": null,
      "outputs": [
        {
          "output_type": "stream",
          "name": "stdout",
          "text": [
            "0\n",
            "1\n",
            "2\n",
            "3\n",
            "4\n",
            "5\n",
            "6\n",
            "7\n",
            "8\n",
            "9\n",
            "10\n",
            "done\n"
          ]
        }
      ]
    },
    {
      "cell_type": "code",
      "source": [
        "x=1\n",
        "while x <=10:\n",
        "  print(x)\n",
        "  x+=1\n",
        "  print(\"end\")"
      ],
      "metadata": {
        "colab": {
          "base_uri": "https://localhost:8080/"
        },
        "id": "vkzg9ysg3gLZ",
        "outputId": "10c3f60f-37b4-4b22-f393-8f55a5249307"
      },
      "execution_count": null,
      "outputs": [
        {
          "output_type": "stream",
          "name": "stdout",
          "text": [
            "1\n",
            "end\n",
            "2\n",
            "end\n",
            "3\n",
            "end\n",
            "4\n",
            "end\n",
            "5\n",
            "end\n",
            "6\n",
            "end\n",
            "7\n",
            "end\n",
            "8\n",
            "end\n",
            "9\n",
            "end\n",
            "10\n",
            "end\n"
          ]
        }
      ]
    },
    {
      "cell_type": "code",
      "source": [
        "# Write a program to display even number between M and N\n",
        "M,N = [int (i) for i in input(\"Enter the min and max number:\").split(',')]\n",
        "x = M\n",
        "if x % 2 != 0:\n",
        "  x += 1\n",
        "while x >=M and x<=N:\n",
        "  print(x)\n",
        "  x +=2"
      ],
      "metadata": {
        "id": "0pEGRiWz33VJ",
        "colab": {
          "base_uri": "https://localhost:8080/"
        },
        "outputId": "2664deed-5942-4fe3-dcaa-131e7a46fa6d"
      },
      "execution_count": null,
      "outputs": [
        {
          "output_type": "stream",
          "name": "stdout",
          "text": [
            "Enter the min and max number:10,20\n",
            "10\n",
            "12\n",
            "14\n",
            "16\n",
            "18\n",
            "20\n"
          ]
        }
      ]
    },
    {
      "cell_type": "code",
      "source": [
        "a,b = [int(i) for i in input(\"enter the min and max no:\").split(\",\")]\n",
        "x = a\n",
        "if x% 2 != 0:\n",
        "  x +=1\n",
        "while x>=a and x<=b:\n",
        "  print(x)\n",
        "  x+=2\n"
      ],
      "metadata": {
        "id": "HUjHOKOCfHNQ",
        "colab": {
          "base_uri": "https://localhost:8080/"
        },
        "outputId": "2c919126-c5f3-4f86-f8ab-8cca11cea07f"
      },
      "execution_count": null,
      "outputs": [
        {
          "output_type": "stream",
          "name": "stdout",
          "text": [
            "enter the min and max no:11,21\n",
            "12\n",
            "14\n",
            "16\n",
            "18\n",
            "20\n"
          ]
        }
      ]
    },
    {
      "cell_type": "code",
      "source": [
        "# write a program to display and sum of list of number using while loop\n",
        "lst = [10,20,30,40,50]\n",
        "sum = 0\n",
        "i =0\n",
        "while i < len(lst):\n",
        "  print(lst[i])\n",
        "  sum += lst[i]\n",
        "  i += 1\n",
        "print(\"sum of all:\", sum)"
      ],
      "metadata": {
        "colab": {
          "base_uri": "https://localhost:8080/"
        },
        "id": "w3E4RQBPpYEt",
        "outputId": "3abe0d0c-a5c6-4149-df6f-94b67b681c99"
      },
      "execution_count": null,
      "outputs": [
        {
          "output_type": "stream",
          "name": "stdout",
          "text": [
            "10\n",
            "20\n",
            "30\n",
            "40\n",
            "50\n",
            "sum of all: 150\n"
          ]
        }
      ]
    },
    {
      "cell_type": "markdown",
      "source": [
        "#**For Loop**\n",
        "The for loop is useful to iterate over the elements of a sequence.The for loop can work with sequence like string,list,tuple,range etc.\n",
        "# Nested Loops\n",
        "We can write a for loop inside a while loop and a for loop inside a for loop.such loops are called 'nested loops'"
      ],
      "metadata": {
        "id": "eideJGfgU6AP"
      }
    },
    {
      "cell_type": "code",
      "source": [
        "# Write a program to display stars in right-angled triangular form using nested loops.\n",
        "for i in range(1,11):\n",
        "  for j in range(1,i+1):\n",
        "    print('*', end=\" \")\n",
        "  print()\n",
        "\n"
      ],
      "metadata": {
        "colab": {
          "base_uri": "https://localhost:8080/"
        },
        "id": "V_s7L5lDq7rH",
        "outputId": "c043111e-3d77-4216-b80a-2b46b7379730"
      },
      "execution_count": null,
      "outputs": [
        {
          "output_type": "stream",
          "name": "stdout",
          "text": [
            "* \n",
            "* * \n",
            "* * * \n",
            "* * * * \n",
            "* * * * * \n",
            "* * * * * * \n",
            "* * * * * * * \n",
            "* * * * * * * * \n",
            "* * * * * * * * * \n",
            "* * * * * * * * * * \n"
          ]
        }
      ]
    },
    {
      "cell_type": "code",
      "source": [
        "# A python program to display the stars in an equilateral triangular form using a single for loop\n",
        "n = 40\n",
        "for i in range (1,11):\n",
        "  print(' '*n ,end='')\n",
        "  print('* '* i)\n",
        "  n-=1\n"
      ],
      "metadata": {
        "colab": {
          "base_uri": "https://localhost:8080/"
        },
        "id": "infspBQNPs32",
        "outputId": "c1408aa8-0cca-4db3-8fc2-16f51d34017d"
      },
      "execution_count": null,
      "outputs": [
        {
          "output_type": "stream",
          "name": "stdout",
          "text": [
            "                                        * \n",
            "                                       * * \n",
            "                                      * * * \n",
            "                                     * * * * \n",
            "                                    * * * * * \n",
            "                                   * * * * * * \n",
            "                                  * * * * * * * \n",
            "                                 * * * * * * * * \n",
            "                                * * * * * * * * * \n",
            "                               * * * * * * * * * * \n"
          ]
        }
      ]
    },
    {
      "cell_type": "code",
      "source": [
        "n = 40\n",
        "for i in range(1,11):\n",
        "  print(' '*(n-i)+'* '*(i))"
      ],
      "metadata": {
        "colab": {
          "base_uri": "https://localhost:8080/"
        },
        "id": "byRF4RINRBWq",
        "outputId": "63e81099-1634-4394-e17f-cf7046133d01"
      },
      "execution_count": null,
      "outputs": [
        {
          "output_type": "stream",
          "name": "stdout",
          "text": [
            "                                       * \n",
            "                                      * * \n",
            "                                     * * * \n",
            "                                    * * * * \n",
            "                                   * * * * * \n",
            "                                  * * * * * * \n",
            "                                 * * * * * * * \n",
            "                                * * * * * * * * \n",
            "                               * * * * * * * * * \n",
            "                              * * * * * * * * * * \n"
          ]
        }
      ]
    },
    {
      "cell_type": "code",
      "source": [
        "# A python program to display numbers from 1 to 100 in a proper format.\n",
        "for i in range(1,11):\n",
        "  for j in range(1,11):\n",
        "    print('{:4}'.format(i*j) , end =\" \")   #Each column size is 4\n",
        "  print()\n"
      ],
      "metadata": {
        "id": "iK7PAmVktqLb",
        "colab": {
          "base_uri": "https://localhost:8080/"
        },
        "outputId": "6c5d7821-5add-4767-f4c1-6763e324cae9"
      },
      "execution_count": null,
      "outputs": [
        {
          "output_type": "stream",
          "name": "stdout",
          "text": [
            "   1    2    3    4    5    6    7    8    9   10 \n",
            "   2    4    6    8   10   12   14   16   18   20 \n",
            "   3    6    9   12   15   18   21   24   27   30 \n",
            "   4    8   12   16   20   24   28   32   36   40 \n",
            "   5   10   15   20   25   30   35   40   45   50 \n",
            "   6   12   18   24   30   36   42   48   54   60 \n",
            "   7   14   21   28   35   42   49   56   63   70 \n",
            "   8   16   24   32   40   48   56   64   72   80 \n",
            "   9   18   27   36   45   54   63   72   81   90 \n",
            "  10   20   30   40   50   60   70   80   90  100 \n"
          ]
        }
      ]
    },
    {
      "cell_type": "markdown",
      "source": [
        "# **Enumerate function in python**\n",
        "The enumerate function is a built-in function in Python that allows you to loop over a sequence (such as a list, tuple, or string) and get the index and value of each element in the sequence at the same time."
      ],
      "metadata": {
        "id": "-BBuSOtxjywv"
      }
    },
    {
      "cell_type": "code",
      "source": [
        "# Here's a basic example of how it works:\n",
        "# Loop over a list and print the index and value of each element\n",
        "fruits = ['apple', 'banana', 'mango']\n",
        "for index, fruit in enumerate(fruits):\n",
        "    print(index, fruit)"
      ],
      "metadata": {
        "colab": {
          "base_uri": "https://localhost:8080/"
        },
        "id": "d_klxX1JmyZs",
        "outputId": "21b264a4-5fc3-4def-b668-8bb4bcc627f9"
      },
      "execution_count": null,
      "outputs": [
        {
          "output_type": "stream",
          "name": "stdout",
          "text": [
            "0 apple\n",
            "1 banana\n",
            "2 mango\n"
          ]
        }
      ]
    },
    {
      "cell_type": "code",
      "source": [
        "# Changing the start index while using Enumerate function\n",
        "# By default, the enumerate function starts the index at 0, but you can specify a different starting index by passing it as an argument to the enumerate()\n",
        "fruits = [\"apple\",\"banana\",'mango']\n",
        "for index, fruits in enumerate(fruits,start = 1):\n",
        "  print(index,fruits)"
      ],
      "metadata": {
        "colab": {
          "base_uri": "https://localhost:8080/"
        },
        "id": "KjNg4XFfnYz5",
        "outputId": "0d86f915-8b5e-43d6-c60c-2ccf6fa1f282"
      },
      "execution_count": null,
      "outputs": [
        {
          "output_type": "stream",
          "name": "stdout",
          "text": [
            "1 apple\n",
            "2 banana\n",
            "3 mango\n"
          ]
        }
      ]
    },
    {
      "cell_type": "code",
      "source": [
        "\"\"\"s = 'hello'\n",
        "for index, c in enumerate(s):\n",
        "    print(index, c)\"\"\"\n",
        "\n",
        "colors = ('red', 'green', 'blue')\n",
        "for index, color in enumerate(colors):\n",
        "    print(index, color)"
      ],
      "metadata": {
        "colab": {
          "base_uri": "https://localhost:8080/"
        },
        "id": "wu_DbtPDriml",
        "outputId": "89cd14a8-6c70-4996-ae91-eb01cfe821b0"
      },
      "execution_count": null,
      "outputs": [
        {
          "output_type": "stream",
          "name": "stdout",
          "text": [
            "0 red\n",
            "1 green\n",
            "2 blue\n"
          ]
        }
      ]
    },
    {
      "cell_type": "markdown",
      "source": [
        "# The Break statement\n",
        "The break statement can be used inside a for loop or while loop to come out of the loop.When break statement is executed, the python interpreter jumps out of the loop to process the next statement in the program."
      ],
      "metadata": {
        "id": "HJKkeZ57Wa2L"
      }
    },
    {
      "cell_type": "code",
      "source": [
        "x = 10\n",
        "while x >= 1:\n",
        "  print('x= ', x)\n",
        "  x -= 1\n",
        "  if x == 5:\n",
        "    break\n",
        "print(\"Out of loop\")"
      ],
      "metadata": {
        "colab": {
          "base_uri": "https://localhost:8080/"
        },
        "id": "AvcHV64tUEsn",
        "outputId": "879e7b80-48ec-4c30-8632-070d8a7080e3"
      },
      "execution_count": null,
      "outputs": [
        {
          "output_type": "stream",
          "name": "stdout",
          "text": [
            "x=  10\n",
            "x=  9\n",
            "x=  8\n",
            "x=  7\n",
            "x=  6\n",
            "Out of loop\n"
          ]
        }
      ]
    },
    {
      "cell_type": "markdown",
      "source": [
        "# The Continue statement\n",
        "The continue statement is used in a loop to go back to the beginning of the loop.It means, when continue is executed,the next repetition will start.When continue is executed, the subsequent statements in the loop are not executed."
      ],
      "metadata": {
        "id": "3ni3BQKXXrGw"
      }
    },
    {
      "cell_type": "code",
      "source": [
        "# A python program to display numbers from 1 to 5 using continue statement\n",
        "x = 0\n",
        "while x < 10:\n",
        "  x +=1\n",
        "  if x > 5:\n",
        "    continue\n",
        "  print('x =',x)\n",
        "print(\"out of loop\")\n",
        "\n"
      ],
      "metadata": {
        "colab": {
          "base_uri": "https://localhost:8080/"
        },
        "id": "-Up8w-oPXNZT",
        "outputId": "5ee365ed-564a-4c96-ff97-17f70086bfd0"
      },
      "execution_count": null,
      "outputs": [
        {
          "output_type": "stream",
          "name": "stdout",
          "text": [
            "x = 1\n",
            "x = 2\n",
            "x = 3\n",
            "x = 4\n",
            "x = 5\n",
            "out of loop\n"
          ]
        }
      ]
    },
    {
      "cell_type": "markdown",
      "source": [
        "# The Pass statement\n",
        "The pass statement does not do anything. it is used with 'if' statement or inside a loop to represent no operation."
      ],
      "metadata": {
        "id": "AoU4nd33hG6G"
      }
    },
    {
      "cell_type": "code",
      "source": [
        " # A python program to retrieve only negative numbers from a list of numbers.\n",
        " n = [-1,-2,-3,-4,1,2,3]\n",
        " for i in n:\n",
        "  if i > 0:\n",
        "    pass        # pass is a keyword use to skip the block of code or function.\n",
        "  else:\n",
        "    print(i)\n",
        "\n",
        "\n",
        "# pass use to skip the block of code or act as a null statement. A break statement terminates the entire loop\n",
        "# but the continue statement skips only the current iteration and continues with the rest steps"
      ],
      "metadata": {
        "colab": {
          "base_uri": "https://localhost:8080/"
        },
        "id": "y9JX-P-nhGdm",
        "outputId": "afb1202b-2c90-45fa-c844-3072c8d916f7"
      },
      "execution_count": null,
      "outputs": [
        {
          "output_type": "stream",
          "name": "stdout",
          "text": [
            "-1\n",
            "-2\n",
            "-3\n",
            "-4\n"
          ]
        }
      ]
    },
    {
      "cell_type": "markdown",
      "source": [
        "# The assert statement\n",
        "The assert condition is useful to check if a particular condition is fulfilled or not."
      ],
      "metadata": {
        "id": "MZkEo3JLkOqa"
      }
    },
    {
      "cell_type": "code",
      "source": [
        "# An exception is an error that occurs during runtime. To avoid such type of exceptions, we can handle them using 'try...except' statement.\n",
        "# to handle AssertionError raised by assert\n",
        "x = int(input(\"Enter a number greater than 0: \"))\n",
        "try:\n",
        "  assert(x > 0)\n",
        "  print(\"U entered: \",x)\n",
        "except AssertionError:\n",
        "  print(\"wrong input entered\")"
      ],
      "metadata": {
        "colab": {
          "base_uri": "https://localhost:8080/"
        },
        "id": "lf75Sm-dbyF-",
        "outputId": "ffbad945-ed4e-4d6d-b108-31906a0f3cdc"
      },
      "execution_count": null,
      "outputs": [
        {
          "output_type": "stream",
          "name": "stdout",
          "text": [
            "Enter a number greater than 0: 0\n",
            "wrong input entered\n"
          ]
        }
      ]
    },
    {
      "cell_type": "markdown",
      "source": [
        "#The return statement\n",
        "The return statement is used inside a function to return some values to the calling place. when a function does not return anything then we need not write return statement inside the function. The return statement works with function only.\n"
      ],
      "metadata": {
        "id": "HdktcwcWoDdJ"
      }
    },
    {
      "cell_type": "code",
      "source": [
        "#Function to return the product of two numbers.\n",
        "def prod(a,b):\n",
        "  return a*b\n",
        "\n",
        "reslt = prod(5,10)\n",
        "print(\"The product of two number is: \", reslt)\n",
        "\n"
      ],
      "metadata": {
        "colab": {
          "base_uri": "https://localhost:8080/"
        },
        "id": "IhvsvrKglzqU",
        "outputId": "6d62fdf6-a786-46af-f1bc-6104955f7105"
      },
      "execution_count": null,
      "outputs": [
        {
          "output_type": "stream",
          "name": "stdout",
          "text": [
            "The product of two number is:  50\n"
          ]
        }
      ]
    },
    {
      "cell_type": "markdown",
      "source": [
        "# **Match Case statement**\n",
        "A match statement takes an expression and compares its value to successive patterns given as one or more case blocks. case(aka..pattern)."
      ],
      "metadata": {
        "id": "2J0WsZjyrx0n"
      }
    },
    {
      "cell_type": "code",
      "source": [
        "def http_error(status):\n",
        "    match status:\n",
        "        case 400:\n",
        "            return \"Bad request\"\n",
        "        case 404:\n",
        "            return \"Not found\"\n",
        "        case 418:\n",
        "            return \"I'm a teapot\"\n",
        "        case _:\n",
        "            return \"Something's wrong with the internet\"\n",
        "\n",
        "## Note the last block: the “variable name” _ acts as a wildcard and never fails to match. If no case matches, none of the branches is executed.\n",
        "\n",
        "#calling a function.\n",
        "http_error(404)\n"
      ],
      "metadata": {
        "colab": {
          "base_uri": "https://localhost:8080/",
          "height": 35
        },
        "id": "IqxpQr1ssXVd",
        "outputId": "ced239ad-853f-4fdf-f62f-39f8a3ffc6db"
      },
      "execution_count": null,
      "outputs": [
        {
          "output_type": "execute_result",
          "data": {
            "text/plain": [
              "'Not allowed'"
            ],
            "application/vnd.google.colaboratory.intrinsic+json": {
              "type": "string"
            }
          },
          "metadata": {},
          "execution_count": 8
        }
      ]
    },
    {
      "cell_type": "code",
      "source": [
        "# You can combine several literals in a single pattern using | (\"or\"):\n",
        "def check_net_error(status):\n",
        "  match status:\n",
        "    case 401 | 403 | 404:\n",
        "      return \"Not allowed\"\n",
        "\n",
        "    case 405 | 406:\n",
        "      return \"invalid Error\"\n",
        "\n",
        "    case _:\n",
        "      print(\"No Error provided\")\n",
        "\n",
        "check_net_error(407)"
      ],
      "metadata": {
        "id": "i0UmfYOjvLKy",
        "colab": {
          "base_uri": "https://localhost:8080/"
        },
        "outputId": "e9a17180-ae9f-4b08-e43f-a433d6c58dfd"
      },
      "execution_count": null,
      "outputs": [
        {
          "output_type": "stream",
          "name": "stdout",
          "text": [
            "No Error provided\n"
          ]
        }
      ]
    },
    {
      "cell_type": "code",
      "source": [
        "def check_rating(x):\n",
        "  match x:\n",
        "    case 1:\n",
        "      print(\"It is a 1 star rating\")\n",
        "    case 2:\n",
        "      print(\"It is a 2 star rating\")\n",
        "    case 3:\n",
        "      print(\"It is a 3 star rating\")\n",
        "    case 4:\n",
        "      print(\"It is a 4 star rating\")\n",
        "    case 5:\n",
        "      print(\"It is a 5 star rating\")\n",
        "    case _:\n",
        "      print(\"No Standard Rating has been defined\")\n",
        "\n",
        "check_rating(\"OK\")"
      ],
      "metadata": {
        "id": "r8InIlGusXS0",
        "colab": {
          "base_uri": "https://localhost:8080/"
        },
        "outputId": "4f3f47b2-1ed8-4990-9d3d-96bd3dc673ba"
      },
      "execution_count": null,
      "outputs": [
        {
          "output_type": "stream",
          "name": "stdout",
          "text": [
            "No Standard Rating has been defined\n"
          ]
        }
      ]
    },
    {
      "cell_type": "code",
      "source": [
        "match point:\n",
        "    case (0, 0):\n",
        "        print(\"Origin\")\n",
        "    case (0, y):\n",
        "        print(f\"Y={y}\")\n",
        "    case (x, 0):\n",
        "        print(f\"X={x}\")\n",
        "    case (x, y):\n",
        "        print(f\"X={x}, Y={y}\")\n",
        "    case _:\n",
        "        raise ValueError(\"Not a point\")"
      ],
      "metadata": {
        "id": "W1Ezy-xNsXQH"
      },
      "execution_count": null,
      "outputs": []
    },
    {
      "cell_type": "code",
      "source": [
        "class Point:\n",
        "    def __init__(self, x, y):\n",
        "        self.x = x\n",
        "        self.y = y\n",
        "\n",
        "def where_is(point):\n",
        "    match point:\n",
        "        case Point(x=0, y=0):\n",
        "            print(\"Origin\")\n",
        "        case Point(x=0, y=y):\n",
        "            print(f\"Y={y}\")\n",
        "        case Point(x=x, y=0):\n",
        "            print(f\"X={x}\")\n",
        "        case Point():\n",
        "            print(\"Somewhere else\")\n",
        "        case _:\n",
        "            print(\"Not a point\")\n"
      ],
      "metadata": {
        "id": "BfCA2VrmsXJG",
        "colab": {
          "base_uri": "https://localhost:8080/"
        },
        "outputId": "87ef77a8-41e2-4c79-86dd-09633ec101e4"
      },
      "execution_count": null,
      "outputs": [
        {
          "output_type": "stream",
          "name": "stdout",
          "text": [
            "<__main__.Point object at 0x7fb1bfb86f50>\n"
          ]
        }
      ]
    },
    {
      "cell_type": "markdown",
      "source": [
        "# **How importing in python works**\n",
        "Importing in Python is the process of loading code from a Python module into the current script. This allows you to use the functions and variables defined in the module in your current script, as well as any additional modules that the imported module may depend on."
      ],
      "metadata": {
        "id": "aOzlumQ-y-tU"
      }
    },
    {
      "cell_type": "code",
      "source": [
        "# way of approaching the import will be as follows:\n",
        "import math as m\n",
        "import os\n",
        "from math import sqrt\n",
        "from math import exp,pi\n",
        "import math as m\n",
        "from math import *"
      ],
      "metadata": {
        "id": "1hWU38Lg0Vc6"
      },
      "execution_count": null,
      "outputs": []
    },
    {
      "cell_type": "code",
      "source": [
        "#This will output a list of all the names defined in the math module, including functions like sqrt and pi, as well as other variables and constants.\n",
        "import math\n",
        "print(dir(math))"
      ],
      "metadata": {
        "colab": {
          "base_uri": "https://localhost:8080/"
        },
        "id": "mraBJJKX03I0",
        "outputId": "ee199e29-3867-4ad6-ddf0-c6b24c4d8882"
      },
      "execution_count": null,
      "outputs": [
        {
          "output_type": "stream",
          "name": "stdout",
          "text": [
            "['__doc__', '__loader__', '__name__', '__package__', '__spec__', 'acos', 'acosh', 'asin', 'asinh', 'atan', 'atan2', 'atanh', 'ceil', 'comb', 'copysign', 'cos', 'cosh', 'degrees', 'dist', 'e', 'erf', 'erfc', 'exp', 'expm1', 'fabs', 'factorial', 'floor', 'fmod', 'frexp', 'fsum', 'gamma', 'gcd', 'hypot', 'inf', 'isclose', 'isfinite', 'isinf', 'isnan', 'isqrt', 'lcm', 'ldexp', 'lgamma', 'log', 'log10', 'log1p', 'log2', 'modf', 'nan', 'nextafter', 'perm', 'pi', 'pow', 'prod', 'radians', 'remainder', 'sin', 'sinh', 'sqrt', 'tan', 'tanh', 'tau', 'trunc', 'ulp']\n"
          ]
        }
      ]
    },
    {
      "cell_type": "markdown",
      "source": [
        "# **Functions**\n",
        "A function is used to perform a specific task. A function provides\n",
        "modularity for programming.A module represents a part of the program.Usually, a programmer divides the main task into smaller sub tasks called modules.Functions are also called reusable code.when there is an error in the software, the corresponding function can be modified without disturbing the other function in the software.\n"
      ],
      "metadata": {
        "id": "oRiBKKPyNoG1"
      }
    },
    {
      "cell_type": "code",
      "source": [
        "def add_sum(a,b): # formal Args. def function(param1,param2)\n",
        "# docstrings gives information about the function.Writing docstrings is a good programming habit\n",
        "  c = a+b         # The group of statement inside a function called suite.\n",
        "  return c\n",
        "\n",
        "add_sum(10,15)    # Actual Args."
      ],
      "metadata": {
        "colab": {
          "base_uri": "https://localhost:8080/"
        },
        "id": "Pcqq5mJTXha-",
        "outputId": "0237e195-d743-4cbd-9b0d-6da30805f3a5"
      },
      "execution_count": null,
      "outputs": [
        {
          "output_type": "execute_result",
          "data": {
            "text/plain": [
              "25"
            ]
          },
          "metadata": {},
          "execution_count": 2
        }
      ]
    },
    {
      "cell_type": "markdown",
      "source": [
        "Difference between Function and Method\n",
        "A function is called using its name.When a function is written inside a class then it becomes a method and a method is called using one of the following ways:\n",
        "\n",
        "objectname.methodname()\n",
        "Classname.methodname()\n",
        "\n",
        "So, please remember that a function and a method both are same except their placement and way they are called."
      ],
      "metadata": {
        "id": "KHJd0u3VPSzT"
      }
    },
    {
      "cell_type": "markdown",
      "source": [
        "## Parameters and Arguments\n",
        "Parameter- is a variable that recieves data from outside into a function.\n",
        "\n",
        "Arguments- are the values passed to a function.\n"
      ],
      "metadata": {
        "id": "-RflaL_8Rpmi"
      }
    },
    {
      "cell_type": "code",
      "source": [
        "def function_name(parameter1, parameter2, ..., parameterN):\n",
        "  \"\"\"Docstring explaining the function's purpose and parameters.\n",
        "\n",
        "  Args:\n",
        "      parameter1 (type): Description of parameter1 and its data type.\n",
        "      parameter2 (type): Description of parameter2 and its data type.\n",
        "      ... (type): ... (descriptions for other parameters)\n",
        "\n",
        "  Returns:\n",
        "      type: Description of the return value and its data type.\n",
        "\n",
        "  # Function body with calculations or logic using the parameters\n",
        "  # ...\n",
        "  return result  # Return the calculated or processed value"
      ],
      "metadata": {
        "id": "R4eN3HN1R9ux"
      },
      "execution_count": null,
      "outputs": []
    },
    {
      "cell_type": "code",
      "source": [
        "# Call the function with arguments (actual values)\n",
        "argument1 = value1\n",
        "argument2 = value2\n",
        "# ... (arguments for other parameters)\n",
        "\n",
        "result = function_name(argument1, argument2, ..., argumentN)\n",
        "\n",
        "# Use the returned value (if applicable)\n",
        "print(f\"The result is: {result}\")\n",
        "\n",
        "#When a function does not return any result , we need not write the return statement the body of the function."
      ],
      "metadata": {
        "id": "N_GfHrCPT5hb"
      },
      "execution_count": null,
      "outputs": []
    },
    {
      "cell_type": "markdown",
      "source": [
        "# Positional Arguments\n",
        "The order in which you pass the values during the function call should match the order in which the parameters are defined in the function.\n",
        "\n",
        "No. of parameters = No. of Arguments."
      ],
      "metadata": {
        "id": "vOaFNB0lUOQV"
      }
    },
    {
      "cell_type": "code",
      "source": [
        "# Positional Argument.\n",
        "def display(name,age):                             #def(parameter1,parameter2)\n",
        "  print(f\"name is {name} and age is {age}\")\n",
        "\n",
        "# calling the function.\n",
        "display(\"jay\",23)                                  #(argument1,argument2)\n",
        "\n",
        "#Note: there is two parameter.so, there is two argument values to be pass"
      ],
      "metadata": {
        "colab": {
          "base_uri": "https://localhost:8080/"
        },
        "id": "G2Wz1vE7VX2l",
        "outputId": "d3d506ee-bed8-4308-ab94-3d6bbb768148"
      },
      "execution_count": null,
      "outputs": [
        {
          "output_type": "stream",
          "name": "stdout",
          "text": [
            "name is jay and age is 23\n"
          ]
        }
      ]
    },
    {
      "cell_type": "markdown",
      "source": [
        "# **Keyword Arguments**\n",
        "Keyword arguments allow you to specify the parameter name along with its corresponding value when calling a function. In this keyword Argument,No need to maintain the order.\n",
        "\n",
        "Note: No. of Args = No. of Params.\n"
      ],
      "metadata": {
        "id": "LOZrL499vgvu"
      }
    },
    {
      "cell_type": "code",
      "source": [
        "def parrot(voltage, state='a stiff', action='voom', type='Norwegian Blue'):\n",
        "    print(\"-- This parrot wouldn't\", action, end=' ')\n",
        "    print(\"if you put\", voltage, \"volts through it.\")\n",
        "    print(\"-- Lovely plumage, the\", type)\n",
        "    print(\"-- It's\", state, \"!\")\n",
        "\n",
        "parrot( 220000, state =\"Pushing up the daisies\",action=\"VOOOMM\") # if we write voltage=220000 then also it will run because it's a positional arg.\n",
        "\n",
        "# Voltage is a positional Args whereas state and action is a Keyword Args."
      ],
      "metadata": {
        "colab": {
          "base_uri": "https://localhost:8080/"
        },
        "id": "ZVz0BPNb7d1f",
        "outputId": "83ce9a6e-ce62-43af-d4a0-37e554089005"
      },
      "execution_count": null,
      "outputs": [
        {
          "output_type": "stream",
          "name": "stdout",
          "text": [
            "-- This parrot wouldn't VOOOMM if you put 220000 volts through it.\n",
            "-- Lovely plumage, the Norwegian Blue\n",
            "-- It's Pushing up the daisies !\n"
          ]
        }
      ]
    },
    {
      "cell_type": "code",
      "source": [
        "def display(Car, Model):\n",
        "  print(f\"I have {Car} {Model}\")\n",
        "\n",
        "\n",
        "display(Car =\"Mercedes Benz\", Model= 'A Class')\n"
      ],
      "metadata": {
        "colab": {
          "base_uri": "https://localhost:8080/"
        },
        "id": "uuF1yeIqvfpG",
        "outputId": "fcd20d03-21d4-46fc-dd28-0adcb62debb9"
      },
      "execution_count": null,
      "outputs": [
        {
          "output_type": "stream",
          "name": "stdout",
          "text": [
            "I have Mercedes Benz A Class\n",
            "-- This parrot wouldn't voom if you put 22 volts through it.\n",
            "-- Lovely plumage, the Norwegian Blue\n",
            "-- It's  A stiif !\n"
          ]
        }
      ]
    },
    {
      "cell_type": "markdown",
      "source": [
        "# **Default Arguments**\n",
        "So, a default argument is an argument that assumes a default value if a value is not provided in the function call of the arguments."
      ],
      "metadata": {
        "id": "L7DsA2GTLRS8"
      }
    },
    {
      "cell_type": "code",
      "source": [
        "# Positional and Keyword Arg.\n",
        "def total_cost(items,currency):\n",
        "  total = sum(items.values())\n",
        "  print(\"Total cost is: \",total,currency)\n",
        "\n",
        "cart = {'apple':12.0,'Banana': 20.0,'cherry': 30.0}\n",
        "\n",
        "total_cost(cart,currency=\"Euro\")"
      ],
      "metadata": {
        "colab": {
          "base_uri": "https://localhost:8080/"
        },
        "id": "StL-36j6LQ8H",
        "outputId": "f8e6ec6c-aad2-4ecd-f83a-b905ba41e62a"
      },
      "execution_count": null,
      "outputs": [
        {
          "output_type": "stream",
          "name": "stdout",
          "text": [
            "Total cost is:  62.0 Euro\n"
          ]
        }
      ]
    },
    {
      "cell_type": "code",
      "source": [
        "def tot_cost(items={},currency=\"USD\"):\n",
        "  total = sum(items.values())\n",
        "  print(\"Total cost is :\",total,currency)\n",
        "carts = {'Grapes':12.3,'Beetroot':23.0,'Watermelon':20.0}\n",
        "\n",
        "tot_cost(carts)   #Here, items is a positional arg and currency is default arg.\n",
        "tot_cost(cart,currency =\"INR\") #So,We provide currency value as INR."
      ],
      "metadata": {
        "colab": {
          "base_uri": "https://localhost:8080/"
        },
        "id": "ywTiRsLxOJiA",
        "outputId": "ac642c21-d9d9-43c9-f31a-40d632107c86"
      },
      "execution_count": null,
      "outputs": [
        {
          "output_type": "stream",
          "name": "stdout",
          "text": [
            "Total cost is : 55.3 USD\n",
            "Total cost is : 62.0 INR\n"
          ]
        }
      ]
    },
    {
      "cell_type": "markdown",
      "source": [
        "# **Variable Length Arguments**\n",
        "A variable length Argument is an argument that can accept any number of values.The variable length argument is writtem with a '*' symbol before it in the function definition as:\n",
        "\n",
        "def add(farg,*args):\n"
      ],
      "metadata": {
        "id": "ROKRMCXfI7fu"
      }
    },
    {
      "cell_type": "code",
      "source": [
        "# A python program to show variable length argument and its use.\n",
        "def add(farg,*args):\n",
        "  \"\"\" to add given numbers\"\"\"\n",
        "  print('Formal argument=', farg)\n",
        "  sum = 0\n",
        "  for i in args:\n",
        "    sum += i\n",
        "  print('sum of all numbers= ',(farg+sum))\n",
        "\n",
        "  # call add() and pass arguments\n",
        "add(5,10)\n",
        "add(5,10,20,30)"
      ],
      "metadata": {
        "colab": {
          "base_uri": "https://localhost:8080/"
        },
        "id": "683kJdR1Jt8z",
        "outputId": "b99bfaca-0f90-4826-e4de-9bc67ab467d2"
      },
      "execution_count": null,
      "outputs": [
        {
          "output_type": "stream",
          "name": "stdout",
          "text": [
            "Formal argument= 5\n",
            "sum of all numbers=  15\n",
            "Formal argument= 5\n",
            "sum of all numbers=  65\n"
          ]
        }
      ]
    },
    {
      "cell_type": "markdown",
      "source": [
        "Keyword variable length argument is an argument that can accept any number of values provided in the format of keys and values.This argument internally representing a dictionary object.\n",
        "\n",
        "def display(farg, **kwargs):\n"
      ],
      "metadata": {
        "id": "u_LU7D6SLRis"
      }
    },
    {
      "cell_type": "code",
      "source": [
        "# A python program to understand keyword variable argument.\n",
        "# Keyword variable argument demo\n",
        "def display(farg,**kwargs):\n",
        "  \"\"\"to display the given values\"\"\"\n",
        "  print('Formal Argument= ',farg)\n",
        "\n",
        "  for x,y in kwargs.items():    # items will give pairs of items\n",
        "    print('key = {}, value = {}'.format(x,y))\n",
        "\n",
        "# pass 1 formal argument and 2 keyword arguments\n",
        "display(5, rno=10)\n",
        "print()\n",
        "# pass 1 formal argument and 4 keyword arguments\n",
        "display(5, rno = 10, name = 'Prakash')"
      ],
      "metadata": {
        "colab": {
          "base_uri": "https://localhost:8080/"
        },
        "id": "0yW06M0KLQYl",
        "outputId": "6ca0b384-c70c-47bb-df66-5cbc769d19aa"
      },
      "execution_count": null,
      "outputs": [
        {
          "output_type": "stream",
          "name": "stdout",
          "text": [
            "Formal Argument=  5\n",
            "key = rno, value = 10\n",
            "\n",
            "Formal Argument=  5\n",
            "key = rno, value = 10\n",
            "key = name, value = Prakash\n"
          ]
        }
      ]
    },
    {
      "cell_type": "markdown",
      "source": [
        "# **Local and Global Variables**\n",
        "* When we declare a variable inside a function, it becomes a local variable.It is available only in that function and not outside of that function.\n",
        "\n",
        "* When a variable is declared above a function, it becomes global variable.when the programmer wants to use the global variable inside a function.he can use the 'global' before the variable in the beginning of the function body as: global a\n",
        "\n",
        "\n"
      ],
      "metadata": {
        "id": "Acl_s7DcRdpW"
      }
    },
    {
      "cell_type": "code",
      "source": [
        "# A python program to access global variable inside a function and modify it.\n",
        "\n",
        "a = 1   # this is a global var\n",
        "\"\"\" Accessing the global variable inside a function.\"\"\"\n",
        "def myfunction():\n",
        "  global a           # this is global var\n",
        "  print('global a = ', a)\n",
        "  a = 2\n",
        "  print('modified a = ', a)\n",
        "\n",
        "myfunction()\n",
        "print('global a = ', a)"
      ],
      "metadata": {
        "colab": {
          "base_uri": "https://localhost:8080/"
        },
        "id": "Ww7BLi2ZTV6Y",
        "outputId": "4cac87ce-c1f4-4e45-9bc7-343e53777380"
      },
      "execution_count": null,
      "outputs": [
        {
          "output_type": "stream",
          "name": "stdout",
          "text": [
            "global a =  1\n",
            "modified a =  2\n",
            "global a =  2\n"
          ]
        }
      ]
    },
    {
      "cell_type": "markdown",
      "source": [
        "# **Recursive Functions**\n",
        "A function that calls itself is known as recursive function."
      ],
      "metadata": {
        "id": "HN-UEEZvmtth"
      }
    },
    {
      "cell_type": "code",
      "source": [
        "# A python program to calculate factorial values using recursion.\n",
        "def factorial(n):\n",
        "  \"\"\" to find factorial of n \"\"\"\n",
        "  if n == 0:\n",
        "    result = 1\n",
        "  else:\n",
        "    result = n*factorial(n-1)\n",
        "  return result\n",
        "# to find factorial values for first 10\n",
        "for i in range(11):\n",
        "  print('Factorial of {} is {}'.format(i, factorial(i)))"
      ],
      "metadata": {
        "colab": {
          "base_uri": "https://localhost:8080/"
        },
        "id": "4XCl8H45nUaP",
        "outputId": "46271588-efd2-4ccd-c7b1-709c0c8f45e1"
      },
      "execution_count": null,
      "outputs": [
        {
          "output_type": "stream",
          "name": "stdout",
          "text": [
            "Factorial of 0 is 1\n",
            "Factorial of 1 is 1\n",
            "Factorial of 2 is 2\n",
            "Factorial of 3 is 6\n",
            "Factorial of 4 is 24\n",
            "Factorial of 5 is 120\n",
            "Factorial of 6 is 720\n",
            "Factorial of 7 is 5040\n",
            "Factorial of 8 is 40320\n",
            "Factorial of 9 is 362880\n",
            "Factorial of 10 is 3628800\n"
          ]
        }
      ]
    },
    {
      "cell_type": "code",
      "source": [
        "# Program to print the fibonacci series upto n_terms\n",
        "\n",
        "# Recursive function\n",
        "def recursive_fibonacci(n):\n",
        "  if n <= 1:\n",
        "\t  return n\n",
        "  else:\n",
        "\t  return(recursive_fibonacci(n-1) + recursive_fibonacci(n-2))\n",
        "\n",
        "n_terms = int(input(\"Enter the number: \"))\n",
        "\n",
        "# check if the number of terms is valid\n",
        "if n_terms <= 0:\n",
        "  print(\"Invalid input ! Please input a positive value\")\n",
        "else:\n",
        "  print(\"Fibonacci series:\")\n",
        "\n",
        "for i in range(n_terms):\n",
        "\tprint(recursive_fibonacci(i))\n"
      ],
      "metadata": {
        "colab": {
          "base_uri": "https://localhost:8080/"
        },
        "id": "WUAahyi6pWNH",
        "outputId": "d0b08f79-8920-4e64-cb6a-23da97ea3987"
      },
      "execution_count": null,
      "outputs": [
        {
          "output_type": "stream",
          "name": "stdout",
          "text": [
            "Enter the number: 11\n",
            "Fibonacci series:\n",
            "0\n",
            "1\n",
            "1\n",
            "2\n",
            "3\n",
            "5\n",
            "8\n",
            "13\n",
            "21\n",
            "34\n",
            "55\n"
          ]
        }
      ]
    },
    {
      "cell_type": "markdown",
      "source": [
        "# **What is Tail-Recursion?**\n",
        "A unique type of recursion where the last procedure of a function is a recursive call. The recursion may be automated away by performing the request in the current stack frame and returning the output instead of generating a new stack frame. The tail-recursion may be optimized by the compiler which makes it better than non-tail recursive functions."
      ],
      "metadata": {
        "id": "PhLjAH204joI"
      }
    },
    {
      "cell_type": "code",
      "source": [
        "# Tail recrursive function is more optimistic and efficient than recursion or recursive function.\n",
        "# A tail recursive function\n",
        "def Recur_facto(n, a = 1):\n",
        "\n",
        "    if (n == 0):\n",
        "        return a\n",
        "\n",
        "    return Recur_facto(n - 1, n * a)  # Here, the last procedure of a function is a recursive call.\n",
        "\n",
        "# print the result\n",
        "print(Recur_facto(6))"
      ],
      "metadata": {
        "colab": {
          "base_uri": "https://localhost:8080/"
        },
        "id": "VcgJZxvu4iWJ",
        "outputId": "4c1cae10-aa30-4020-a245-aa5e578255ea"
      },
      "execution_count": null,
      "outputs": [
        {
          "output_type": "stream",
          "name": "stdout",
          "text": [
            "720\n"
          ]
        }
      ]
    },
    {
      "cell_type": "markdown",
      "source": [
        "# **Anonymous Functions or Lambdas**\n",
        "\n",
        "A function without a name called ''anonymous function.They are defined using the keyword  lambda and hence rhey are also called Lambda function.\n",
        "eg. lambda x: x*x\n"
      ],
      "metadata": {
        "id": "H1gj20S6slP6"
      }
    },
    {
      "cell_type": "code",
      "source": [
        "# A python program to create a lambda function that returns a square value of agiven number.\n",
        "# a lambada function to calculate square values\n",
        "f = lambda x: x*x\n",
        "value =f(5)\n",
        "print(\"square of 5 =\", value)"
      ],
      "metadata": {
        "colab": {
          "base_uri": "https://localhost:8080/"
        },
        "id": "z98r68LZsj6R",
        "outputId": "4cfaee55-aeda-433c-b4e9-54074e04cbf7"
      },
      "execution_count": null,
      "outputs": [
        {
          "output_type": "stream",
          "name": "stdout",
          "text": [
            "square of 5 = 25\n"
          ]
        }
      ]
    },
    {
      "cell_type": "code",
      "source": [
        "x = lambda a: a*a\n",
        "result = x(3)\n",
        "print(result)\n",
        "print(x(10))"
      ],
      "metadata": {
        "colab": {
          "base_uri": "https://localhost:8080/"
        },
        "id": "HzGjVSqlkFxy",
        "outputId": "fb2dbf5b-b5a4-41b6-eeb2-0ce7bfec5b22"
      },
      "execution_count": null,
      "outputs": [
        {
          "output_type": "stream",
          "name": "stdout",
          "text": [
            "9\n",
            "100\n"
          ]
        }
      ]
    },
    {
      "cell_type": "markdown",
      "source": [
        "# **Using lambda function with filter()**\n",
        "\n",
        "The filter() function in Python takes in a function and a list as arguments. This offers an elegant way to filter out all the elements of a sequence “sequence”, for which the function returns True.\n",
        "\n",
        "syntax => filter(predicate,iterable)\n",
        "\n",
        "The predicate argument is a function that returns a boolean value and applied to each element in the iterable argument.The iterable argument can be list,tuple or any other iterable object.\n",
        "\n",
        "\n",
        "\n"
      ],
      "metadata": {
        "id": "-o6cXhjIKGK9"
      }
    },
    {
      "cell_type": "code",
      "source": [
        "li = [2,3,4,5,6,7,8]\n",
        "\n",
        "final_list = list(filter(lambda x: (x % 2 != 0), li))\n",
        "print(final_list)"
      ],
      "metadata": {
        "colab": {
          "base_uri": "https://localhost:8080/"
        },
        "id": "Ph5fbDnSKFqV",
        "outputId": "58c77f4c-2937-4c65-cfa9-21d54c15dfbc"
      },
      "execution_count": null,
      "outputs": [
        {
          "output_type": "stream",
          "name": "stdout",
          "text": [
            "[3, 5, 7]\n"
          ]
        }
      ]
    },
    {
      "cell_type": "markdown",
      "source": [
        "# **Using lambda() Function with map()**\n",
        "The map() function in Python takes in a function and a list as an argument. The function is called with a lambda function and a list and a new list is returned which contains all the lambda-modified items returned by that function for each item.\n",
        "\n",
        "syntax => map(function,iterable)\n",
        "\n",
        "The function argument is a function that is applied to a each element in the iterable argument. The iterable argument can be a list, tuple or any other iterable object."
      ],
      "metadata": {
        "id": "REoJZNpmgOeT"
      }
    },
    {
      "cell_type": "code",
      "source": [
        "map_list = list(map((lambda x: x+2),li))\n",
        ".print(map_list)"
      ],
      "metadata": {
        "colab": {
          "base_uri": "https://localhost:8080/"
        },
        "id": "PtLQK7t_e_ph",
        "outputId": "290644c7-47a8-4415-bf8d-01a115ef4999"
      },
      "execution_count": null,
      "outputs": [
        {
          "output_type": "stream",
          "name": "stdout",
          "text": [
            "[4, 5, 6, 7, 8, 9, 10]\n"
          ]
        }
      ]
    },
    {
      "cell_type": "markdown",
      "source": [
        "# **Using lambda() function with reduce()**\n",
        "\n",
        "The reduce function is a higher order function that applies function to a sequence and return a single value.It is a part of the function module in the python and has following syntax:\n",
        "```\n",
        "# from functools import reduce\n",
        "reduce(function,iterable)\n",
        "```\n",
        "The function argument is a function that takes in two argument and return a single value.The iterable argument is a sequence of elements such as list or tuples."
      ],
      "metadata": {
        "id": "pvAvX7-215pH"
      }
    },
    {
      "cell_type": "code",
      "source": [
        "from functools import reduce\n",
        "Reduce = [1,2,3,4,5,6,7]\n",
        "print(reduce(lambda c,d: c+d,Reduce))\n",
        "print(reduce(lambda c,d: c if c==d else d,Reduce))"
      ],
      "metadata": {
        "id": "46ZK3HUUA9bU",
        "colab": {
          "base_uri": "https://localhost:8080/"
        },
        "outputId": "d323ff3f-d42c-49bf-99b3-ad3d8b030cc2"
      },
      "execution_count": null,
      "outputs": [
        {
          "output_type": "stream",
          "name": "stdout",
          "text": [
            "28\n",
            "7\n"
          ]
        }
      ]
    },
    {
      "cell_type": "markdown",
      "source": [
        "# **Decorators**\n",
        "A decorator is a function that takes another function as an argument and returns a new function that modifies the behavior of the original function.The new function is often referred as 'decorated' function.\n",
        "\n",
        "\n",
        "```\n",
        "# @decorator_function\n",
        "def my_function():\n",
        "    pass\n",
        "```\n",
        "decorators are often used to add functionality to functions and methods such as logging memorization and access control.\n"
      ],
      "metadata": {
        "id": "uT2Orpa08yuY"
      }
    },
    {
      "cell_type": "code",
      "source": [
        "2/5"
      ],
      "metadata": {
        "colab": {
          "base_uri": "https://localhost:8080/"
        },
        "id": "tIGADhpxatGv",
        "outputId": "af30f8ad-8052-441e-99c4-73073f525ab2"
      },
      "execution_count": null,
      "outputs": [
        {
          "output_type": "execute_result",
          "data": {
            "text/plain": [
              "0.4"
            ]
          },
          "metadata": {},
          "execution_count": 21
        }
      ]
    },
    {
      "cell_type": "code",
      "source": [
        "def outer_div(func):\n",
        "       # here, we are creating a function and passing the parameter\n",
        "    def inner(x,y):        # here, we are creating a function and passing the parameter\n",
        "        if(x<y):\n",
        "           x,y = y,x\n",
        "        return func(x,y)       # here, we are returning the function with the parameters\n",
        "    return inner\n",
        "\n",
        "# Here, the below is the syntax of generator\n",
        "#@ outer_div\n",
        "def divide(x,y):      # here, we are creating a function and passing the parameter\n",
        "     print(x/y)\n",
        "\n",
        "#divide(2,5)\n",
        "outer_div(div)(2,5)"
      ],
      "metadata": {
        "colab": {
          "base_uri": "https://localhost:8080/"
        },
        "id": "HMPjg_cjA4DQ",
        "outputId": "a1a43947-dc32-4e97-a1b3-9a052624321f"
      },
      "execution_count": null,
      "outputs": [
        {
          "output_type": "stream",
          "name": "stdout",
          "text": [
            "0.4\n",
            "2.5\n"
          ]
        }
      ]
    },
    {
      "cell_type": "code",
      "source": [
        "def func():    # here, we are creating a function and passing the parameter\n",
        "     print(\"We are in first function\")      # Here, we are printing the data of function\n",
        "     def func1():      # here, we are creating a function and passing the parameter\n",
        "           print(\"This is first child function\")  # Here, we are printing the data of function 1\n",
        "     def func2():      # here, we are creating a function and passing the parameter\n",
        "           print(\"This is second child function\")      # Here, we are printing the data of         # function 2\n",
        "     func1()    # func1 & func2 are child function.\n",
        "     func2()\n",
        "\n",
        "func()\n",
        "#The execution of the child function makes effect on the output.\n",
        "#These child functions are locally bounded with the func() so they cannot be called separately."
      ],
      "metadata": {
        "colab": {
          "base_uri": "https://localhost:8080/"
        },
        "id": "-SnBPnSdA4Sf",
        "outputId": "8ccb28bc-ccae-4df0-a310-0223b8e6539b"
      },
      "execution_count": null,
      "outputs": [
        {
          "output_type": "stream",
          "name": "stdout",
          "text": [
            "We are in first function\n",
            "This is first child function\n",
            "This is second child function\n"
          ]
        }
      ]
    },
    {
      "cell_type": "code",
      "source": [
        "def add(x):          # here, we are creating a function add and passing the parameter\n",
        "    return x+1       # here, we are returning the passed value by adding 1\n",
        "def sub(x):          # here, we are creating a function sub and passing the parameter\n",
        "    return x-1        # here, we are returning the passed value by subtracting 1\n",
        "def operator(func, x):    # here, we are creating a function and passing the parameter\n",
        "    temp = func(x)\n",
        "    return temp\n",
        "print(operator(sub,10))  # here, we are printing the operation subtraction with 10\n",
        "print(operator(add,20))   # here, we are printing the operation addition with 20"
      ],
      "metadata": {
        "colab": {
          "base_uri": "https://localhost:8080/"
        },
        "id": "8FMEea7zA4M4",
        "outputId": "7707555f-04fa-4023-9eb7-8872abbf8109"
      },
      "execution_count": null,
      "outputs": [
        {
          "output_type": "stream",
          "name": "stdout",
          "text": [
            "9\n",
            "21\n"
          ]
        }
      ]
    },
    {
      "cell_type": "code",
      "source": [
        "# Reusing decorator from Javatpoint.\n",
        "\n",
        "def do_twice(func):      # here, we are creating a function and passing the parameter\n",
        "    def wrapper_do_twice():\n",
        "     # here, we are creating a function and passing the parameter\n",
        "        func()\n",
        "        func()\n",
        "    return wrapper_do_twice\n",
        "    # We can import mod_decorator.py in another file.\n",
        "#from decorator import do_twice\n",
        "@do_twice\n",
        "def say_hello():\n",
        "    print(\"Hello There\")\n",
        "say_hello()"
      ],
      "metadata": {
        "colab": {
          "base_uri": "https://localhost:8080/"
        },
        "id": "jGaEFHeqgP78",
        "outputId": "4c5dee74-c94b-4333-dd7f-b92c88b7463d"
      },
      "execution_count": null,
      "outputs": [
        {
          "output_type": "stream",
          "name": "stdout",
          "text": [
            "Hello There\n",
            "Hello There\n"
          ]
        }
      ]
    },
    {
      "cell_type": "markdown",
      "source": [
        "# **`__file__ (A Special Variable) in Python`**\n",
        "\n",
        "In Python, there are some variables which are defined using double underscores, and they are called Dunder or magic methods. They are used for special purposes in the code, and that is why they are referred to as special variables.\n",
        "\n",
        "`For example: __init__ , __add__ ,__len__ ,__file__ etc. `\n",
        "\n",
        "\n",
        "\n"
      ],
      "metadata": {
        "id": "07MT4Pj5FB89"
      }
    },
    {
      "cell_type": "code",
      "source": [
        "# __init__ method:\n",
        "# This method is called without any function call, and it is invoked when we create any object or instance of any class.\n",
        "# In other programming languages, it is called the constructor."
      ],
      "metadata": {
        "id": "LmstDoYfFBML"
      },
      "execution_count": null,
      "outputs": []
    },
    {
      "cell_type": "code",
      "source": [
        "# __file__ method:\n",
        "# If the module is present in our local system then there would definitely be a path of the module, and it will be stored in this variable.\n",
        "# The value of this variable would be determined by the import system of python.\n",
        "''' For more refer to https://www.javatpoint.com/__file__-in-python'''"
      ],
      "metadata": {
        "colab": {
          "base_uri": "https://localhost:8080/",
          "height": 35
        },
        "id": "GGQq4AtmOQI4",
        "outputId": "224d3ffe-293e-417e-f501-56e440c89370"
      },
      "execution_count": null,
      "outputs": [
        {
          "output_type": "execute_result",
          "data": {
            "text/plain": [
              "' For more refer to https://www.javatpoint.com/__file__-in-python'"
            ],
            "application/vnd.google.colaboratory.intrinsic+json": {
              "type": "string"
            }
          },
          "metadata": {},
          "execution_count": 4
        }
      ]
    },
    {
      "cell_type": "markdown",
      "source": [
        "# **`if__name__ == \"__main__\" in python. `**\n",
        "The if __name__ == \"__main__\" idiom is a common pattern used in python scripts to determine whether the scripts is run directly or being imported as a module into another script.\n",
        "In python, the __name__ variable is a built-in variable that is automatically set to the name of the current module.when a python script is run directly, the __name__ variable is set to the string \"__main__\" when the script is imported as a module into another script, the __name__ variable is set to the name of module.\n"
      ],
      "metadata": {
        "id": "WVyyGf_T1oY6"
      }
    },
    {
      "cell_type": "code",
      "source": [
        "# Here is the example of how the if__name__ ==\"__main__\"\n",
        "def main():\n",
        "  # Code to be run when the script runs directly.\n",
        "  print(\"Running scripts directly\")\n",
        "if __name__ == \"__main__\":\n",
        "  main()\n",
        "\n",
        "''' In this example, the main function contains the code that should be run\n",
        " when the script is run directly.The if statement checks whether the __name__\n",
        "variable is equal to the \"__main__\".If it is,then the main function is called.'''"
      ],
      "metadata": {
        "colab": {
          "base_uri": "https://localhost:8080/",
          "height": 70
        },
        "id": "_W7Xne5d1oHQ",
        "outputId": "e8f633c4-438c-42d2-d4b8-c3c6217eaac6"
      },
      "execution_count": null,
      "outputs": [
        {
          "output_type": "stream",
          "name": "stdout",
          "text": [
            "Running scripts directly\n"
          ]
        },
        {
          "output_type": "execute_result",
          "data": {
            "text/plain": [
              "' In this example, the main function contains the code that should be run \\n when the script is run directly.The if statement checks whether the __name__ \\nvariable is equal to the \"__main__\".If it is,then the main function is called.'"
            ],
            "application/vnd.google.colaboratory.intrinsic+json": {
              "type": "string"
            }
          },
          "metadata": {},
          "execution_count": 4
        }
      ]
    },
    {
      "cell_type": "markdown",
      "source": [
        "# **Generators **\n",
        "\n",
        "Generators are special type of functions that allow you to create an iterable sequence of values.A generator function returns a generator object, which can be used to generate the values one-by-one as you iterate over it.Generators are a powerful tools for working with large or complex data sets, as they allow you to generate the values on-the-fly, rather than having to create and store the entire sequence in memory.\n",
        "\n"
      ],
      "metadata": {
        "id": "L1aJ92AgDkwv"
      }
    },
    {
      "cell_type": "code",
      "source": [
        "'''In python, we create a generator using a ***yield*** statement in a function.\n",
        "The *yield* statement returns a value from the generator and suspends the execution of the function until the next value is requested.'''\n",
        "# here is an example:\n",
        "def my_generator():\n",
        "  for i in range(6):\n",
        "    yield(i)\n",
        "\n",
        "gen = my_generator()\n",
        "print(next(gen))\n",
        "print(next(gen))\n",
        "print(next(gen))\n",
        "print(next(gen))\n",
        "\n",
        "for j in gen:\n",
        "  print(j)\n",
        "\n",
        "''' As you can see the generator can be used in a for loop, just like any other iterable sequence.The generators is used to generate the values one-by-one as the loop iterate over it.'''\n"
      ],
      "metadata": {
        "colab": {
          "base_uri": "https://localhost:8080/",
          "height": 157
        },
        "id": "9fFKXlaAIgPw",
        "outputId": "b98784ba-fcc6-4f98-9577-20cb1680182a"
      },
      "execution_count": null,
      "outputs": [
        {
          "output_type": "stream",
          "name": "stdout",
          "text": [
            "0\n",
            "1\n",
            "2\n",
            "3\n",
            "4\n",
            "5\n"
          ]
        },
        {
          "output_type": "execute_result",
          "data": {
            "text/plain": [
              "' As you can see the generator can be used in a for loop, just like any other iterable sequence.The generators is used to generate the values one-by-one as the loop iterate over it.'"
            ],
            "application/vnd.google.colaboratory.intrinsic+json": {
              "type": "string"
            }
          },
          "metadata": {},
          "execution_count": 16
        }
      ]
    },
    {
      "cell_type": "code",
      "source": [
        "''' The benefits of generators is that they allows you to generate the values on-the-fly,\n",
        "rather than having to create and store the entire sequence in the memory.\n",
        "This makes generators a powerful tool for working with large or complex datasets.\n",
        "As you can generate the values as you need them, rather then having to store them all in memory at once.'''\n",
        "\n",
        "'''Another benefit of generators is that they are lazy, which means that the values are generated only when they are requested.\n",
        "This allows you to generate the values in a efficient and memory friendly manner,as you don't have to generate all the values upfront.'''"
      ],
      "metadata": {
        "colab": {
          "base_uri": "https://localhost:8080/",
          "height": 52
        },
        "id": "zCHZYcN2LrLT",
        "outputId": "28d48395-26f1-4666-a3f7-9d029dff0c08"
      },
      "execution_count": null,
      "outputs": [
        {
          "output_type": "execute_result",
          "data": {
            "text/plain": [
              "\"Another benefit of generators is that they are lazy, which means that the values are generated only when they are requested.\\nThis allows you to generate the values in a efficient and memory friendly manner,as you don't have to generate all the values upfront.\""
            ],
            "application/vnd.google.colaboratory.intrinsic+json": {
              "type": "string"
            }
          },
          "metadata": {},
          "execution_count": 1
        }
      ]
    },
    {
      "cell_type": "markdown",
      "source": [
        "# **os Module in Python**\n",
        "The os module in Python is a built-in library that provides functions for interacting with the operating system. It allows you to perform a wide variety of tasks, such as reading and writing files, interacting with the file system, and running system commands.\n",
        "\n",
        "Here are some common tasks you can perform with the os module:\n",
        "\n"
      ],
      "metadata": {
        "id": "vfKwx3ZHGMUz"
      }
    },
    {
      "cell_type": "code",
      "source": [
        "\"\"\"Reading and writing files The os module provides functions for opening, reading, and writing files.\n",
        " For example, to open a file for reading, you can use the open function:\"\"\"\n",
        "import os\n",
        "\n",
        "# Open the file in read-only mode\n",
        "f = os.open(\"myfile.txt\", os.O_RDONLY)\n",
        "\n",
        "# Read the contents of the file\n",
        "contents = os.read(f, 1024)\n",
        "\n",
        "# Close the file\n",
        "os.close(f)"
      ],
      "metadata": {
        "id": "4QNZIvnNGhy1"
      },
      "execution_count": null,
      "outputs": []
    },
    {
      "cell_type": "code",
      "source": [
        "# Running system commands\n",
        "import os\n",
        "\n",
        "# Run the \"ls\" command and print the output\n",
        "output = os.system(\"ls\")\n",
        "print(output)  # Output: ['myfile.txt', 'otherfile.txt']"
      ],
      "metadata": {
        "colab": {
          "base_uri": "https://localhost:8080/"
        },
        "id": "6Ka34OBhHRk4",
        "outputId": "634b1a1d-8e7a-45e0-d5d3-1da5b9e6c823"
      },
      "execution_count": null,
      "outputs": [
        {
          "output_type": "stream",
          "name": "stdout",
          "text": [
            "0\n"
          ]
        }
      ]
    },
    {
      "cell_type": "markdown",
      "source": [
        "# **File I/O or File Handling in python.**\n",
        "\n",
        "Python provides several ways to manipulate file.File Handling is a broader concept that uses file I/O operations for managing files (create, open, read, write, close, manipulate, error handling).\n",
        "\n",
        "\n"
      ],
      "metadata": {
        "id": "2dN9ydgTff9J"
      }
    },
    {
      "cell_type": "code",
      "source": [
        "# Before we can perform any operations on a file, we must first open it. Python provides the open() function to open a file.\n",
        "# It takes two arguments: the name of the file and the mode in which the file should be opened.\n",
        "f = open('file_name.txt',w) # syntax ==> open('filename.format',mode) #mode of file will be read(r) by default.\n"
      ],
      "metadata": {
        "id": "JSLkb_s4RdXU"
      },
      "execution_count": null,
      "outputs": []
    },
    {
      "cell_type": "code",
      "source": [
        "# Modes in file.\n",
        "# There are various modes in which we can open files.\n",
        "# 1.read(r): This mode opens the file for reading only and gives an error if the file does not exist.\n",
        "# 2.write(w): This mode opens the file for writing only and creates a new file if the file does not exist.\n",
        "# 3.append(a): This mode opens the file for appending only and creates a new file if the file does not exist.\n",
        "# 4.create(c): This mode creates a file and gives an error if the file already exists.\n",
        "# 5.text(t): t mode is used to handle text files. t refers to the text mode.\n",
        "# 6.binary(b): used to handle binary files (images, pdfs, etc)."
      ],
      "metadata": {
        "id": "D6Y3r8VpSZt8"
      },
      "execution_count": null,
      "outputs": []
    },
    {
      "cell_type": "code",
      "source": [
        "# It is important to close a file after you are done with it. This releases the resources used by the file and allows other programs to access it.\n",
        "\n",
        "# To close a file, you can use the close() method.\n",
        "f = open('myfile.txt', 'r') # open() to open the file without it you can't read or write\n",
        "# ... do something with the file\n",
        "f.close()"
      ],
      "metadata": {
        "id": "M0Zz38PNTttd"
      },
      "execution_count": null,
      "outputs": []
    },
    {
      "cell_type": "markdown",
      "source": [
        "# 'with' statement\n",
        " Alternatively, you can use the with statement to automatically close the file after you are done with it."
      ],
      "metadata": {
        "id": "MM09lPW-PcqE"
      }
    },
    {
      "cell_type": "code",
      "source": [
        "''' The 'with' statement'''\n",
        "# Alternatively, you can use the with statement to automatically close the file after you are done with it.\n",
        "\n",
        "with open('myfile.txt', 'r') as f:\n",
        "    # ... do something with the file"
      ],
      "metadata": {
        "id": "qLBpWB5sPB7y"
      },
      "execution_count": null,
      "outputs": []
    },
    {
      "cell_type": "markdown",
      "source": [
        "# readlines() method\n",
        "The readline() method reads a single line from the file. If we want to read multiple lines, we can use a loop"
      ],
      "metadata": {
        "id": "L8jiVvQ_Pm2m"
      }
    },
    {
      "cell_type": "code",
      "source": [
        "f = open('sample.txt', 'r')\n",
        "while True:\n",
        "    line = f.readline()\n",
        "    if not line:\n",
        "        break\n",
        "    print(line)\n",
        "\n",
        "# The readlines() method reads all the lines of the file and returns them as a list of strings."
      ],
      "metadata": {
        "id": "VjSIopVbP0GD"
      },
      "execution_count": null,
      "outputs": []
    },
    {
      "cell_type": "markdown",
      "source": [
        "# writelines() method\n",
        "The writelines() method in Python writes a sequence of strings to a file. The sequence can be any iterable object, such as a list or a tuple."
      ],
      "metadata": {
        "id": "7qBRkLdcQBM2"
      }
    },
    {
      "cell_type": "code",
      "source": [
        "#Here's an example of how to use the writelines() method:\n",
        "\n",
        "f = open('myfile.txt', 'w')\n",
        "lines = ['line 1\\n', 'line 2\\n', 'line 3\\n']\n",
        "f.writelines(lines)\n",
        "f.close()\n",
        "# This will write the strings in the lines list to the file myfile.txt. The \\n characters are used to add newline characters to the end of each string.\n",
        "\n",
        "# Keep in mind that the writelines() method does not add newline characters between the strings in the sequence.\n",
        "# If you want to add newlines between the strings, you can use a loop to write each string separately:\n",
        "\n",
        "f = open('myfile.txt', 'w')\n",
        "lines = ['line 1', 'line 2', 'line 3']\n",
        "for line in lines:\n",
        "    f.write(line + '\\n')\n",
        "f.close()\n",
        "# It is also a good practice to close the file after you are done with it.\n",
        "''' Please run this code in pycharm or local compiler '''"
      ],
      "metadata": {
        "colab": {
          "base_uri": "https://localhost:8080/",
          "height": 35
        },
        "id": "iv5hFN69P9p4",
        "outputId": "948742f7-acf7-4bbc-bcb5-2cb324ff625d"
      },
      "execution_count": null,
      "outputs": [
        {
          "output_type": "execute_result",
          "data": {
            "text/plain": [
              "' Please run this code in pycharm or local compiler '"
            ],
            "application/vnd.google.colaboratory.intrinsic+json": {
              "type": "string"
            }
          },
          "metadata": {},
          "execution_count": 5
        }
      ]
    },
    {
      "cell_type": "markdown",
      "source": [
        "# seek() and tell() functions\n",
        "\n",
        "In Python, the seek() and tell() functions are used to work with file objects and their positions within a file. These functions are part of the built-in io module, which provides a consistent interface for reading and writing to various file-like objects, such as files, pipes, and in-memory buffers."
      ],
      "metadata": {
        "id": "EFHeEuLOQZdb"
      }
    },
    {
      "cell_type": "markdown",
      "source": [
        "# seek() function\n",
        "The seek() function allow you to move the current position within a specific file to a specific point.The position is specified in bytes, and you can move either forward or backward from the current position."
      ],
      "metadata": {
        "id": "LAwzc2ecmC1B"
      }
    },
    {
      "cell_type": "code",
      "source": [
        "with open('file.txt', 'r') as f:\n",
        "  # Move to the 10th byte in the file\n",
        "  f.seek(10)\n",
        "\n",
        "  # Read the next 5 bytes\n",
        "  data = f.read(5)"
      ],
      "metadata": {
        "id": "ZsK-SpJAmCOh"
      },
      "execution_count": null,
      "outputs": []
    },
    {
      "cell_type": "markdown",
      "source": [
        "# tell() function\n",
        "The tell() function returns the current position within the file, in bytes. This can be useful for keeping track of your location within the file or for seeking to a specific position relative to the current position.\n"
      ],
      "metadata": {
        "id": "CUge4NfNmvT0"
      }
    },
    {
      "cell_type": "code",
      "source": [
        "with open(\"file.txt\",'r')as f:\n",
        "  # Read the first 10 bytes\n",
        "  data =f.read(10)\n",
        "  # Save the current position\n",
        "  current_position = f.tell()\n",
        "  # seek to the saved position\n",
        "  f.seek(current_position)"
      ],
      "metadata": {
        "id": "alQ60uvhm3Au"
      },
      "execution_count": null,
      "outputs": []
    },
    {
      "cell_type": "markdown",
      "source": [
        "# truncate() function\n",
        "When you open a file in Python using the open function, you can specify the mode in which you want to open the file. If you specify the mode as 'w' or 'a', the file is opened in write mode and you can write to the file. However, if you want to truncate the file to a specific size, you can use the truncate function.\n"
      ],
      "metadata": {
        "id": "B27keHf1nbcR"
      }
    },
    {
      "cell_type": "code",
      "source": [
        "# Here is an example of how to use the truncate function:\n",
        "with open(\"sample.txt\",'w') as f:\n",
        "  f.write(\"Hello world\")\n",
        "  f.truncate(5)\n",
        "\n",
        "with open('sample.txt','r') as f:\n",
        "  print(f.read())"
      ],
      "metadata": {
        "id": "QewrKrOJnbNf"
      },
      "execution_count": null,
      "outputs": []
    },
    {
      "cell_type": "markdown",
      "source": [
        "#**'is' vs '==' in Python**\n",
        "In Python, is and == are both comparison operators that can be used to check if two values are equal. However, there are some important differences between the two that you should be aware of.\n",
        "\n",
        "The is operator compares the identity of two objects, while the == operator compares the values of the objects. This means that is will only return True if the objects being compared are the exact same object in memory, while == will return True if the objects have the same value."
      ],
      "metadata": {
        "id": "eTRGjPp4kxrY"
      }
    },
    {
      "cell_type": "code",
      "source": [
        "#For example:\n",
        "\n",
        "a = [1, 2, 3]\n",
        "b = [1, 2, 3]\n",
        "print(a == b)  # True\n",
        "print(a is b)  # False\n",
        "# In this case, a and b are two separate lists that have the same values, so == returns True.\n",
        "# However, a and b are not the same object in memory, so is returns False."
      ],
      "metadata": {
        "id": "si2nOPfxnSLb"
      },
      "execution_count": null,
      "outputs": []
    },
    {
      "cell_type": "markdown",
      "source": [
        "#**Intro to OOPs**\n",
        "n programming languages, mainly there are two approaches that are used to write program or code.\n",
        "\n",
        "1. Procedural Programming\n",
        "2. Object-Oriented Programming\n",
        "\n",
        "# Class\n",
        "A class is a blueprint or a template for creating objects, providing initial values for state (member variables or attributes), and implementations of behavior (member functions or methods). The user-defined objects are created using the class keyword.\n",
        "\n"
      ],
      "metadata": {
        "id": "ScB0ox73n7xL"
      }
    },
    {
      "cell_type": "code",
      "source": [
        "# Creating a class\n",
        "class Details:\n",
        "  name,age = 'Rohan',20"
      ],
      "metadata": {
        "id": "bfr9meu0Uus7"
      },
      "execution_count": null,
      "outputs": []
    },
    {
      "cell_type": "markdown",
      "source": [
        "# Object\n",
        "Object is an instance of a class used to access the properties of a class."
      ],
      "metadata": {
        "id": "aVCznQuPWCV8"
      }
    },
    {
      "cell_type": "code",
      "source": [
        "obj = Details()\n",
        "print(obj.name,obj.age)"
      ],
      "metadata": {
        "colab": {
          "base_uri": "https://localhost:8080/"
        },
        "id": "Xg_P3pOdYGfZ",
        "outputId": "80a81293-6039-45ee-9928-78cbcbf65040"
      },
      "execution_count": null,
      "outputs": [
        {
          "output_type": "stream",
          "name": "stdout",
          "text": [
            "Rohan 20\n"
          ]
        }
      ]
    },
    {
      "cell_type": "markdown",
      "source": [
        "# self parameter in OOPs.\n",
        "The self parameter is a reference to the current instance of the class, and is used to access variables that belongs to the class.\n",
        "\n",
        "It must be provided as the extra parameter inside the method definition."
      ],
      "metadata": {
        "id": "rM6I1yLIaroU"
      }
    },
    {
      "cell_type": "code",
      "source": [
        "class Candidate:\n",
        "  name = \"Roshan\"             # The name,age,profession are properties of a class.\n",
        "  age  = 28\n",
        "  profession = \"Educator\"\n",
        "                             # def info is a method we create inside a class\n",
        "  def info(self):\n",
        "    print(f\"Next candidate name is {self.name}.His age is {self.age} and he is {self.profession} by profession\")\n",
        "    print(\"Thanks\",self.name,\"Thanks for your application.\")\n",
        "\n",
        "person1 = Candidate()               # Person1 as a variable assign the class as value.\n",
        "person1.name = \"R Ashwin\"\n",
        "person1.age = 35                    # Person1.age as obj.property assigning a new value.\n",
        "person1.profession = \"Cricketer\"\n",
        "\n",
        "p1=person1.info()\n",
        "print(type(p1))\n",
        "\n",
        "Candidate()\n",
        "#person = Candidate()\n",
        "#print(person.info())\n",
        "\n"
      ],
      "metadata": {
        "colab": {
          "base_uri": "https://localhost:8080/"
        },
        "id": "GSbXTFrta3n0",
        "outputId": "3d936bdc-3c00-48a6-aab8-a8f94268b2ed"
      },
      "execution_count": null,
      "outputs": [
        {
          "output_type": "stream",
          "name": "stdout",
          "text": [
            "Next candidate name is R Ashwin.His age is 35 and he is Cricketer by profession\n",
            "Thanks R Ashwin Thanks for your application.\n",
            "<class 'NoneType'>\n"
          ]
        },
        {
          "output_type": "execute_result",
          "data": {
            "text/plain": [
              "<__main__.Candidate at 0x7b62b43a63b0>"
            ]
          },
          "metadata": {},
          "execution_count": 41
        }
      ]
    },
    {
      "cell_type": "markdown",
      "source": [
        "# Constructor\n",
        "Constructors\n",
        "A constructor is a special method in a class used to create and initialize an object of a class. There are different types of constructors. Constructor is invoked automatically when an object of a class is created.\n",
        "\n",
        "A constructor is a unique function that gets called automatically when an object is created of a class. The main purpose of a constructor is to initialize or assign values to the data members of that class. It cannot return any value other than None."
      ],
      "metadata": {
        "id": "flFRqfd6CiwS"
      }
    },
    {
      "cell_type": "code",
      "source": [
        "# Syntax of python constructor\n",
        "def __init__(self):         # Here, The No. of parameters == No. of Arguments.\n",
        "  #initializations          # It is dunder or magic method also. As it refer as decorator.\n",
        "\n",
        "# __init__ is one of the reserved functions in Python. In Object Oriented Programming, it is known as a constructor."
      ],
      "metadata": {
        "id": "pDjyv356FfoY"
      },
      "execution_count": null,
      "outputs": []
    },
    {
      "cell_type": "markdown",
      "source": [
        "# Types of constructor:\n",
        "1. Parameterized Constructor.\n",
        "2. Default Constructor.\n",
        "\n",
        "# Parameterized Constructor in Python\n",
        "When the constructor accepts arguments along with self, it is known as parameterized constructor.\n",
        "\n",
        "These arguments can be used inside the class to assign the values to the data members."
      ],
      "metadata": {
        "id": "M_BB5okwIjF2"
      }
    },
    {
      "cell_type": "code",
      "source": [
        "class Details:\n",
        "    def __init__(self, animal, group):\n",
        "        self.animal = animal\n",
        "        self.group = group\n",
        "\n",
        "obj1 = Details(\"Crab\", \"Crustaceans\")\n",
        "print(obj1.animal, \"belongs to the\", obj1.group, \"group.\")"
      ],
      "metadata": {
        "id": "zFZPStKUJTol",
        "colab": {
          "base_uri": "https://localhost:8080/"
        },
        "outputId": "21dc2944-ad59-4e55-d30c-1dca61c03def"
      },
      "execution_count": null,
      "outputs": [
        {
          "output_type": "stream",
          "name": "stdout",
          "text": [
            "Crab belongs to the Crustaceans group.\n"
          ]
        }
      ]
    },
    {
      "cell_type": "markdown",
      "source": [
        "# Default Constructor in Python\n",
        "When the constructor doesn't accept any arguments from the object and has only one argument, self, in the constructor, it is known as a Default constructor."
      ],
      "metadata": {
        "id": "i9E7Th7JJWqX"
      }
    },
    {
      "cell_type": "code",
      "source": [
        "class Details:\n",
        "  def __init__(self):\n",
        "    print(\"animal Crab belongs to Crustaceans group\")\n",
        "    print(\"Good Job\")\n",
        "obj1 = Details()"
      ],
      "metadata": {
        "colab": {
          "base_uri": "https://localhost:8080/"
        },
        "id": "6iOHc6eEI75-",
        "outputId": "31106c15-2f9c-4114-c729-b1299ec52c39"
      },
      "execution_count": null,
      "outputs": [
        {
          "output_type": "stream",
          "name": "stdout",
          "text": [
            "animal Crab belongs to Crustaceans group\n",
            "Good Job\n"
          ]
        }
      ]
    },
    {
      "cell_type": "markdown",
      "source": [
        "# Getter and Setter methods in python\n",
        "\n",
        "# Getters\n",
        "Getters in Python are methods that are used to access the values of an object's properties. They are used to return the value of a specific property, and are typically defined using the @property decorator. Here is an example of a simple class with a getter method:"
      ],
      "metadata": {
        "id": "_EH2e2Zap-LQ"
      }
    },
    {
      "cell_type": "code",
      "source": [
        "class MyClass:\n",
        "    def __init__(self, value):\n",
        "        self._value = value\n",
        "\n",
        "    def show(self):\n",
        "        print(f\"Value is {self._value}\")\n",
        "\n",
        "    @property\n",
        "    def ten_value(self):\n",
        "        return 10 * self._value\n",
        "\n",
        "\n",
        "obj = MyClass(10)\n",
        "#obj.ten_value = 67          # We can't set an attribute directly. This will throw an error because we can't set a setter here.\n",
        "print(obj.ten_value)\n",
        "obj.show()\n",
        "\n"
      ],
      "metadata": {
        "id": "869c_MH0FrXG",
        "colab": {
          "base_uri": "https://localhost:8080/"
        },
        "outputId": "361aeb89-b9af-4b3d-b55a-08ecd4be7c0c"
      },
      "execution_count": null,
      "outputs": [
        {
          "output_type": "stream",
          "name": "stdout",
          "text": [
            "100\n",
            "Value is 10\n"
          ]
        }
      ]
    },
    {
      "cell_type": "markdown",
      "source": [
        "# setter method in python.\n",
        "It is important to note that the getters do not take any parameters and we cannot set the value through getter method.For that we need setter method which can be added by decorating method with @property_name.setter"
      ],
      "metadata": {
        "id": "3KT6K_bgoNiK"
      }
    },
    {
      "cell_type": "code",
      "source": [
        "class MyClass:\n",
        "    def __init__(self, value):\n",
        "        self._value = value\n",
        "\n",
        "    def show(self):\n",
        "        print(f\"Value is {self._value}\")\n",
        "\n",
        "    @property\n",
        "    def ten_value(self):\n",
        "        return 10 * self._value\n",
        "\n",
        "    @ten_value.setter                 # while applying this function_name.setter only we can set the attribute directly.\n",
        "    def ten_value(self,new_value):\n",
        "      self._value = new_value/10\n",
        "\n",
        "\n",
        "obj = MyClass(10)\n",
        "obj.ten_value = 67\n",
        "print(obj.ten_value)\n",
        "obj.show()\n",
        "\n",
        "# In conclusion, getters are a convenient way to access the values of an object's properties,\n",
        "# while keeping the internal representation of the property hidden.\n",
        "# This can be useful for encapsulation and data validation."
      ],
      "metadata": {
        "colab": {
          "base_uri": "https://localhost:8080/"
        },
        "id": "fXksSDcbmmQA",
        "outputId": "6dc57103-2c8d-4e2c-8cff-4c1498188178"
      },
      "execution_count": null,
      "outputs": [
        {
          "output_type": "stream",
          "name": "stdout",
          "text": [
            "67.0\n",
            "Value is 6.7\n"
          ]
        }
      ]
    },
    {
      "cell_type": "markdown",
      "source": [
        "#**Inheritence in python**\n",
        "When a class derives from another class. The child class will inherit all the public and protected properties and methods from the parent class. In addition, it can have its own properties and methods,this is called as inheritance.\n",
        "\n",
        "Types of inheritance:\n",
        "1.Single inheritance\n",
        "2.Multiple inheritance\n",
        "3.Multilevel inheritance\n",
        "4.Hierarchical Inheritance\n",
        "5.Hybrid Inheritance\n",
        "\n",
        "\n",
        "\n"
      ],
      "metadata": {
        "id": "0uYmRxO2qeuW"
      }
    },
    {
      "cell_type": "code",
      "source": [
        "class BaseClass:\n",
        "  Body of base class\n",
        "class DerivedClass(BaseClass):\n",
        "  Body of derived class\n",
        "\n",
        "# Derived class inherits features from the base class where new features can be added to it. This results in re-usability of code."
      ],
      "metadata": {
        "id": "kGfcBC5OA8Nd"
      },
      "execution_count": null,
      "outputs": []
    },
    {
      "cell_type": "code",
      "source": [
        "class Employee:                         # Base/super class also known as a parent class\n",
        "  def __init__(self, name, id):\n",
        "    self.name = name\n",
        "    self.id = id\n",
        "\n",
        "  def showDetails(self):\n",
        "    print(f\"The name of Employee: {self.name} is {self.id}\")\n",
        "\n",
        "class Programmer(Employee):           # Derived class aka child class which inherit the properties of parent class.\n",
        "  def showLanguage(self):\n",
        "    print(\"The default langauge is Python\")\n",
        "\n",
        "\n",
        "\"\"\" In Python, you cannot directly call a class like a function. Classes are meant to be used for creating objects.\n",
        "If you attempt to call A() or B() without creating an object first, you'll likely see the memory address where the class is stored in memory.\"\"\"\n",
        "\n",
        "print(Programmer(\"Harry\",420))\n",
        "\n",
        "# while creating object you're allocating memory for that specific object and initializing its attributes with the values you provide.\n",
        "e1 = Employee(\"Rohan Das\", 400)\n",
        "e1.showDetails()\n",
        "e2 = Programmer(\"Harry\", 4100)\n",
        "e2.showDetails()\n",
        "#e1.showLanguage() # It throws an error because employee class is not inherited to Programmer class.\n",
        "e2.showLanguage()\n"
      ],
      "metadata": {
        "id": "Ozu3s0YQA_IJ",
        "colab": {
          "base_uri": "https://localhost:8080/"
        },
        "outputId": "5b7d8754-6207-4aac-c18f-f0064a34064b"
      },
      "execution_count": null,
      "outputs": [
        {
          "output_type": "stream",
          "name": "stdout",
          "text": [
            "<__main__.Programmer object at 0x7b62b43a4df0>\n",
            "The name of Employee: Rohan Das is 400\n",
            "The name of Employee: Harry is 4100\n",
            "The default langauge is Python\n"
          ]
        }
      ]
    },
    {
      "cell_type": "markdown",
      "source": [
        "# Single Inheritance in python\n",
        "\n",
        "Single inheritance is a type of inheritance where a class inherits properties and behaviors from a single parent class. This is the simplest and most common form of inheritance.\n",
        "\n",
        "The syntax for single inheritance in Python is straightforward and easy to understand. To create a new class that inherits from a parent class, simply specify the parent class in the class definition, inside the parentheses, like this:"
      ],
      "metadata": {
        "id": "ztvv97EqaQfJ"
      }
    },
    {
      "cell_type": "code",
      "source": [
        "class ChildClass(ParentClass):\n",
        "    #class body"
      ],
      "metadata": {
        "id": "l9RCRhTAaPkM"
      },
      "execution_count": null,
      "outputs": []
    },
    {
      "cell_type": "code",
      "source": [
        "class Animal:\n",
        "    def __init__(self, name, species):\n",
        "        self.name = name\n",
        "        self.species = species\n",
        "\n",
        "    def make_sound(self):\n",
        "        print(\"Sound made by the animal\")\n",
        "# If we want to create a new class for a specific type of animal,such as a dog,\n",
        "# we can create a new class named \"Dog\" that inherits from the Animal class.\n",
        "class Dog(Animal):\n",
        "    def __init__(self, name, breed):\n",
        "        Animal.__init__(self,name,species = \"Dog\")\n",
        "        self.breed = breed\n",
        "\n",
        "    def make_sound(self):\n",
        "        print(\"Bark!\")\n",
        "\n",
        "d = Dog(\"Dog\",\"Husky\")\n",
        "d.make_sound()\n",
        "\n",
        "a= Animal(\"Kutta\",\"Pitbull\")\n",
        "a.make_sound()"
      ],
      "metadata": {
        "colab": {
          "base_uri": "https://localhost:8080/"
        },
        "id": "FQKS8qUXbKP8",
        "outputId": "11d8a3b8-94c7-447f-923f-9b430a239276"
      },
      "execution_count": null,
      "outputs": [
        {
          "output_type": "stream",
          "name": "stdout",
          "text": [
            "Bark!\n",
            "Sound made by the animal\n"
          ]
        }
      ]
    },
    {
      "cell_type": "markdown",
      "source": [
        "## Multiple Inheritance in python\n",
        "\n",
        "Multiple inheritance is a powerful feature in object-oriented programming that allows a class to inherit attributes and methods from multiple parent classes. This can be useful in situations where a class needs to inherit functionality from multiple sources.\n"
      ],
      "metadata": {
        "id": "o3pjaiNp866q"
      }
    },
    {
      "cell_type": "code",
      "source": [
        "# Syntax\n",
        "# In Python, multiple inheritance is implemented by specifying multiple parent classes in the class definition, separated by commas.\n",
        "class ChildClass(ParentClass1, ParentClass2, ParentClass3):\n",
        "  pass\n",
        "    # class body\n",
        "\n",
        "# In this example, the ChildClass inherits attributes and methods from all three parent classes: ParentClass1, ParentClass2, and ParentClass3.\n",
        "\n",
        "# It's important to note that, in case of multiple inheritance, Python follows a method resolution order (MRO)\n",
        "# to resolve conflicts between methods or attributes from different parent classes.\n",
        "# The MRO determines the order in which parent classes are searched for attributes and methods."
      ],
      "metadata": {
        "id": "4MUxNrvj86i8"
      },
      "execution_count": null,
      "outputs": []
    },
    {
      "cell_type": "code",
      "source": [
        "class Employee:\n",
        "  def __init__(self,name):\n",
        "    self.name = name\n",
        "  def show(self):\n",
        "    print(f\"The name is : {self.name}\")\n",
        "class Dancer:\n",
        "  def __init__(self,dance):\n",
        "    self.dance = dance\n",
        "  def show(self):\n",
        "    print(f\"The dance is : {self.dance}\")\n",
        "\n",
        "class EmployeeDancer(Employee,Dancer):\n",
        "  def __init__(self,name,dance):\n",
        "    self.name = name\n",
        "    self.dance = dance\n",
        "\n",
        "\n",
        "emp = EmployeeDancer(\"Radhika\",\"Salsa\")\n",
        "print(emp.name)\n",
        "print(emp.dance)\n",
        "print(emp.show())\n",
        "print(EmployeeDancer.mro())\n",
        "\n",
        "\n",
        "# As we can see from the output, the GoldenRetriever object has access to all the attributes and methods of the Animal and Dog classes, and, it has also added its own unique attributes and methods. This is a powerful feature of multilevel inheritance, as it allows you to create more complex and intricate classes by building upon existing ones.\n",
        "\n",
        "# Another important aspect of multilevel inheritance is that it allows you to reuse code and avoid repeating the same logic multiple times. This can lead to better maintainability and readability of your code, as you can abstract away complex logic into base classes and build upon them.\n",
        "\n",
        "# In conclusion, multilevel inheritance is a powerful feature in object-oriented programming that allows you to create complex and intricate classes by building upon existing ones. It provides the benefits of code reuse, maintainability, and readability, while also requiring careful consideration to avoid potential problems.\n",
        "\n"
      ],
      "metadata": {
        "colab": {
          "base_uri": "https://localhost:8080/"
        },
        "id": "TGVwXpnq-Qgd",
        "outputId": "d2776aab-bc27-4e9a-d76a-1137dfb252fe"
      },
      "execution_count": null,
      "outputs": [
        {
          "output_type": "stream",
          "name": "stdout",
          "text": [
            "Radhika\n",
            "Salsa\n",
            "The name is : Radhika\n",
            "None\n",
            "[<class '__main__.EmployeeDancer'>, <class '__main__.Employee'>, <class '__main__.Dancer'>, <class 'object'>]\n"
          ]
        }
      ]
    },
    {
      "cell_type": "markdown",
      "source": [
        "## Multilevel Inheritance in python\n",
        "Multilevel inheritance is a type of inheritance in object-oriented programming where a derived class inherits from another derived class. This type of inheritance allows you to build a hierarchy of classes where one class builds upon another, leading to a more specialized class.\n",
        "\n",
        "In Python, multilevel inheritance is achieved by using the class hierarchy. The syntax for multilevel inheritance is quite simple and follows the same syntax as single inheritance."
      ],
      "metadata": {
        "id": "2AhpYBPZ-P_8"
      }
    },
    {
      "cell_type": "code",
      "source": [
        "class BaseClass:\n",
        "    # Base class code\n",
        "\n",
        "class DerivedClass1(BaseClass):\n",
        "    # Derived class 1 code\n",
        "\n",
        "class DerivedClass2(DerivedClass1):\n",
        "    # Derived class 2 code\n",
        "\n",
        "# In the above example, we have three classes: BaseClass, DerivedClass1, and DerivedClass2.\n",
        "# The DerivedClass1 class inherits from the BaseClass, and the DerivedClass2 class inherits from the DerivedClass1 class.\n",
        "# This creates a hierarchy where DerivedClass2 has access to all the attributes and methods of both DerivedClass1 and BaseClass.\n"
      ],
      "metadata": {
        "id": "_FWHoyrV_gbH"
      },
      "execution_count": null,
      "outputs": []
    },
    {
      "cell_type": "markdown",
      "source": [],
      "metadata": {
        "id": "r4hyJQ1fFDtZ"
      }
    },
    {
      "cell_type": "code",
      "source": [
        "class Animal:\n",
        "  def __init__(self,name,species):\n",
        "    self.name = name\n",
        "    self.species = species\n",
        "  def show(self):\n",
        "    print(f\"name : {self.name}\")\n",
        "    print(f\"species : {self.species}\")\n",
        "\n",
        "class Dog(Animal):\n",
        "  def __init__(self,name,breed):\n",
        "    Animal.__init__(self,name,species = \"Dog\")\n",
        "    self.breed = breed\n",
        "  def show_details(self):\n",
        "    Animal.show(self)\n",
        "    print(f\"Breed : {self.breed}\")\n",
        "class GoldenRetriever(Dog):\n",
        "  def __init__(self,name,color):\n",
        "    Dog.__init__(self,name,breed = \"GoldenRetriever\")\n",
        "    self.color = color\n",
        "  def show_details(self):\n",
        "    Dog.show_details(self)\n",
        "    print(f\"color : {self.color}\")\n",
        "\n",
        "o =GoldenRetriever(\"Tommy\",\"Black\")\n",
        "o.show_details()\n",
        "\n"
      ],
      "metadata": {
        "colab": {
          "base_uri": "https://localhost:8080/"
        },
        "id": "j8xLcITt_nqu",
        "outputId": "dc9d0362-1417-482a-cbe1-8f88d6299ed0"
      },
      "execution_count": null,
      "outputs": [
        {
          "output_type": "stream",
          "name": "stdout",
          "text": [
            "name : Tommy\n",
            "species : Dog\n",
            "Breed : GoldenRetriever\n",
            "color : Black\n"
          ]
        }
      ]
    },
    {
      "cell_type": "markdown",
      "source": [
        "# **Access Specifiers/Modifiers**\n",
        "Access specifiers or access modifiers in python programming are used to limit the access of class variables and class methods outside of class while implementing the concepts of inheritance.\n",
        "Types of access specifiers:\n",
        "\n",
        "\n",
        "1.   Public Access specifier.\n",
        "2.   private Access specifier.\n",
        "3.   Protected Access specifier.\n",
        "\n"
      ],
      "metadata": {
        "id": "zYnKY1rzoNkN"
      }
    },
    {
      "cell_type": "markdown",
      "source": [
        "# Public Access modifier\n",
        "All the variables and methods (member functions) in python are by default public.Any instance variable in a class followed by the ‘self’ keyword ie. self.var_name are public accessed."
      ],
      "metadata": {
        "id": "650QGjcOtU4_"
      }
    },
    {
      "cell_type": "code",
      "source": [
        "# Public access specifier\n",
        "# All the variables and methods (member functions) in python are by default public.\n",
        "# Any instance variable in a class followed by the ‘self’ keyword ie. self.var_name are public accessed.\n",
        "\n",
        "class Student:\n",
        "    # constructor is defined\n",
        "    def __init__(self, age, name):\n",
        "        self.age = age               # public variable\n",
        "        self.name = name             # public variable\n",
        "obj = Student(21,\"Harry\")\n",
        "print(obj.name,obj.age)"
      ],
      "metadata": {
        "colab": {
          "base_uri": "https://localhost:8080/"
        },
        "id": "TfDBcHA9o5iJ",
        "outputId": "691cb18f-bb07-4f92-da21-575db2ec5e99"
      },
      "execution_count": null,
      "outputs": [
        {
          "output_type": "stream",
          "name": "stdout",
          "text": [
            "Harry 21\n"
          ]
        }
      ]
    },
    {
      "cell_type": "markdown",
      "source": [
        "# **Private Access Modifier **\n",
        "By definition, Private members of a class (variables or methods) are those members which are only accessible inside the class. We cannot use private members outside of class.In Python, there is no strict concept of \"private\" access modifiers like in some other programming languages. However, a convention has been established to indicate that a variable or method should be considered private by prefixing its name with a double underscore (__).This is known as a \"weak internal use indicator\" and it is a convention only, not a strict rule.Code outside the class can still access these \"private\" variables and methods, but it is generally understood that they should not be accessed or modified."
      ],
      "metadata": {
        "id": "bzXMYK_-s9bH"
      }
    },
    {
      "cell_type": "code",
      "source": [
        "# Private Access Modifier\n",
        "# By definition, Private members of a class (variables or methods) are those members which are only accessible inside the class.\n",
        "# We cannot use private members outside of class.\n",
        "\n",
        "# In Python, there is no strict concept of \"private\" access modifiers like in some other programming languages.\n",
        "# However, a convention has been established to indicate that a variable or method should be considered private by prefixing its name with a double underscore (__).\n",
        "# This is known as a \"weak internal use indicator\" and it is a convention only, not a strict rule.\n",
        "# Code outside the class can still access these \"private\" variables and methods, but it is generally understood that they should not be accessed or modified.\n",
        "\n",
        "\n",
        "class Student:\n",
        "    def __init__(self, age, name):\n",
        "        self.__age = age      # An indication of private variable\n",
        "\n",
        "        def __funName(self):  # An indication of private function\n",
        "            self.y = 34\n",
        "            print(self.y)\n",
        "\n",
        "class Subject(Student):\n",
        "    pass\n",
        "\n",
        "obj = Student(21,\"Harry\")\n",
        "obj1 = Subject\n",
        "\n",
        "# calling by object of class Student\n",
        "print(obj._Student__age) # It is only does not throws an error because it is using name mangling.\n",
        "print(obj._funName__())\n",
        "\n",
        "# calling by object  of class Subject\n",
        "print(obj1.__stage)\n",
        "print(obj1.__funName())\n",
        "\n"
      ],
      "metadata": {
        "id": "pokD1ycEpiAs",
        "colab": {
          "base_uri": "https://localhost:8080/",
          "height": 228
        },
        "outputId": "eb92c17e-14d8-438f-d7af-5210065c6166"
      },
      "execution_count": null,
      "outputs": [
        {
          "output_type": "stream",
          "name": "stdout",
          "text": [
            "21\n"
          ]
        },
        {
          "output_type": "error",
          "ename": "AttributeError",
          "evalue": "'Student' object has no attribute '_funName__'",
          "traceback": [
            "\u001b[0;31m---------------------------------------------------------------------------\u001b[0m",
            "\u001b[0;31mAttributeError\u001b[0m                            Traceback (most recent call last)",
            "\u001b[0;32m<ipython-input-54-6317bd8ffb4c>\u001b[0m in \u001b[0;36m<cell line: 27>\u001b[0;34m()\u001b[0m\n\u001b[1;32m     25\u001b[0m \u001b[0;31m# calling by object of class Student\u001b[0m\u001b[0;34m\u001b[0m\u001b[0;34m\u001b[0m\u001b[0m\n\u001b[1;32m     26\u001b[0m \u001b[0mprint\u001b[0m\u001b[0;34m(\u001b[0m\u001b[0mobj\u001b[0m\u001b[0;34m.\u001b[0m\u001b[0m_Student__age\u001b[0m\u001b[0;34m)\u001b[0m \u001b[0;31m# It is only does not throws an error because it is using name mangling.\u001b[0m\u001b[0;34m\u001b[0m\u001b[0;34m\u001b[0m\u001b[0m\n\u001b[0;32m---> 27\u001b[0;31m \u001b[0mprint\u001b[0m\u001b[0;34m(\u001b[0m\u001b[0mobj\u001b[0m\u001b[0;34m.\u001b[0m\u001b[0m_funName__\u001b[0m\u001b[0;34m(\u001b[0m\u001b[0;34m)\u001b[0m\u001b[0;34m)\u001b[0m\u001b[0;34m\u001b[0m\u001b[0;34m\u001b[0m\u001b[0m\n\u001b[0m\u001b[1;32m     28\u001b[0m \u001b[0;34m\u001b[0m\u001b[0m\n\u001b[1;32m     29\u001b[0m \u001b[0;31m# calling by object  of class Subject\u001b[0m\u001b[0;34m\u001b[0m\u001b[0;34m\u001b[0m\u001b[0m\n",
            "\u001b[0;31mAttributeError\u001b[0m: 'Student' object has no attribute '_funName__'"
          ]
        }
      ]
    },
    {
      "cell_type": "code",
      "source": [
        "# To access the private varibles we use name mangling:\n",
        "class MyClass:\n",
        "    def __init__(self):\n",
        "        self._nonmangled_attribute = \"I am a nonmangled attribute\"\n",
        "        self.__mangled_attribute = \"I am a mangled attribute\"\n",
        "\n",
        "my_object = MyClass()\n",
        "\n",
        "print(my_object._nonmangled_attribute) # Output: I am a nonmangled attribute\n",
        "print(my_object.__mangled_attribute) # Throws an AttributeError\n",
        "print(my_object._MyClass__mangled_attribute) # Output: I am a mangled attribute"
      ],
      "metadata": {
        "id": "FL62FsM4rjhD"
      },
      "execution_count": null,
      "outputs": []
    },
    {
      "cell_type": "markdown",
      "source": [
        "# Protected Access Modifier\n",
        "In object-oriented programming (OOP), the term \"protected\" is used to describe a member (i.e., a method or attribute) of a class that is intended to be accessed only by the class itself and its subclasses. In Python, the convention for indicating that a member is protected is to prefix its name with a single underscore (_). For example, if a class has a method called _my_method, it is indicating that the method should only be accessed by the class itself and its subclasses.\n",
        "\n",
        "It's important to note that the single underscore is just a naming convention, and does not actually provide any protection or restrict access to the member. The syntax we follow to make any variable protected is to write variable name followed by a single underscore (_) ie. _varName."
      ],
      "metadata": {
        "id": "NdRaOs5V2RH5"
      }
    },
    {
      "cell_type": "code",
      "source": [
        "class Student:\n",
        "    def __init__(self):\n",
        "        self._name = \"Harry\"\n",
        "\n",
        "    def _funName(self):      # protected method\n",
        "        return \"CodeWithHarry\"\n",
        "\n",
        "class Subject(Student):       #inherited class\n",
        "    pass\n",
        "\n",
        "obj = Student()\n",
        "obj1 = Subject()\n",
        "\n",
        "# calling by object of Student class\n",
        "print(obj._name)\n",
        "print(obj._funName())\n",
        "# calling by object of Subject class\n",
        "print(obj1._name)\n",
        "print(obj1._funName())"
      ],
      "metadata": {
        "colab": {
          "base_uri": "https://localhost:8080/"
        },
        "id": "qqQFWSHB2eHu",
        "outputId": "95b143e8-336b-4ab9-8659-f923b0134e3d"
      },
      "execution_count": null,
      "outputs": [
        {
          "output_type": "stream",
          "name": "stdout",
          "text": [
            "Harry\n",
            "CodeWithHarry\n",
            "Harry\n",
            "CodeWithHarry\n"
          ]
        }
      ]
    },
    {
      "cell_type": "markdown",
      "source": [
        "# Static Methods\n",
        "Static methods in Python are methods that belong to a class rather than an instance of the class. They are defined using the @staticmethod decorator and do not have access to the instance of the class (i.e. self). They are called on the class itself, not on an instance of the class. Static methods are often used to create utility functions that don't need access to instance data."
      ],
      "metadata": {
        "id": "b5hRzYCi6qNL"
      }
    },
    {
      "cell_type": "code",
      "source": [
        "class Math:\n",
        "    @staticmethod\n",
        "    def add(a, b):       # while using of staticmethod you do not need to use self parameter.\n",
        "        return a + b\n",
        "result = Math.add(1, 2)\n",
        "print(result) # Output: 3"
      ],
      "metadata": {
        "id": "fkTPoK1j_Fy4"
      },
      "execution_count": null,
      "outputs": []
    },
    {
      "cell_type": "markdown",
      "source": [
        "# Instance vs class variables\n",
        "In Python, variables can be defined at the class level or at the instance level. Understanding the difference between these types of variables is crucial for writing efficient and maintainable code.\n",
        "\n",
        "#Class Variable\n",
        "Class variable are defined at the class level and are shared among all instances of the class. They are defined outside of any method and are usually used to store information that is common to all instances of the class. For example, a class variable can be used to store the number of instances of a class that have been created."
      ],
      "metadata": {
        "id": "PAgz671dASDJ"
      }
    },
    {
      "cell_type": "code",
      "source": [
        "class MyClass:\n",
        "    class_variable = 0\n",
        "\n",
        "    def __init__(self):\n",
        "        MyClass.class_variable += 1\n",
        "\n",
        "    def print_class_variable(self):\n",
        "        print(MyClass.class_variable)\n",
        "\n",
        "\n",
        "\n",
        "obj1 = MyClass()\n",
        "obj2 = MyClass()\n",
        "obj3 = MyClass()\n",
        "\n",
        "obj1.print_class_variable() # Output: 2\n",
        "obj2.print_class_variable() # Output: 2\n",
        "\n",
        "# In the example above, the class_variable is shared among all instances of the class MyClass.\n",
        "# When we create new instances of MyClass, the value of class_variable is incremented.\n",
        "# When we call the print_class_variable method on obj1 and obj2, we get the same value of class_variable."
      ],
      "metadata": {
        "colab": {
          "base_uri": "https://localhost:8080/"
        },
        "id": "VTKylVLvo0_3",
        "outputId": "444248da-28ef-49ad-f8fa-d43659933e6a"
      },
      "execution_count": null,
      "outputs": [
        {
          "output_type": "stream",
          "name": "stdout",
          "text": [
            "3\n",
            "3\n"
          ]
        }
      ]
    },
    {
      "cell_type": "markdown",
      "source": [
        "# Instance Variables\n",
        "Instance variables are defined at the instance level and are unique to each instance of the class. They are defined inside the init method and are usually used to store information that is specific to each instance of the class. For example, an instance variable can be used to store the name of an employee in a class that represents an employee."
      ],
      "metadata": {
        "id": "0gVs-Z8OOrQO"
      }
    },
    {
      "cell_type": "code",
      "source": [
        "class MyClass:\n",
        "    def __init__(self, name):  # Instance var is defined inside init method usually used to store info specific to each instance of class.\n",
        "        self.name = name\n",
        "\n",
        "    def print_name(self):\n",
        "        print(self.name)\n",
        "\n",
        "obj1 = MyClass(\"John\")\n",
        "obj2 = MyClass(\"Jane\")\n",
        "\n",
        "obj1.print_name() # Output: John\n",
        "obj2.print_name() # Output: Jane\n",
        "\n",
        "# In the example above, each instance of the class MyClass has its own value for the name variable.\n",
        "# When we call the print_name method on obj1 and obj2, we get different values for name."
      ],
      "metadata": {
        "id": "e4tMZId5pFp9"
      },
      "execution_count": null,
      "outputs": []
    },
    {
      "cell_type": "code",
      "source": [
        "\"\"\"\n",
        "class variables are shared among all instances of a class and are used to store information that is common to all instances.\n",
        "Instance variables are unique to each instance of a class and are used to store information that is specific to each instance.\n",
        "It's also worth noting that, in python, class variables are defined outside of any methods and don't need to be explicitly declared as class variable. They are defined in the class level and can be accessed via classname.variable_name or self.class.variable_name. But instance variables are defined inside the methods and need to be explicitly declared as instance variable by using self.variable_name.\"\"\"\n",
        "\n",
        "\"\"\"\n",
        "unlike instance variable, class variables are the variable whose single copy is available to all instances of the class.\n",
        "If we modify the copy of class variable in an instance then will be modified in the entire instances of the class.\n",
        "\"\"\""
      ],
      "metadata": {
        "colab": {
          "base_uri": "https://localhost:8080/",
          "height": 52
        },
        "id": "4npQqMEGiPU4",
        "outputId": "43fe042d-a44d-4613-acd5-c15ecd44210c"
      },
      "execution_count": null,
      "outputs": [
        {
          "output_type": "execute_result",
          "data": {
            "text/plain": [
              "'\\nunlike instance variable, class variables are the variable whose single copy is available to all instances of the class.\\nIf we modify the copy of class variable in an instance then will be modified in the entire instances of the class.\\n'"
            ],
            "application/vnd.google.colaboratory.intrinsic+json": {
              "type": "string"
            }
          },
          "metadata": {},
          "execution_count": 17
        }
      ]
    },
    {
      "cell_type": "code",
      "source": [
        "class Employee:\n",
        "    # class variable\n",
        "    companyName = \"Apple\"\n",
        "    noOfEmployees = 0\n",
        "\n",
        "    def __init__(self, name):\n",
        "        # Instance variable\n",
        "        self.name = name\n",
        "        self.raise_amount = 0.02\n",
        "        self.noOfEmployees += 1\n",
        "\n",
        "    def showDetails(self):\n",
        "        print(f\"The name of employee is {self.name} and the raise amount in {self.noOfEmployees} sized {self.companyName} is {self.raise_amount}\")\n",
        "\n",
        "# Creating an Object or instance to store the data inside it.\n",
        "emp1 = Employee(\"Harris\")\n",
        "emp1.raise_amount = 0.3\n",
        "emp1.companyName = \"Apple India\"\n",
        "emp1.showDetails()\n",
        "\n",
        "Employee.companyName = \"Google\"\n",
        "emp2 = Employee(\"Rohan\")\n",
        "emp2.showDetails()\n",
        "\n",
        "Employee.companyName = \"Uber\"  # Once class varible is modified using class name.classvarname. it will be completely changed to new value.\n",
        "emp3 = Employee(\"Adarsh\")\n",
        "emp3.showDetails()\n",
        "emp2.showDetails()"
      ],
      "metadata": {
        "id": "WabvPS_7KBh1",
        "colab": {
          "base_uri": "https://localhost:8080/"
        },
        "outputId": "402e72df-9b9a-455a-8f9d-ee063130a94b"
      },
      "execution_count": null,
      "outputs": [
        {
          "output_type": "stream",
          "name": "stdout",
          "text": [
            "The name of employee is Harris and the raise amount in 1 sized Apple India is 0.3\n",
            "The name of employee is Rohan and the raise amount in 1 sized Google is 0.02\n",
            "The name of employee is Adarsh and the raise amount in 1 sized Uber is 0.02\n",
            "The name of employee is Rohan and the raise amount in 1 sized Uber is 0.02\n"
          ]
        }
      ]
    },
    {
      "cell_type": "markdown",
      "source": [
        "# class method in python\n",
        "A class method is a type of method that is bound to the class and not the instance of the class. In other words, it operates on the class as a whole, rather than on a specific instance of the class. Class methods are defined using the \"@classmethod\" decorator, followed by a function definition. The first argument of the function is always \"cls,\" which represents the class itself.\n",
        "\n",
        "It's important to note that class methods cannot modify the class in any way. If you need to modify the class, you should use a class level variable instead."
      ],
      "metadata": {
        "id": "7hT_1klbsFum"
      }
    },
    {
      "cell_type": "code",
      "source": [
        "class Employee:\n",
        "  company = \"Apple\"\n",
        "  def show(self):\n",
        "    print(f\"The name is {self.name} and company is {self.company}\")\n",
        "\n",
        "\n",
        "#  def changeCompany(cls, newCompany):\n",
        "#    cls.company = newCompany           # you can write anything in place of a cls as it is not a parameter.\n",
        "  @classmethod                          # while using class method the by default value will be class variable then after value will change completely.\n",
        "  def changeCompany(tinde,newCompany):\n",
        "    tinde.company = newCompany\n",
        "\n",
        "e1 = Employee()\n",
        "e1.name = \"Harry\"\n",
        "e1.show()\n",
        "e1.changeCompany(\"Tesla\")\n",
        "e1.show()\n",
        "print(Employee.company)\n",
        "\n",
        "\"\"\"Why Use Python Class Methods?\n",
        "Class methods are useful in several situations. For example, you might want to create a factory method that creates instances of your class in a specific way. You could define a class method that creates the instance and returns it to the caller. Another common use case is to provide alternative constructors for your class. This can be useful if you want to create instances of your class in multiple ways, but still have a consistent interface for doing so.\"\"\""
      ],
      "metadata": {
        "id": "a3PjcZMJuJuE",
        "colab": {
          "base_uri": "https://localhost:8080/",
          "height": 139
        },
        "outputId": "30828cbb-7b67-4a10-9ca5-b2f970d3d38b"
      },
      "execution_count": null,
      "outputs": [
        {
          "output_type": "stream",
          "name": "stdout",
          "text": [
            "The name is Harry and company is Apple\n",
            "The name is Harry and company is Tesla\n",
            "Tesla\n"
          ]
        },
        {
          "output_type": "execute_result",
          "data": {
            "text/plain": [
              "'Why Use Python Class Methods?\\nClass methods are useful in several situations. For example, you might want to create a factory method that creates instances of your class in a specific way. You could define a class method that creates the instance and returns it to the caller. Another common use case is to provide alternative constructors for your class. This can be useful if you want to create instances of your class in multiple ways, but still have a consistent interface for doing so.'"
            ],
            "application/vnd.google.colaboratory.intrinsic+json": {
              "type": "string"
            }
          },
          "metadata": {},
          "execution_count": 29
        }
      ]
    },
    {
      "cell_type": "markdown",
      "source": [
        "# **Constructor Overriding**\n",
        "When a programmer writes a constructor in the sub class, the super class constructor is not available to the sub class. In this case only, sub class constructor is accessible to the sub class object.That means sub class constructor is replacing the super class constructor. This is called constructor overriding.\n",
        "\n",
        "# **Method Overriding.**\n",
        "If we write method of same name in super class and sub class then sub class method override the super class method and sub class method will be result out. this is called Method Overriding."
      ],
      "metadata": {
        "id": "xsnAgsoJ4lo_"
      }
    },
    {
      "cell_type": "code",
      "source": [
        "# Overriding the base class constructor and method in the sub class.z\n",
        "class Father:                 # Super class\n",
        "  def __init__(self,property):         # super class constructor\n",
        "    self.property = 800000\n",
        "\n",
        "  def display_property(self): # super class\n",
        "    print(f\"the father's property is: {self.property}\")\n",
        "\n",
        "#class son(Father):\n",
        "  #pass\n",
        "\n",
        "class son(Father):            # sub class(super class)\n",
        "  def __init__(self):         # sub class constructor\n",
        "    self.property = 200000\n",
        "\n",
        "\n",
        "\n",
        "  def display_property(self):  # sub class method\n",
        "    print(f\"the son's property is: {self.property}\")\n",
        "    super().display_property()\n",
        "\n",
        "\n",
        "s = son()\n",
        "s.display_property()\n",
        "\n",
        "# constructor available on both class, then it will be override the super class and sub class only be called while inheriting.\n",
        "# Here same name method available on super class and sub class then sub class override the super class and sub class will only be called."
      ],
      "metadata": {
        "colab": {
          "base_uri": "https://localhost:8080/"
        },
        "id": "B8FtQBTJ6Nyc",
        "outputId": "a29b9ce1-eb07-4c49-a2e7-b46157884b5c"
      },
      "execution_count": null,
      "outputs": [
        {
          "output_type": "stream",
          "name": "stdout",
          "text": [
            "the son's property is: 200000\n",
            "the father's property is: 200000\n"
          ]
        }
      ]
    },
    {
      "cell_type": "markdown",
      "source": [
        "# Super() keyword in python\n",
        "The super() keyword in Python is used to refer to the parent class. It is especially useful when a class inherits from multiple parent classes and you want to call a method from one of the parent classes.\n",
        "\n",
        "When a class inherits from a parent class, it can override or extend the methods defined in the parent class. However, sometimes you might want to use the parent class method in the child class. This is where the super() keyword comes in handy.\n",
        "\n",
        "Here's an example of how to use the super() keyword in a simple inheritance scenario:"
      ],
      "metadata": {
        "id": "zhUFA_24IujW"
      }
    },
    {
      "cell_type": "code",
      "source": [
        "class ParentClass:\n",
        "    def parent_method(self):\n",
        "        print(\"This is the parent method.\")\n",
        "\n",
        "class ChildClass(ParentClass):\n",
        "    def child_method(self):\n",
        "        print(\"This is the child method.\")\n",
        "        super().parent_method()\n",
        "\n",
        "child_object = ChildClass()\n",
        "child_object.child_method()\n",
        "\n",
        "\"\"\"In this example, we have a ParentClass with a parent_method and a ChildClass that inherits from ParentClass and overrides the child_method. When the child_method is called, it first prints \"This is the child method.\" and then calls the parent_method using the super() keyword.\n",
        "\n",
        "The super() keyword is also useful when a class inherits from multiple parent classes. In this case, you can specify the parent class from which you want to call the method.\n",
        "\n",
        "Here's an example:\"\"\""
      ],
      "metadata": {
        "colab": {
          "base_uri": "https://localhost:8080/",
          "height": 122
        },
        "id": "llBk9rY1tO3Z",
        "outputId": "ae3b7df0-0446-4af7-a7bd-0ab734404012"
      },
      "execution_count": null,
      "outputs": [
        {
          "output_type": "stream",
          "name": "stdout",
          "text": [
            "This is the child method.\n",
            "This is the parent method.\n"
          ]
        },
        {
          "output_type": "execute_result",
          "data": {
            "text/plain": [
              "'In this example, we have a ParentClass with a parent_method and a ChildClass that inherits from ParentClass and overrides the child_method. When the child_method is called, it first prints \"This is the child method.\" and then calls the parent_method using the super() keyword.\\n\\nThe super() keyword is also useful when a class inherits from multiple parent classes. In this case, you can specify the parent class from which you want to call the method.\\n\\nHere\\'s an example:'"
            ],
            "application/vnd.google.colaboratory.intrinsic+json": {
              "type": "string"
            }
          },
          "metadata": {},
          "execution_count": 2
        }
      ]
    },
    {
      "cell_type": "code",
      "source": [
        "class ParentClass1:\n",
        "    def parent_method(self):\n",
        "        print(\"This is the parent method of ParentClass1.\")\n",
        "\n",
        "class ParentClass2:\n",
        "    def parent_method(self):\n",
        "        print(\"This is the parent method of ParentClass2.\")\n",
        "\n",
        "class ChildClass(ParentClass1, ParentClass2):\n",
        "    def child_method(self):\n",
        "        print(\"This is the child method.\")\n",
        "        super().parent_method()\n",
        "\n",
        "child_object = ChildClass()\n",
        "child_object.child_method()\n",
        "\"\"\"In this example, the ChildClass inherits from both ParentClass1 and ParentClass2. The child_method calls the parent_method of the first parent class using the super() keyword.\n",
        "\n",
        "In conclusion, the super() keyword is a useful tool in Python when you want to call a parent class method in a child class. It can be used in inheritance scenarios with a single parent class or multiple parent classes.\"\"\""
      ],
      "metadata": {
        "colab": {
          "base_uri": "https://localhost:8080/",
          "height": 104
        },
        "id": "hpWDb2RAvTIY",
        "outputId": "0cc25e00-ceca-4171-8ddf-695374304d2e"
      },
      "execution_count": null,
      "outputs": [
        {
          "output_type": "stream",
          "name": "stdout",
          "text": [
            "This is the child method.\n",
            "This is the parent method of ParentClass1.\n"
          ]
        },
        {
          "output_type": "execute_result",
          "data": {
            "text/plain": [
              "'In this example, the ChildClass inherits from both ParentClass1 and ParentClass2. The child_method calls the parent_method of the first parent class using the super() keyword.\\n\\nIn conclusion, the super() keyword is a useful tool in Python when you want to call a parent class method in a child class. It can be used in inheritance scenarios with a single parent class or multiple parent classes.'"
            ],
            "application/vnd.google.colaboratory.intrinsic+json": {
              "type": "string"
            }
          },
          "metadata": {},
          "execution_count": 5
        }
      ]
    },
    {
      "cell_type": "code",
      "source": [],
      "metadata": {
        "id": "ofxYwf7UvcLI"
      },
      "execution_count": null,
      "outputs": []
    },
    {
      "cell_type": "code",
      "source": [
        "class Mother:\n",
        "  def __init__(self,color,asset,height):\n",
        "    self.color = color\n",
        "    self.asset = asset\n",
        "    self.height = height\n",
        "\n",
        "  def _print(self):\n",
        "    print(f\"The Mother\\'s color is {self.color}, asset = {self.asset} and height is {self.height}\")\n",
        "\n",
        "class child(Mother):\n",
        "    def __init__(self,money,color,asset,height):\n",
        "        super().__init__(color,asset,height)\n",
        "        self.money = money\n",
        "\n",
        "    def Display(self):\n",
        "        print(f\"Child\\'s total property is: {self.money}\")\n",
        "        # super() class\n",
        "        super()._print()\n",
        "\n",
        "Mom_cls = Mother(\"Brown\",10,5.2)\n",
        "Mom_cls._print()\n",
        "\n",
        "\n",
        "\n",
        "Child_cls = child(45000,\"Complex Fair\",3,5.7)\n",
        "\n",
        "print(\"The outcome of child money is: \",Child_cls.money)\n",
        "print(\"The outcome of child asset is: \",Child_cls.asset)\n",
        "print(\"The outcome of child height is: \",Child_cls.height)\n",
        "print(\"The outcome of child color is: \",Child_cls.color)\n",
        "\n",
        "Child_cls.Display()\n"
      ],
      "metadata": {
        "colab": {
          "base_uri": "https://localhost:8080/"
        },
        "id": "unPWgDIdIlJp",
        "outputId": "1ed048c2-292b-47ae-be44-f07c8cee7253"
      },
      "execution_count": null,
      "outputs": [
        {
          "output_type": "stream",
          "name": "stdout",
          "text": [
            "The Mother's color is Brown, asset = 10 and height is 5.2\n",
            "The outcome of child money is:  45000\n",
            "The outcome of child asset is:  3\n",
            "The outcome of child height is:  5.7\n",
            "The outcome of child color is:  Complex Fair\n",
            "Child's total property is: 45000\n",
            "The Mother's color is Complex Fair, asset = 3 and height is 5.7\n"
          ]
        }
      ]
    },
    {
      "cell_type": "code",
      "source": [
        "class Employee:\n",
        "  def __init__(self,name,id):\n",
        "    self.name = name\n",
        "    self.id = id\n",
        "\n",
        "class Programmer(Employee):\n",
        "  def __init__(self,name,id,language):\n",
        "    self.language = language\n",
        "    super().__init__(name,id)   # super() need to avoid constructor overriding.\n",
        "\n",
        "Harry = Employee(\"Harry\",550)\n",
        "Rohan = Programmer(\"Rohan\",860,\"Python\")\n",
        "\n",
        "print(Harry.name,Harry.id)\n",
        "\n",
        "print(Rohan.name,Rohan.id,Rohan.language)"
      ],
      "metadata": {
        "colab": {
          "base_uri": "https://localhost:8080/"
        },
        "id": "x0yQkqQ1JaZP",
        "outputId": "adbae4d6-beb3-4286-ec46-5c9792d74fc3"
      },
      "execution_count": null,
      "outputs": [
        {
          "output_type": "stream",
          "name": "stdout",
          "text": [
            "Harry 550\n",
            "Rohan 860 Python\n"
          ]
        }
      ]
    },
    {
      "cell_type": "markdown",
      "source": [
        "### **Magic/Dunder Method in python**\n",
        "These are special methods that you can define in your classes, and when invoked, they give you a powerful way to manipulate objects and their behaviour.\n",
        "\n",
        "Magic methods, also known as “dunders” from the double underscores surrounding their names, are powerful tools that allow you to customize the behaviour of your classes. They are used to implement special methods such as the addition, subtraction and comparison operators, as well as some more advanced techniques like descriptors and properties.\n"
      ],
      "metadata": {
        "id": "brI2ER5MTcG6"
      }
    },
    {
      "cell_type": "code",
      "source": [
        "# Let's take a look at some of the most commonly used magic methods in python:\n"
      ],
      "metadata": {
        "id": "251ysMVeLL4u"
      },
      "execution_count": null,
      "outputs": []
    },
    {
      "cell_type": "markdown",
      "source": [
        "`__init__ Method`\n",
        "\n",
        "The init method is a special method that is automatically invoked when you create a new instance of a class. This method is responsible for setting up the object’s initial state, and it is where you would typically define any instance variables that you need. Also called \"constructor\", we have discussed this method already."
      ],
      "metadata": {
        "id": "ocnmcgKGUdGC"
      }
    },
    {
      "cell_type": "code",
      "source": [
        "class Employee:\n",
        "\n",
        "  def __init__(self, name):\n",
        "    self.name = name"
      ],
      "metadata": {
        "id": "1xOLJEf0UX7J"
      },
      "execution_count": null,
      "outputs": []
    },
    {
      "cell_type": "markdown",
      "source": [
        "`__len__ method`\n",
        "\n",
        "The len method is used to get the length of an object. This is useful when you want to be able to find the size of a data structure, such as a list or dictionary."
      ],
      "metadata": {
        "id": "Wsg0ZpePUxVp"
      }
    },
    {
      "cell_type": "code",
      "source": [
        "def __len__(self):\n",
        "    i = 0\n",
        "    for c in self.name:\n",
        "      i = i + 1\n",
        "    return i"
      ],
      "metadata": {
        "id": "G8k_2uAtU5xz"
      },
      "execution_count": null,
      "outputs": []
    },
    {
      "cell_type": "markdown",
      "source": [
        "`__str__ and __repr__ methods`\n",
        "\n",
        "The str and repr methods are both used to convert an object to a string representation. The str method is used when you want to print out an object, while the repr method is used when you want to get a string representation of an object that can be used to recreate the object."
      ],
      "metadata": {
        "id": "8m9FB7hkUspE"
      }
    },
    {
      "cell_type": "code",
      "source": [
        "def __str__(self):\n",
        "    return f\"The name of the employee is {self.name} str\"\n",
        "\n",
        "def __repr__(self):\n",
        "    return f\"Employee('{self.name}')\""
      ],
      "metadata": {
        "id": "Ro9xrz34Uw3E"
      },
      "execution_count": null,
      "outputs": []
    },
    {
      "cell_type": "markdown",
      "source": [
        "`__call__ method`\n",
        "\n",
        "The call method is used to make an object callable, meaning that you can pass it as a parameter to a function and it will be executed when the function is called. This is an incredibly powerful tool that allows you to create objects that behave like functions.\n",
        "\n",
        "These are just a few of the many magic methods available in Python. They are incredibly powerful tools that allow you to customize the behaviour of your objects, and can make your code much cleaner and easier to understand. So if you’re looking for a way to take your Python code to the next level, take some time to learn about these magic methods.#####nknhhk##"
      ],
      "metadata": {
        "id": "vb-DJ50EU6MN"
      }
    },
    {
      "cell_type": "code",
      "source": [
        "def __call__(self):\n",
        "    print(\"Hey I am good\")"
      ],
      "metadata": {
        "id": "46rgYXWDVAPs"
      },
      "execution_count": null,
      "outputs": []
    },
    {
      "cell_type": "markdown",
      "source": [
        "## **Operator Overloading in python**\n",
        "\n",
        "Generally, the '+' operator is first adding two integer numbers.Then the same operator is concatenating two strings.Finally, the same operator is combining two lists of elements and making a single list. In this way, If any operator performs additional actions other than what it is meant for, it is called operator overloading. Operator overloading is an example of polymorphism."
      ],
      "metadata": {
        "id": "w2KD89IppJXF"
      }
    },
    {
      "cell_type": "code",
      "source": [
        "class Vector:\n",
        "  def __init__(self,i,j,k):\n",
        "    self.i = i\n",
        "    self.j = j\n",
        "    self.k = k\n",
        "\n",
        "  # __str__ method returns a string representation of the object.\n",
        "  def __str__(self):\n",
        "    return f\"{self.i}i + {self.j}j + {self.k}k\"\n",
        "\n",
        "  # __add__ method adds two objects\n",
        "  # operator overloading.\n",
        "  def __add__(self,x):\n",
        "    return Vector(self.i+x.i, self.j+x.j, self.k+x.k)\n",
        "\n",
        "\n",
        "v1 = Vector(3,5,6)\n",
        "print(v1)\n",
        "v2 = Vector(1,2,9)\n",
        "print(v2)\n",
        "v3 = Vector(6,3,2)\n",
        "print(v3)\n",
        "print()\n",
        "print(v1+v2+v3)\n",
        "print(type(v1+v2+v3))"
      ],
      "metadata": {
        "id": "NYpbrRYrJ1pZ",
        "colab": {
          "base_uri": "https://localhost:8080/"
        },
        "outputId": "c67578db-c750-4b76-ab09-2764f2133607"
      },
      "execution_count": null,
      "outputs": [
        {
          "output_type": "stream",
          "name": "stdout",
          "text": [
            "3i + 5j + 6k\n",
            "1i + 2j + 9k\n",
            "6i + 3j + 2k\n",
            "\n",
            "10i + 10j + 17k\n",
            "<class '__main__.Vector'>\n"
          ]
        }
      ]
    },
    {
      "cell_type": "markdown",
      "source": [
        "# **Class method as alternative constructors.**\n",
        "Class Methods as Alternative Constructors\n",
        "In object-oriented programming, the term \"constructor\" refers to a special type of method that is automatically executed when an object is created from a class. The purpose of a constructor is to initialize the object's attributes, allowing the object to be fully functional and ready to use.\n",
        "\n",
        "However, there are times when you may want to create an object in a different way, or with different initial values, than what is provided by the default constructor. This is where class methods can be used as alternative constructors.\n",
        "\n",
        "A class method belongs to the class rather than to an instance of the class. One common use case for class methods as alternative constructors is when you want to create an object from data that is stored in a different format, such as a string or a dictionary. For example, consider a class named \"Person\" that has two attributes: \"name\" and \"age\". The default constructor for the class might look like this:\n"
      ],
      "metadata": {
        "id": "ctOrukVJ6c6m"
      }
    },
    {
      "cell_type": "code",
      "source": [
        "class Person:\n",
        "    def __init__(self, name, age):\n",
        "        self.name = name\n",
        "        self.age = age\n",
        "\n",
        "# But what if you want to create a Person object from a string that contains the person's name and age, separated by a comma?\n",
        "# You can define a class method named \"from_string\" to do this:\n",
        "    @classmethod\n",
        "    def from_string(cls, string):\n",
        "        name, age = string.split(',')\n",
        "        return cls(name, int(age))\n",
        "\n",
        "p1 = Person.from_string(\"johndoe,30\")\n",
        "print(p1.name,p1.age)\n"
      ],
      "metadata": {
        "colab": {
          "base_uri": "https://localhost:8080/"
        },
        "id": "7nK4zZbkTlhM",
        "outputId": "cd708c87-cfad-43f4-b1c7-0a090e0d8c7f"
      },
      "execution_count": null,
      "outputs": [
        {
          "output_type": "stream",
          "name": "stdout",
          "text": [
            "johndoe 30\n"
          ]
        }
      ]
    },
    {
      "cell_type": "code",
      "source": [
        "class Rectangle:\n",
        "  def __init__(self, width, height):\n",
        "    self.width = width\n",
        "    self.height = height\n",
        "\n",
        "  @classmethod\n",
        "  def square(cls, size):\n",
        "    return cls(size,size)\n",
        "\n",
        "rectangle = Rectangle.square(10)\n",
        "print(rectangle.width * rectangle.height)\n",
        "print(type(rectangle.width),type(rectangle.height))"
      ],
      "metadata": {
        "colab": {
          "base_uri": "https://localhost:8080/"
        },
        "id": "nr7MmjNOW-bw",
        "outputId": "27eda85a-402b-4694-8bd5-92deb122075c"
      },
      "execution_count": null,
      "outputs": [
        {
          "output_type": "stream",
          "name": "stdout",
          "text": [
            "100\n",
            "<class 'int'> <class 'int'>\n"
          ]
        }
      ]
    },
    {
      "cell_type": "code",
      "source": [
        "class Employee:\n",
        "  def __init_(self,name,salary):\n",
        "    self.name = name\n",
        "    self.salary = salary\n",
        "\n",
        "  @classmethod\n",
        "  def fromstr(cls,string):\n",
        "    name = string.split(\"-\")[0]\n",
        "    salary = (int(string.split(\"-\")[1]))\n",
        "    return name,salary\n",
        "\n",
        "emp_sal = Employee.fromstr(\"John-12000\")\n",
        "print(emp_sal)"
      ],
      "metadata": {
        "colab": {
          "base_uri": "https://localhost:8080/"
        },
        "id": "cG5o-JGEZW1L",
        "outputId": "b67f4939-4b96-4a57-ed03-e4439b50baa1"
      },
      "execution_count": null,
      "outputs": [
        {
          "output_type": "stream",
          "name": "stdout",
          "text": [
            "('John', 12000)\n"
          ]
        }
      ]
    },
    {
      "cell_type": "code",
      "source": [
        "class Employee:\n",
        "  def __init__(self,name,salary):\n",
        "    self.name = name\n",
        "    self.salary = salary\n",
        "\n",
        "\n",
        "  @classmethod\n",
        "  def fromstr(cls,string):\n",
        "    # Return the class with these parameter given below.\n",
        "    return cls(string.split(\"-\")[0],int(string.split(\"-\")[1]))\n",
        "\n",
        "empdata = Employee.fromstr(\"John-15000\")\n",
        "print(empdata.name,empdata.salary)\n",
        "Empdata = Employee.fromstr(\"Harry-420\")\n",
        "Empdata1 =Employee(\"Kaka\",550)\n",
        "print(Empdata1.name,Empdata1.salary)"
      ],
      "metadata": {
        "colab": {
          "base_uri": "https://localhost:8080/"
        },
        "id": "cAYx6FOzwywC",
        "outputId": "1965ec47-a7e7-4bd6-ff21-06bb609e0d8d"
      },
      "execution_count": null,
      "outputs": [
        {
          "output_type": "stream",
          "name": "stdout",
          "text": [
            "John 15000\n",
            "Kaka 550\n"
          ]
        }
      ]
    },
    {
      "cell_type": "code",
      "source": [
        "class Employee:\n",
        "  def __init__(self,name,age):\n",
        "    self.name = name\n",
        "    self.age = age\n",
        "\n",
        "  @classmethod\n",
        "  def fromstr(cls,string):          # cls provides a way to reference the class.\n",
        "    name,age = string.split(\",\")\n",
        "    return cls(name,int(age))\n",
        "\n",
        "e1 = Employee(\"Danish\",28)\n",
        "e2 =Employee.fromstr(\"John,28\")\n",
        "print(e2.name,e2.age)\n"
      ],
      "metadata": {
        "colab": {
          "base_uri": "https://localhost:8080/"
        },
        "id": "naNyeMx2Nut3",
        "outputId": "36c7279e-b729-4904-92b7-3a7a7abf48c7"
      },
      "execution_count": null,
      "outputs": [
        {
          "output_type": "stream",
          "name": "stdout",
          "text": [
            "John 28\n"
          ]
        }
      ]
    },
    {
      "cell_type": "markdown",
      "source": [
        "## **The time Module in Python**\n",
        "\n",
        "The time module in Python provides a set of functions to work with time-related operations, such as timekeeping, formatting, and time conversions. This module is part of the Python Standard Library and is available in all Python installations, making it a convenient and essential tool for a wide range of applications. In this day 84 tutorial, we'll explore the time module in Python and see how it can be used in different scenarios.\n",
        "\n",
        "\n",
        "`time.time()`\n",
        "\n",
        "The time.time() function returns the current time as a floating-point number, representing the number of seconds since the epoch (the point in time when the time module was initialized). The returned value is based on the computer's system clock and is affected by time adjustments made by the operating system, such as daylight saving time. Here's an example:"
      ],
      "metadata": {
        "id": "C9yBjyrk_gvP"
      }
    },
    {
      "cell_type": "code",
      "source": [
        "import time\n",
        "print(time.time())\n",
        "# Output: 1602299933.233374\n",
        "\n",
        "# As you can see, the function returns the current time as a floating-point number,\n",
        "# which can be used for various purposes, such as measuring the duration of an operation or the elapsed time since a certain point in time."
      ],
      "metadata": {
        "colab": {
          "base_uri": "https://localhost:8080/"
        },
        "id": "plsq9w67_y9D",
        "outputId": "f056f90f-bcf0-45d4-ad68-ddbfedc25d24"
      },
      "execution_count": null,
      "outputs": [
        {
          "output_type": "stream",
          "name": "stdout",
          "text": [
            "1719211611.6220527\n"
          ]
        }
      ]
    },
    {
      "cell_type": "markdown",
      "source": [
        "# **time.sleep()**\n",
        "The time.sleep() function suspends the execution of the current thread for a specified number of seconds. This function can be used to pause the program for a certain period of time, allowing other parts of the program to run, or to synchronize the execution of multiple threads. Here's an example:"
      ],
      "metadata": {
        "id": "kHpOkRf1WXhY"
      }
    },
    {
      "cell_type": "code",
      "source": [
        "import time\n",
        "\n",
        "s1 =  time.time()\n",
        "time.sleep(2)\n",
        "s2 =  time.time()\n",
        "# Output:\n",
        "# Start: 1602299933.233374\n",
        "# End: 1602299935.233376\n",
        "print(s1)\n",
        "print(s2)\n",
        "print(s2-s1)"
      ],
      "metadata": {
        "colab": {
          "base_uri": "https://localhost:8080/"
        },
        "id": "iF1uiLjLastp",
        "outputId": "11053b58-4b9d-44e5-f8eb-ff598e8cf495"
      },
      "execution_count": null,
      "outputs": [
        {
          "output_type": "stream",
          "name": "stdout",
          "text": [
            "1719219238.2841885\n",
            "1719219240.2865381\n",
            "2.002349615097046\n"
          ]
        }
      ]
    },
    {
      "cell_type": "markdown",
      "source": [
        "## **time.strftime()**\n",
        "The time.strftime() function formats a time value as a string, based on a specified format. This function is particularly useful for formatting dates and times in a human-readable format, such as for display in a GUI, a log file, or a report. Here's an example:"
      ],
      "metadata": {
        "id": "Z9ZAIttvdBYX"
      }
    },
    {
      "cell_type": "code",
      "source": [
        "import time\n",
        "\n",
        "t = time.localtime()\n",
        "formatted_time = time.strftime(\"%Y-%m-%d %H:%M:%S\", t)\n",
        "\n",
        "print(formatted_time)\n",
        "# Output: 2022-11-08 08:45:33\n",
        "\n",
        "# As you can see, the function time.strftime() formats the current time (obtained using time.localtime()) as a string, using a specified format.\n",
        "# The format string contains codes that represent different parts of the time value, such as the year, the month, the day, the hour, the minute, and the second."
      ],
      "metadata": {
        "colab": {
          "base_uri": "https://localhost:8080/"
        },
        "id": "fw1VXMJtdAqY",
        "outputId": "bc9cb2fe-eb68-41ed-ff4f-b847143003e7"
      },
      "execution_count": null,
      "outputs": [
        {
          "output_type": "stream",
          "name": "stdout",
          "text": [
            "2024-06-24 08:57:07\n"
          ]
        }
      ]
    },
    {
      "cell_type": "markdown",
      "source": [
        "## **Command line utilities (CLI) in python**\n",
        "\n",
        "Command line utilities are programs that can be run from the terminal or command line interface, and they are an essential part of many development workflows. In Python, you can create your own command line utilities using the built-in argparse module."
      ],
      "metadata": {
        "id": "Bt27ASSitDgl"
      }
    },
    {
      "cell_type": "code",
      "source": [
        "import argparse\n",
        "\n",
        "parser = argparse.ArgumentParser()\n",
        "\n",
        "# Add command line arguments\n",
        "parser.add_argument(\"arg1\", help=\"description of argument 1\")\n",
        "parser.add_argument(\"arg2\", help=\"description of argument 2\")\n",
        "\n",
        "# Parse the arguments\n",
        "args = parser.parse_args()\n",
        "\n",
        "# Use the arguments in your code\n",
        "print(args.arg1)\n",
        "print(args.arg2)"
      ],
      "metadata": {
        "id": "Rt-H1JkKteyP"
      },
      "execution_count": null,
      "outputs": []
    },
    {
      "cell_type": "code",
      "source": [
        "import argparse\n",
        "\n",
        "parser = argparse.ArgumentParser()\n",
        "\n",
        "parser.add_argument(\"-o\", \"--optional\", help=\"description of optional argument\", default=\"default_value\")\n",
        "\n",
        "args = parser.parse_args()\n",
        "\n",
        "print(args.optional)"
      ],
      "metadata": {
        "id": "iV-7yhU1tzew"
      },
      "execution_count": null,
      "outputs": []
    },
    {
      "cell_type": "code",
      "source": [
        "# Adding positional arguments\n",
        "# The following example shows how to add a positional argument to your command line utility:\n",
        "import argparse\n",
        "\n",
        "parser = argparse.ArgumentParser()\n",
        "\n",
        "parser.add_argument(\"positional\", help=\"description of positional argument\")\n",
        "\n",
        "args = parser.parse_args()\n",
        "\n",
        "print(args.positional)"
      ],
      "metadata": {
        "id": "7epeOHSot4VI"
      },
      "execution_count": null,
      "outputs": []
    },
    {
      "cell_type": "code",
      "source": [
        "# Adding arguments with type\n",
        "# The following example shows how to add an argument with a specified type:\n",
        "import argparse\n",
        "\n",
        "parser = argparse.ArgumentParser()\n",
        "\n",
        "parser.add_argument(\"-n\", type=int, help=\"description of integer argument\")\n",
        "\n",
        "args = parser.parse_args()\n",
        "\n",
        "print(args.n)"
      ],
      "metadata": {
        "colab": {
          "base_uri": "https://localhost:8080/",
          "height": 124
        },
        "id": "7dV-PfdUwzpO",
        "outputId": "ae2ac9fe-91e7-4e70-8e14-710e0a75727d"
      },
      "execution_count": null,
      "outputs": [
        {
          "output_type": "stream",
          "name": "stderr",
          "text": [
            "usage: colab_kernel_launcher.py [-h] [-n N]\n",
            "colab_kernel_launcher.py: error: unrecognized arguments: -f /root/.local/share/jupyter/runtime/kernel-bbbf0175-172b-492f-9bb1-85a193ef32cc.json\n"
          ]
        },
        {
          "output_type": "error",
          "ename": "SystemExit",
          "evalue": "2",
          "traceback": [
            "An exception has occurred, use %tb to see the full traceback.\n",
            "\u001b[0;31mSystemExit\u001b[0m\u001b[0;31m:\u001b[0m 2\n"
          ]
        }
      ]
    },
    {
      "cell_type": "code",
      "source": [
        "# Conclusion\n",
        "# Creating command line utilities in Python is a straightforward and flexible process thanks to the argparse module. With a few lines of code,\n",
        "# you can create powerful and customizable command line tools that can make your development workflow easier and more efficient.\n",
        "# Whether you're working on small scripts or large applications, the argparse module is a must-have tool for any Python developer."
      ],
      "metadata": {
        "id": "IlrlBvlQw8bX"
      },
      "execution_count": null,
      "outputs": []
    },
    {
      "cell_type": "markdown",
      "source": [
        "## **Walrus operator in python**\n",
        "\n",
        "The Walrus Operator is a new addition to Python 3.8 and allows you to assign a value to a variable within an expression. This can be useful when you need to use a value multiple times in a loop, but don't want to repeat the calculation.\n",
        "\n",
        "The Walrus Operator is represented by the := syntax and can be used in a variety of contexts including while loops and if statements.\n",
        "\n",
        "Here's an example of how you can use the Walrus Operator in a while loop:"
      ],
      "metadata": {
        "id": "4MdHByu94jZr"
      }
    },
    {
      "cell_type": "code",
      "source": [
        "numbers = [1, 2, 3, 4, 5]\n",
        "\n",
        "while (n := len(numbers)) > 0:\n",
        "  # pop() method removes the element at the specified position.\n",
        "    print(numbers.pop())"
      ],
      "metadata": {
        "colab": {
          "base_uri": "https://localhost:8080/"
        },
        "id": "wFQSwewg4zml",
        "outputId": "b491cde4-679c-45f5-a700-d0269649af7f"
      },
      "execution_count": null,
      "outputs": [
        {
          "output_type": "stream",
          "name": "stdout",
          "text": [
            "5\n",
            "4\n",
            "3\n",
            "2\n",
            "1\n"
          ]
        }
      ]
    },
    {
      "cell_type": "code",
      "source": [
        "# In this example, the length of the numbers list is assigned to the variable n using the Walrus Operator.\n",
        "# The value of n is then used in the condition of the while loop, so that the loop will continue to execute until the numbers list is empty.\n",
        "\n",
        "# Another example of using the Walrus Operator in an if statement:\n",
        "names = [\"John\", \"Jane\", \"Jim\"]\n",
        "\n",
        "if (name := input(\"Enter a name: \")) in names:\n",
        "    print(f\"Hello, {name}!\")\n",
        "else:\n",
        "    print(\"Name not found.\")"
      ],
      "metadata": {
        "colab": {
          "base_uri": "https://localhost:8080/"
        },
        "id": "3BPe11AXAMgA",
        "outputId": "975ce871-8bd7-4cd3-8ead-d9579c14daac"
      },
      "execution_count": null,
      "outputs": [
        {
          "output_type": "stream",
          "name": "stdout",
          "text": [
            "Enter a name: Rachel\n",
            "Name not found.\n"
          ]
        }
      ]
    },
    {
      "cell_type": "code",
      "source": [
        "# walrus operator :=\n",
        "\n",
        "# new to Python 3.8\n",
        "# assignment expression aka walrus operator\n",
        "# assigns values to variables as part of a larger expression\n",
        "\n",
        "\"\"\"happy = True\n",
        "print(happy)\n",
        "\n",
        "print(happy := True)\n",
        "\n",
        "foods = list()\n",
        "while True:\n",
        "  food = input(\"What food do you like?: \")\n",
        "  if food == \"quit\":\n",
        "      break\n",
        "  foods.append(food)\"\"\"\n",
        "\n",
        "# Instead of writing long lines of code, use walrus operator for code readability and for minimal code.\n",
        "foods = list()\n",
        "while (food := input(\"What food do you like?: \")) != \"quit\":\n",
        "    foods.append(food)\n",
        "    print(foods)"
      ],
      "metadata": {
        "colab": {
          "base_uri": "https://localhost:8080/"
        },
        "id": "I4ujqkErDNJQ",
        "outputId": "4111d0fa-d65a-4122-9308-d30a7415e7cc"
      },
      "execution_count": null,
      "outputs": [
        {
          "name": "stdout",
          "output_type": "stream",
          "text": [
            "True\n",
            "True\n",
            "What food do you like?: Dates\n",
            "What food do you like?: apple\n",
            "What food do you like?: banana\n",
            "What food do you like?: dry fruits\n",
            "What food do you like?: chocolate\n",
            "What food do you like?: quit\n",
            "What food do you like?: quit\n"
          ]
        }
      ]
    },
    {
      "cell_type": "code",
      "source": [
        "# In this example, the user input is assigned to the variable name using the Walrus Operator.\n",
        "# The value of name is then used in the if statement to determine whether it is in the names list.\n",
        "# If it is, the corresponding message is printed, otherwise, a different message is printed.\n",
        "\n",
        "# It is important to note that the Walrus Operator should be used sparingly as it can make code less readable if overused.\n",
        "\n",
        "# In conclusion, the Walrus Operator is a useful tool for Python developers to have in their toolkit.\n",
        "# It can help streamline code and reduce duplication, but it should be used with care to ensure code readability and maintainability."
      ],
      "metadata": {
        "id": "QorHdovYEs_Y"
      },
      "execution_count": null,
      "outputs": []
    },
    {
      "cell_type": "markdown",
      "source": [
        "## **Shutil Module in Python**\n",
        "Shutil is a Python module that provides a higher level interface for working with file and directories. The name \"shutil\" is short for shell utility. It provides a convenient and efficient way to automate tasks that are commonly performed on files and directories. In this repl, we'll take a closer look at the shutil module and its various functions and how they can be used in Python.\n",
        "\n",
        "syntax\n",
        "\n",
        "```\n",
        " import shutil\n",
        "```\n",
        "\n"
      ],
      "metadata": {
        "id": "Sp5t1DyhE2sz"
      }
    },
    {
      "cell_type": "markdown",
      "source": [
        "Functions of Shutil:\n",
        "The following are some of the most commonly used functions in the shutil module:\n",
        "\n",
        "shutil.copy(src, dst): This function copies the file located at src to a new location specified by dst. If the destination location already exists, the original file will be overwritten.\n",
        "\n",
        "shutil.copy2(src, dst): This function is similar to shutil.copy, but it also preserves more metadata about the original file, such as the timestamp.\n",
        "\n",
        "shutil.copytree(src, dst): This function recursively copies the directory located at src to a new location specified by dst. If the destination location already exists, the original directory will be merged with it.\n",
        "\n",
        "shutil.move(src, dst): This function moves the file located at src to a new location specified by dst. This function is equivalent to renaming a file in most cases.\n",
        "\n",
        "shutil.rmtree(path): This function recursively deletes the directory located at path, along with all of its contents. This function is similar to using the rm -rf command in a shell."
      ],
      "metadata": {
        "id": "LKkbmT91mDVw"
      }
    },
    {
      "cell_type": "code",
      "source": [
        "import shutil\n",
        "\n",
        "# Copying a file\n",
        "shutil.copy(\"src.txt\", \"dst.txt\")\n",
        "\n",
        "# Copying a directory\n",
        "shutil.copytree(\"src_dir\", \"dst_dir\")\n",
        "\n",
        "# Moving a file\n",
        "shutil.move(\"src.txt\", \"dst.txt\")\n",
        "\n",
        "# Deleting a directory\n",
        "shutil.rmtree(\"dir\")\n",
        "\n",
        "# As you can see, the shutil module provides a simple and efficient way to perform common file and directory-related tasks in Python.\n",
        "# Whether you need to copy, move, delete, or preserve metadata about files and directories, the shutil module has you covered.\n",
        "\n",
        "# In conclusion, the shutil module is a powerful tool for automating file and directory-related tasks in Python.\n",
        "# Whether you are a beginner or an experienced Python developer, the shutil module is an essential tool to have in your toolbox."
      ],
      "metadata": {
        "id": "FzVgF2YdFQi3"
      },
      "execution_count": null,
      "outputs": []
    },
    {
      "cell_type": "markdown",
      "source": [
        "## **Requests module in python**\n",
        "The Python Requests module is an HTTP library that enables developers to send HTTP requests in Python. This module enables you to send HTTP requests using Python code and makes it possible to interact with APIs and web services."
      ],
      "metadata": {
        "id": "9c_m5zmmFV4p"
      }
    },
    {
      "cell_type": "code",
      "source": [
        "# pip install requests\n",
        "\n",
        "# Get Request\n",
        "# Once you have installed the Requests module, you can start using it to send HTTP requests.\n",
        "# Here is a simple example that sends a GET request to the Google homepage:\n",
        "import requests\n",
        "response = requests.get(\"https://www.google.com\")\n",
        "print(response.text)\n",
        "\n",
        "# Post Request\n",
        "# Here is another example that sends a POST request to a web service and includes a custom header:\n",
        "import requests\n",
        "\n",
        "url = \"https://api.example.com/login\"\n",
        "headers = {\n",
        "    \"User-Agent\": \"Mozilla/5.0 (Windows NT 10.0; Win64; x64) AppleWebKit/537.36 (KHTML, like Gecko) Chrome/58.0.3029.110 Safari/537.36\",\n",
        "    \"Content-Type\": \"application/json\"\n",
        "}\n",
        "data = {\n",
        "    \"username\": \"myusername\",\n",
        "    \"password\": \"mypassword\"\n",
        "}\n",
        "\n",
        "response = requests.post(url, headers=headers, json=data)\n",
        "\n",
        "print(response.text)\n",
        "# In this example, we send a POST request to a web service to authenticate a user.\n",
        "# We include a custom User-Agent header and a JSON payload with the user's credentials.\n",
        "\n",
        "# bs4 Module\n",
        "from bs4 import BeautifulSoup\n",
        "# There is another module called BeautifulSoup which is used for web scraping in Python.\n",
        "# I have personally used bs4 module to finish a lot of freelancing task."
      ],
      "metadata": {
        "colab": {
          "base_uri": "https://localhost:8080/"
        },
        "id": "X5eRIMw1E2YT",
        "outputId": "888fd15f-7014-4d9f-b3a8-139e2b319e0a"
      },
      "execution_count": null,
      "outputs": [
        {
          "output_type": "stream",
          "name": "stdout",
          "text": [
            "Requirement already satisfied: requests in /usr/local/lib/python3.10/dist-packages (2.31.0)\n",
            "Requirement already satisfied: charset-normalizer<4,>=2 in /usr/local/lib/python3.10/dist-packages (from requests) (3.3.2)\n",
            "Requirement already satisfied: idna<4,>=2.5 in /usr/local/lib/python3.10/dist-packages (from requests) (3.7)\n",
            "Requirement already satisfied: urllib3<3,>=1.21.1 in /usr/local/lib/python3.10/dist-packages (from requests) (2.0.7)\n",
            "Requirement already satisfied: certifi>=2017.4.17 in /usr/local/lib/python3.10/dist-packages (from requests) (2024.6.2)\n"
          ]
        }
      ]
    },
    {
      "cell_type": "markdown",
      "source": [
        "## **Function caching in python**\n",
        "Function caching is a technique for improving the performance of a program by storing the results of a function call so that you can reuse the results instead of recomputing them every time the function is called. This can be particularly useful when a function is computationally expensive, or when the inputs to the function are unlikely to change frequently.\n",
        "\n",
        "In Python, function caching can be achieved using the functools.lru_cache decorator. The functools.lru_cache decorator is used to cache the results of a function so that you can reuse the results instead of recomputing them every time the function is called. Here's an example:"
      ],
      "metadata": {
        "id": "shvvuZ8YMYJ3"
      }
    },
    {
      "cell_type": "code",
      "source": [
        "import functools\n",
        "\n",
        "@functools.lru_cache(maxsize= None)\n",
        "def fib(n):\n",
        "    if n < 2:\n",
        "        return n\n",
        "    return fib(n-1) + fib(n-2)\n",
        "\n",
        "print(fib(20))\n",
        "print(fib(5))\n",
        "print(fib(2))\n",
        "# Output: 6765\n",
        "# As you can see, the functools.lru_cache decorator is used to cache the results of the fib function.\n",
        "# The maxsize parameter is used to specify the maximum number of results to cache.\n",
        "# If maxsize is set to None, the cache will have an unlimited size.\n"
      ],
      "metadata": {
        "colab": {
          "base_uri": "https://localhost:8080/"
        },
        "id": "VB9XMosGNYrM",
        "outputId": "519b8b42-ce60-43d1-b425-c4e270e167e1"
      },
      "execution_count": null,
      "outputs": [
        {
          "output_type": "stream",
          "name": "stdout",
          "text": [
            "6765\n",
            "5\n",
            "1\n"
          ]
        }
      ]
    },
    {
      "cell_type": "code",
      "source": [
        "# Benefits of Function Caching\n",
        "\n",
        "# Function caching can have a significant impact on the performance of a program, particularly for computationally expensive functions.\n",
        "# By caching the results of a function, you can avoid having to recompute the results every time the function is called,\n",
        "# which can save a significant amount of time and computational resources.\n",
        "# Another benefit of function caching is that it can simplify the code of a program by removing the need to manually cache the results of a function.\n",
        "# With the functools.lru_cache decorator, the caching is handled automatically, so you can focus on writing the core logic of your program."
      ],
      "metadata": {
        "id": "vscdD68COL_0"
      },
      "execution_count": null,
      "outputs": []
    },
    {
      "cell_type": "code",
      "source": [
        "from functools import lru_cache\n",
        "import time\n",
        "\n",
        "@lru_cache(maxsize=None)\n",
        "def fx(n):\n",
        "  time.sleep(5)\n",
        "  return n*5\n",
        "\n",
        "\n",
        "print(fx(20))\n",
        "print(\"done for 20\")\n",
        "print(fx(2))\n",
        "print(\"done for 2\")\n",
        "print(fx(6))\n",
        "print(\"done for 6\")\n",
        "\n",
        "print(fx(20))\n",
        "print(\"done for 20\")\n",
        "print(fx(2))\n",
        "print(\"done for 2\")\n",
        "print(fx(6))\n",
        "print(\"done for 6\")\n",
        "print(fx(61))\n",
        "print(\"done for 61\")\n",
        "# Output: 6765"
      ],
      "metadata": {
        "colab": {
          "base_uri": "https://localhost:8080/"
        },
        "id": "e8jJIFtLON1p",
        "outputId": "b303543b-d334-4d83-88e8-21f03600dfcb"
      },
      "execution_count": null,
      "outputs": [
        {
          "output_type": "stream",
          "name": "stdout",
          "text": [
            "100\n",
            "done for 20\n",
            "10\n",
            "done for 2\n",
            "30\n",
            "done for 6\n",
            "100\n",
            "done for 20\n",
            "10\n",
            "done for 2\n",
            "30\n",
            "done for 6\n",
            "305\n",
            "done for 61\n"
          ]
        }
      ]
    },
    {
      "cell_type": "code",
      "source": [
        "from functools import lru_cache\n",
        "def factorial(n):\n",
        "  return n * factorial(n-1) if n else 1\n",
        "\n",
        "\n",
        "l = factorial(10)# no previously cached result, makes 11 recursive calls\n",
        "print(l)#3628800\n",
        "m = factorial(5)       # just looks up cached value result\n",
        "print(m)#120\n",
        "o = factorial(12)      # makes two new recursive calls, the other 10 are cached\n",
        "print(o)#479001600"
      ],
      "metadata": {
        "colab": {
          "base_uri": "https://localhost:8080/"
        },
        "id": "U_7WlPz9UGIv",
        "outputId": "da5703bd-a306-4292-a8d3-3214e3d559b0"
      },
      "execution_count": null,
      "outputs": [
        {
          "output_type": "stream",
          "name": "stdout",
          "text": [
            "3628800\n",
            "120\n",
            "479001600\n"
          ]
        }
      ]
    },
    {
      "cell_type": "markdown",
      "source": [
        "## **Regular Expressions in Python**\n",
        "Regular expressions, or \"regex\" for short, are a powerful tool for working with strings and text data in Python. They allow you to match and manipulate strings based on patterns, making it easy to perform complex string operations with just a few lines of code.\n",
        "\n",
        "Metacharacters in regular expressions:\n",
        "\n",
        "[]  Represent a character class\n",
        "^   Matches the beginning\n",
        "$   Matches the end\n",
        ".   Matches any character except newline\n",
        "?   Matches zero or one occurrence.\n",
        "|   Means OR (Matches with any of the characters\n",
        "    separated by it.\n",
        "*   Any number of occurrences (including 0 occurrences)\n",
        "+   One or more occurrences\n",
        "{}  Indicate number of occurrences of a preceding RE\n",
        "    to match.\n",
        "()  Enclose a group of REs"
      ],
      "metadata": {
        "id": "3lTk9hcpzFRJ"
      }
    },
    {
      "cell_type": "code",
      "source": [
        "import re\n",
        "\n",
        "#pattern = \"was\"\n",
        "pattern = r\"[A-Z]+yclodne\"\n",
        "text = '''Cyclone Dumazile was a strong tropical Cyclone in the South-West Indian Ocean that affected Madagascar and Réunion in early March 2018. Dumazile originated from a cyclone Dyclone low-pressure area that formed near Agaléga on 27 February. It became a tropical disturbance on 2 March, and was named the next day after attaining tropical storm status. Dumazile reached its peak intensity on 5 March, with 10-minute sustained winds of 165 km/h (105 mph), 1-minute sustained winds of 205 km/h (125 mph), and a central atmospheric pressure of 945 hPa (27.91 inHg). As it tracked southeastwards, Dumazile weakened steadily over the next couple of days due to wind shear, and became a post-tropical cyclone on 7 March\n",
        "\n",
        "'''\n",
        "\n",
        "\"\"\"match = re.search(pattern, text)\n",
        "print(match)\"\"\"\n",
        "\n",
        "matches = re.finditer(pattern, text)\n",
        "for match in matches:\n",
        "  print(match.span())\n",
        "  print(match.span()[0])\n",
        "  print(text[match.span()[0]: match.span()[1]])"
      ],
      "metadata": {
        "id": "S_g3N8mvyROA"
      },
      "execution_count": null,
      "outputs": []
    },
    {
      "cell_type": "code",
      "source": [
        "import re\n",
        "p = re.compile('ab*')\n",
        "p"
      ],
      "metadata": {
        "colab": {
          "base_uri": "https://localhost:8080/"
        },
        "id": "tnbBNJ4Mzu_1",
        "outputId": "69df4526-1d79-45c2-dea9-e19cdee6bc0c"
      },
      "execution_count": null,
      "outputs": [
        {
          "output_type": "execute_result",
          "data": {
            "text/plain": [
              "re.compile(r'ab*', re.UNICODE)"
            ]
          },
          "metadata": {},
          "execution_count": 19
        }
      ]
    },
    {
      "cell_type": "code",
      "source": [
        "import re\n",
        "\n",
        "txt = \"The rain in Spain\"\n",
        "x = re.findall(\"ai\", txt)       # findall() returns a list containing all matches.\n",
        "y = re.search(\"\\s\", txt)        # search() searches the string for a match and returns a Match object if there is a match.\n",
        "print(x)\n",
        "print(y)"
      ],
      "metadata": {
        "colab": {
          "base_uri": "https://localhost:8080/"
        },
        "id": "qmIEizaw1EyE",
        "outputId": "bca64604-66ae-4fbd-ec2c-e2a7035e7b4f"
      },
      "execution_count": null,
      "outputs": [
        {
          "output_type": "stream",
          "name": "stdout",
          "text": [
            "['ai', 'ai']\n",
            "[]\n"
          ]
        }
      ]
    },
    {
      "cell_type": "markdown",
      "source": [
        "# **Question Solving Exercise**"
      ],
      "metadata": {
        "id": "nFjJfAEwrcIn"
      }
    },
    {
      "cell_type": "code",
      "source": [
        "# To check the present working directory in python.\n",
        "import os\n",
        "\n",
        "current_directory = os.getcwd()\n",
        "print(current_directory)"
      ],
      "metadata": {
        "colab": {
          "base_uri": "https://localhost:8080/"
        },
        "id": "tEr7AebyQXhu",
        "outputId": "d1dbb361-7ce1-4457-a17e-ee62e8448b3b"
      },
      "execution_count": null,
      "outputs": [
        {
          "output_type": "stream",
          "name": "stdout",
          "text": [
            "/content\n"
          ]
        }
      ]
    },
    {
      "cell_type": "code",
      "source": [
        "'''Write a python program to translate a message into secret code language. Use the rules below to translate normal English into secret code language\n",
        "Coding:\n",
        "if the word contains atleast 3 characters, remove the first letter and append it at the end now append three random characters at the starting and the end else: simply reverse the string\n",
        "\n",
        "Decoding:\n",
        "if the word contains less than 3 characters, reverse it else: remove 3 random characters from start and end. Now remove the last letter and append it to the beginning\n",
        "\n",
        "Your program should ask whether you want to code or decode'''\n",
        "st = input(\"Enter message\")\n",
        "words = st.split(\" \")\n",
        "coding = input(\"1 for Coding or 0 for Decoding\")\n",
        "coding = True if (coding==\"1\") else False\n",
        "print(coding)\n",
        "if(coding):\n",
        "  nwords = []\n",
        "  for word in words:\n",
        "    if(len(word)>=3):\n",
        "      r1 = \"dsf\"\n",
        "      r2 = \"jkr\"\n",
        "      stnew = r1+ word[1:] + word[0] + r2\n",
        "      nwords.append(stnew)\n",
        "    else:\n",
        "      nwords.append(word[::-1])\n",
        "  print(\" \".join(nwords))\n",
        "\n",
        "else:\n",
        "  nwords = []\n",
        "  for word in words:\n",
        "    if(len(word)>=3):\n",
        "      stnew = word[3:-3]\n",
        "      stnew = stnew[-1] + stnew[:-1]\n",
        "      nwords.append(stnew)\n",
        "    else:\n",
        "      nwords.append(word[::-1])\n",
        "  print(\" \".join(nwords))"
      ],
      "metadata": {
        "id": "Pw1G2YTzrwmh",
        "colab": {
          "base_uri": "https://localhost:8080/"
        },
        "outputId": "e86e18c1-cef8-43d2-f89f-e6e27ac080c5"
      },
      "execution_count": null,
      "outputs": [
        {
          "output_type": "stream",
          "name": "stdout",
          "text": [
            "Enter message34\n",
            "1 for Coding or 0 for Decoding89\n",
            "False\n",
            "43\n"
          ]
        }
      ]
    },
    {
      "cell_type": "code",
      "source": [
        "x = int(input(\"enter the number:\"))\n"
      ],
      "metadata": {
        "colab": {
          "base_uri": "https://localhost:8080/"
        },
        "id": "g4h0gYsrI9Wv",
        "outputId": "191aa8f5-3bea-48a3-840f-2b48f331314e"
      },
      "execution_count": null,
      "outputs": [
        {
          "name": "stdout",
          "output_type": "stream",
          "text": [
            "enter the number:1\n"
          ]
        }
      ]
    },
    {
      "cell_type": "code",
      "source": [
        "# Write a program using function to check the prime number.\n",
        "\n",
        "def is_prime(num):\n",
        "\n",
        "  if num > 1:\n",
        "    return True\n",
        "  i = 2\n",
        "  while i*i <= num:\n",
        "    if num % i == 0:\n",
        "      return False\n",
        "    i += 1\n",
        "  return True\n",
        "\n",
        "num = int(input(\"Enter a number:\"))\n",
        "if is_prime(num) == True:\n",
        "  print(\"This is prime\")\n",
        "else:\n",
        "  print(\"Not a Prime\")"
      ],
      "metadata": {
        "colab": {
          "base_uri": "https://localhost:8080/"
        },
        "id": "Dkc0VEE7hEd5",
        "outputId": "6e50cc5f-e7a0-4a70-db0e-60c8364667bf"
      },
      "execution_count": null,
      "outputs": [
        {
          "output_type": "stream",
          "name": "stdout",
          "text": [
            "Enter a number:21\n",
            "This is prime\n"
          ]
        }
      ]
    },
    {
      "cell_type": "code",
      "source": [
        "#If given number is greater than 1\n",
        "num = int(input(\"Enter the number:\"))\n",
        "if num > 1:\n",
        "    # Iterate from 2 to n // 2\n",
        "    for i in range(2, (num//2)+1):\n",
        "        # If num is divisible by any number between\n",
        "        # 2 and n / 2, it is not prime\n",
        "        if (num % i) == 0:\n",
        "            print(num, \"is not a prime number\")\n",
        "            break\n",
        "    else:\n",
        "        print(num, \"is a prime number\")\n",
        "else:\n",
        "    print(num, \"is not a prime number\")"
      ],
      "metadata": {
        "colab": {
          "base_uri": "https://localhost:8080/"
        },
        "id": "OhwUs6X91b60",
        "outputId": "50b2e153-d88b-4f7f-fb78-51bd823159ad"
      },
      "execution_count": null,
      "outputs": [
        {
          "output_type": "stream",
          "name": "stdout",
          "text": [
            "Enter the number:39\n",
            "39 is not a prime number\n"
          ]
        }
      ]
    },
    {
      "cell_type": "code",
      "source": [
        "max_num = int(input(\"Enter the number:\"))\n",
        "for i in range(2,max_num+1):\n",
        "  for j in range(2,i):\n",
        "    if (i%j==0):\n",
        "      break\n",
        "  else:\n",
        "    print(i, end = \" \")\n"
      ],
      "metadata": {
        "colab": {
          "base_uri": "https://localhost:8080/"
        },
        "id": "7s2v0R076Tv3",
        "outputId": "7ae96526-1d35-4921-8e6e-7fad63ddfbf2"
      },
      "execution_count": null,
      "outputs": [
        {
          "output_type": "stream",
          "name": "stdout",
          "text": [
            "Enter the number:100\n",
            "2 3 5 7 11 13 17 19 23 29 31 37 41 43 47 53 59 61 67 71 73 79 83 89 97 "
          ]
        }
      ]
    },
    {
      "cell_type": "code",
      "source": [
        "li =['a', 'b', 'c', 'd']\n",
        "\n",
        "for i in li:\n",
        "    if(i =='a'):\n",
        "        pass\n",
        "    else:\n",
        "        print(i)"
      ],
      "metadata": {
        "colab": {
          "base_uri": "https://localhost:8080/"
        },
        "id": "jbPalZY97u4E",
        "outputId": "0fb11a17-5944-4879-d94c-723dac0b34ed"
      },
      "execution_count": null,
      "outputs": [
        {
          "output_type": "stream",
          "name": "stdout",
          "text": [
            "b\n",
            "c\n",
            "d\n"
          ]
        }
      ]
    },
    {
      "cell_type": "code",
      "source": [
        "# A python program to find the number of words in a string.\n",
        "\n",
        "# to find the no of words in a string\n",
        "str = input(\"Enter a string: \")\n",
        "\n",
        "i=c=0\n",
        "flag=True\n",
        "for s in str:\n",
        "  if flag==False and str[i]==\" \":\n",
        "    c+=1\n",
        "  if str[i]==' ':\n",
        "    flag=True\n",
        "  else:\n",
        "    flag=False\n",
        "  i += 1\n",
        "print(\"No of words: \" , c+1)"
      ],
      "metadata": {
        "id": "eRKreCDKF6qy",
        "colab": {
          "base_uri": "https://localhost:8080/"
        },
        "outputId": "115bf441-3a70-49c3-8635-dbca27e1d391"
      },
      "execution_count": null,
      "outputs": [
        {
          "output_type": "stream",
          "name": "stdout",
          "text": [
            "Enter a string: R Naga Rao\n",
            "No of words:  3\n"
          ]
        }
      ]
    },
    {
      "cell_type": "code",
      "source": [
        "# A function to calculate factorial value\n",
        "def fact(n):\n",
        "  \"to find a factorial value\"\n",
        "  prod = 1\n",
        "  while n>=1:\n",
        "    prod *= n\n",
        "    n -= 1\n",
        "  return prod\n",
        "\n",
        "# Display factorial of first 10 numbers.\n",
        "# call fact() function and pass the numbers from 1 to 10\n",
        "for i in range(1,11):\n",
        "  print(\"Factorial of {} is {}\". format(i, fact(i)))"
      ],
      "metadata": {
        "colab": {
          "base_uri": "https://localhost:8080/"
        },
        "id": "ORHNfp0NtAYk",
        "outputId": "230ad202-75f8-44cf-a180-6dc56f80fa42"
      },
      "execution_count": null,
      "outputs": [
        {
          "output_type": "stream",
          "name": "stdout",
          "text": [
            "Factorial of 1 is 1\n",
            "Factorial of 2 is 2\n",
            "Factorial of 3 is 6\n",
            "Factorial of 4 is 24\n",
            "Factorial of 5 is 120\n",
            "Factorial of 6 is 720\n",
            "Factorial of 7 is 5040\n",
            "Factorial of 8 is 40320\n",
            "Factorial of 9 is 362880\n",
            "Factorial of 10 is 3628800\n"
          ]
        }
      ]
    },
    {
      "cell_type": "code",
      "source": [
        "# A python function to check if a given number is prime or not.\n",
        "def prime(n):\n",
        "  \"\"\" to check if n is prime or not\"\"\"\n",
        "  x = 1\n",
        "  for i in range(2,n):\n",
        "    if n % i == 0:\n",
        "      x = 0\n",
        "      break\n",
        "    else:\n",
        "      x = 1\n",
        "  return x\n",
        "\n",
        "num = int(input(\"Enter a number: \"))\n",
        "result = prime(num)\n",
        "if result ==1:\n",
        "  print(num ,\" is prime\")\n",
        "else:\n",
        "  print(num ,\"is not prime\")"
      ],
      "metadata": {
        "colab": {
          "base_uri": "https://localhost:8080/"
        },
        "id": "_OHt7pBAPHBD",
        "outputId": "75b57767-cbfe-4f73-990a-647f1e7a8507"
      },
      "execution_count": null,
      "outputs": [
        {
          "output_type": "stream",
          "name": "stdout",
          "text": [
            "Enter a number: 9\n",
            "9 is not prime\n"
          ]
        }
      ]
    },
    {
      "cell_type": "code",
      "source": [
        "def f(a, L=[]):\n",
        "    L.append(a)\n",
        "    return L\n",
        "\n",
        "print(f(1))\n",
        "print(f(2))\n",
        "print(f(3))"
      ],
      "metadata": {
        "colab": {
          "base_uri": "https://localhost:8080/"
        },
        "id": "oqp7Uc4rjM2x",
        "outputId": "6b926cbc-bd10-4d14-9193-b367b78c4b40"
      },
      "execution_count": null,
      "outputs": [
        {
          "output_type": "stream",
          "name": "stdout",
          "text": [
            "[1]\n",
            "[1, 2]\n",
            "[1, 2, 3]\n"
          ]
        }
      ]
    },
    {
      "cell_type": "code",
      "source": [
        "def f(a, L=None):\n",
        "    if L is None:\n",
        "        L = []\n",
        "    L.append(a)\n",
        "    return L\n",
        "\n",
        "print(f(1))\n",
        "print(f(2))\n",
        "print(f(3))"
      ],
      "metadata": {
        "colab": {
          "base_uri": "https://localhost:8080/"
        },
        "id": "p7xl0-1SRidc",
        "outputId": "f7900946-fd63-48da-d5b9-d750349a5a3f"
      },
      "execution_count": null,
      "outputs": [
        {
          "output_type": "stream",
          "name": "stdout",
          "text": [
            "[1]\n",
            "[2]\n",
            "[3]\n"
          ]
        }
      ]
    },
    {
      "cell_type": "code",
      "source": [],
      "metadata": {
        "id": "GblrhE6FxD1s"
      },
      "execution_count": null,
      "outputs": []
    },
    {
      "cell_type": "code",
      "source": [
        "# Fibonacci number\n",
        "a,b = 0,1\n",
        "while a<1000:\n",
        "  print(a, end=\" \")\n",
        "  a,b = b, a+b\n",
        "print()\n"
      ],
      "metadata": {
        "colab": {
          "base_uri": "https://localhost:8080/"
        },
        "id": "AE3bw6fKi6Kq",
        "outputId": "c7874a4e-7e38-4a81-e024-6cf404c9d244"
      },
      "execution_count": null,
      "outputs": [
        {
          "output_type": "stream",
          "name": "stdout",
          "text": [
            "0 1 1 2 3 5 8 13 21 34 55 89 144 233 377 610 987 \n"
          ]
        }
      ]
    },
    {
      "cell_type": "code",
      "source": [
        "x,y,z = 1,1,2\n",
        "for i in range(x+1):\n",
        "    for j in range(y+1):\n",
        "        for k in range(z+1):\n",
        "            print(i,j,k)"
      ],
      "metadata": {
        "id": "9_4mGRr60G9l",
        "colab": {
          "base_uri": "https://localhost:8080/"
        },
        "outputId": "cff87209-082e-41f3-a840-f91901c3bde9"
      },
      "execution_count": null,
      "outputs": [
        {
          "output_type": "stream",
          "name": "stdout",
          "text": [
            "0 0 0\n",
            "0 0 1\n",
            "0 0 2\n",
            "0 1 0\n",
            "0 1 1\n",
            "0 1 2\n",
            "1 0 0\n",
            "1 0 1\n",
            "1 0 2\n",
            "1 1 0\n",
            "1 1 1\n",
            "1 1 2\n"
          ]
        }
      ]
    },
    {
      "cell_type": "code",
      "source": [
        "# run on pycharm local machine.\n",
        "f = open('sample.txt', 'r')\n",
        "i = 0\n",
        "while True:\n",
        "  i = i + 1\n",
        "  line = f.readline()\n",
        "  if not line:\n",
        "    break\n",
        "  m1 = int(line.split(\",\")[0])\n",
        "  m2 = int(line.split(\",\")[1])\n",
        "  m3 = int(line.split(\",\")[2])\n",
        "  print(f\"Marks of student {i} in Maths is: {m1*2}\")\n",
        "  print(f\"Marks of student {i} in English is: {m2*2}\")\n",
        "  print(f\"Marks of student {i} in SST is: {m3*2}\")\n",
        "\n",
        "print(line)\n",
        "'''\n",
        "f = open('myfile2.txt', 'w')\n",
        "lines = ['line 1\\n', 'line 2\\n', 'line 3\\n']\n",
        "f.writelines(lines)\n",
        "f.close()'''"
      ],
      "metadata": {
        "id": "wQLYdYdoCNqw"
      },
      "execution_count": null,
      "outputs": []
    },
    {
      "cell_type": "code",
      "source": [
        "def greet(fx):\n",
        "  def mfx(*args, **kwargs):\n",
        "    print(\"Good Morning\")\n",
        "    fx(*args, **kwargs)\n",
        "    print(\"Thanks for using this function\")\n",
        "  return mfx\n",
        "\n",
        "# @ xgreet                   #'''@ symbol provide a syntactic shortcut to achieve the same functionality. '''\n",
        "def hello():\n",
        "  print(\"Hello world\")\n",
        "\n",
        "# @ xgreet                  # Applied decorator\n",
        "def add(a, b):          # this function is decorated.\n",
        "  print(a+b)\n",
        "\n",
        "\n",
        "#greet(hello)()\n",
        "#greet(add)(23,12)\n",
        "#hello()\n",
        "#add(2,2)\n"
      ],
      "metadata": {
        "id": "o-LGyrnHi2B6"
      },
      "execution_count": null,
      "outputs": []
    },
    {
      "cell_type": "code",
      "source": [
        "def decor(fun):\n",
        "  def inner():\n",
        "    value = fun()\n",
        "    return value+2\n",
        "  return inner\n",
        "\n",
        "def decor1(fun):\n",
        "  def inner():\n",
        "    value = fun()\n",
        "    return value*2\n",
        "  return inner\n",
        "\n",
        "def num():\n",
        "  return 10\n",
        "\n",
        "result_fun = decor(decor1(num))\n",
        "print(result_fun())"
      ],
      "metadata": {
        "colab": {
          "base_uri": "https://localhost:8080/"
        },
        "id": "TFhVZx9bzKBF",
        "outputId": "4d3858ea-962a-4b8c-eea7-05b7bb797465"
      },
      "execution_count": null,
      "outputs": [
        {
          "output_type": "stream",
          "name": "stdout",
          "text": [
            "22\n"
          ]
        }
      ]
    },
    {
      "cell_type": "code",
      "source": [
        "# A python program to apply two decorators to the same function using @ symbol.\n",
        "def decor(fun):\n",
        "  def inner():\n",
        "    value = fun()\n",
        "    return value+2\n",
        "  return inner\n",
        "\n",
        "def decor1(fun):\n",
        "  def inner():\n",
        "    value = fun()\n",
        "    return value*2\n",
        "  return inner\n",
        "\n",
        "@decor\n",
        "@decor1\n",
        "def num():\n",
        "  number = int(input(\"Enter a num: \"))\n",
        "  return number\n",
        "\n",
        "print(num())"
      ],
      "metadata": {
        "colab": {
          "base_uri": "https://localhost:8080/"
        },
        "id": "UM_5Z6419bVl",
        "outputId": "747616a3-53fb-4ab4-a578-572c36fbc4f8"
      },
      "execution_count": null,
      "outputs": [
        {
          "output_type": "stream",
          "name": "stdout",
          "text": [
            "Enter a num: 99\n",
            "200\n"
          ]
        }
      ]
    },
    {
      "cell_type": "code",
      "source": [],
      "metadata": {
        "id": "mk92twICzJQJ"
      },
      "execution_count": null,
      "outputs": []
    },
    {
      "cell_type": "code",
      "source": [
        "def display(str):\n",
        "  def message():\n",
        "    return \"Hey How are you \"\n",
        "\n",
        "  result = message() + str\n",
        "  return result\n",
        "\n",
        "print(display(\"Krishna\"))"
      ],
      "metadata": {
        "id": "ybPMLDJhjbAQ",
        "colab": {
          "base_uri": "https://localhost:8080/"
        },
        "outputId": "cb8209b0-ddc7-472c-a1de-89d76939f45a"
      },
      "execution_count": null,
      "outputs": [
        {
          "output_type": "stream",
          "name": "stdout",
          "text": [
            "Hey How are you Krishna\n"
          ]
        }
      ]
    },
    {
      "cell_type": "code",
      "source": [
        "class Employee:\n",
        "    # class variable\n",
        "    companyName = \"Apple\"\n",
        "    noOfEmployees = 0\n",
        "\n",
        "    def __init__(self, name):\n",
        "        # Instance variable\n",
        "        self.name = name\n",
        "        self.raise_amount = 0.02\n",
        "        self.noOfEmployees += 1\n",
        "\n",
        "    def showDetails(self):\n",
        "        print(f\"The name of employee is {self.name} and the raise amount in {self.noOfEmployees} sized {self.companyName} is {self.raise_amount}\")\n",
        "\n",
        "# Creating an Object or instance to store the data inside it.\n",
        "emp1 = Employee(\"Harris\")\n",
        "emp1.raise_amount = 0.3\n",
        "emp1.companyName = \"Apple India\"\n",
        "emp1.showDetails()\n",
        "\n",
        "Employee.companyName = \"Google\"\n",
        "emp2 = Employee(\"Rohan\")\n",
        "emp2.showDetails()\n",
        "\n",
        "Employee.companyName = \"Uber\"\n",
        "emp3 = Employee(\"Adarsh\")\n",
        "emp3.showDetails()\n",
        "emp2.showDetails()"
      ],
      "metadata": {
        "id": "y2Gr1K55rNvI",
        "colab": {
          "base_uri": "https://localhost:8080/"
        },
        "outputId": "cc7f18db-d586-4b0e-8092-b83f57bd1b5e"
      },
      "execution_count": null,
      "outputs": [
        {
          "output_type": "stream",
          "name": "stdout",
          "text": [
            "The name of employee is Harris and the raise amount in 1 sized Apple India is 0.3\n",
            "The name of employee is Rohan and the raise amount in 1 sized Google is 0.02\n",
            "The name of employee is Adarsh and the raise amount in 1 sized Uber is 0.02\n",
            "The name of employee is Rohan and the raise amount in 1 sized Uber is 0.02\n"
          ]
        }
      ]
    },
    {
      "cell_type": "code",
      "source": [
        "import time,datetime\n",
        "t22 = datetime.datetime.now()\n",
        "t = time.localtime()\n",
        "print(t)\n",
        "\n",
        "formatted_time = time.strftime(\"%d-%m-%y %H:%M:%S\", t)\n",
        "print(formatted_time)\n",
        "print(t22)"
      ],
      "metadata": {
        "colab": {
          "base_uri": "https://localhost:8080/"
        },
        "id": "teiVyh4euEpD",
        "outputId": "1b2be5e9-9de1-4dfd-ad1c-afc18294ff33"
      },
      "execution_count": null,
      "outputs": [
        {
          "output_type": "stream",
          "name": "stdout",
          "text": [
            "time.struct_time(tm_year=2024, tm_mon=6, tm_mday=24, tm_hour=6, tm_min=55, tm_sec=26, tm_wday=0, tm_yday=176, tm_isdst=0)\n",
            "24-06-24 06:55:26\n",
            "2024-06-24 06:55:26.311771\n"
          ]
        }
      ]
    },
    {
      "cell_type": "code",
      "source": [
        "\"\"\"ls = list()\n",
        "while True:\n",
        "  food = input(\"ordered food:\")\n",
        "  if food == \"ok\":\n",
        "    break\n",
        "  ls.append(food)\n",
        "print(ls)\"\"\"\n",
        "\n",
        "foods = list()\n",
        "while(a := input(\"What would you like to eat?:\")) != 'ok':\n",
        "  foods.append(a)"
      ],
      "metadata": {
        "id": "1MPAjxqgChrq",
        "colab": {
          "base_uri": "https://localhost:8080/"
        },
        "outputId": "3b689d15-1e6d-49b1-fa34-f0f876123861"
      },
      "execution_count": null,
      "outputs": [
        {
          "name": "stdout",
          "output_type": "stream",
          "text": [
            "What would you like to eat?:I\n",
            "What would you like to eat?:M\n",
            "What would you like to eat?:A\n",
            "What would you like to eat?:ok\n"
          ]
        }
      ]
    },
    {
      "cell_type": "code",
      "source": [
        "def print_full_name(first, last):\n",
        "    # Write your code here\n",
        "    first_name = first\n",
        "    last_name = last\n",
        "    return(\"Hello {} {}! You just delved into python\".format(first,last))\n",
        "\n",
        "if __name__ == '__main__':\n",
        "    first_name = input()\n",
        "    last_name = input()\n",
        "    print_full_name(first_name, last_name)"
      ],
      "metadata": {
        "id": "t4h2PALCDBB2",
        "colab": {
          "base_uri": "https://localhost:8080/"
        },
        "outputId": "45e5d2fb-3cd0-4386-98df-a785bb399e1b"
      },
      "execution_count": null,
      "outputs": [
        {
          "name": "stdout",
          "output_type": "stream",
          "text": [
            "d\n",
            "k\n"
          ]
        }
      ]
    },
    {
      "cell_type": "code",
      "source": [
        "x = int(input(\"Enter the number:\"))\n",
        "if x == 0:\n",
        "  print(\"True\")\n",
        "else:\n",
        "  print(\"False\")\n",
        "\n"
      ],
      "metadata": {
        "id": "qv1gECeHK9qZ",
        "colab": {
          "base_uri": "https://localhost:8080/"
        },
        "outputId": "3d76e53e-1907-4a90-956d-008bcf464a51"
      },
      "execution_count": null,
      "outputs": [
        {
          "output_type": "stream",
          "name": "stdout",
          "text": [
            "Enter the number:5\n",
            "False\n"
          ]
        }
      ]
    },
    {
      "cell_type": "code",
      "source": [
        "z = \"good\"\n",
        "def word(w,x):\n",
        "  global z\n",
        "  z = w + \" bad\"\n",
        "  return z,x\n",
        "\n",
        "print(word(\"He is\",1))\n",
        "\n",
        "print(z)\n"
      ],
      "metadata": {
        "colab": {
          "base_uri": "https://localhost:8080/"
        },
        "id": "HG9if1dykr5P",
        "outputId": "8a220da0-3412-4a89-84a6-129c0786daec"
      },
      "execution_count": null,
      "outputs": [
        {
          "output_type": "stream",
          "name": "stdout",
          "text": [
            "('He is bad', 1)\n",
            "He is bad\n"
          ]
        }
      ]
    },
    {
      "cell_type": "code",
      "source": [
        "def re_sentence(sentences):\n",
        "  new_str = \" \"\n",
        "  for words in sentences.split():\n",
        "    word = words[0]\n",
        "    #print(word)\n",
        "    for w in range(1,len(words)):\n",
        "      Y = words[w-1]\n",
        "      X = words[w]\n",
        "      #print(Y,X)\n",
        "      if Y > X:\n",
        "        word += X.upper()\n",
        "      elif X > Y:\n",
        "        word += X.lower()\n",
        "      else:\n",
        "        word = X\n",
        "    new_str += word + \" \"\n",
        "  return new_str\n",
        "\n",
        "\n",
        "\n",
        "re_sentence(\"wOrDs aRe iN cAsE\")\n",
        "#re_sentence(\"HeLLo WoRLD\")"
      ],
      "metadata": {
        "id": "2jq8Tm9xYAi6",
        "colab": {
          "base_uri": "https://localhost:8080/",
          "height": 105
        },
        "outputId": "4f0cedea-4f49-4cf9-e73f-112ca8db9ebc"
      },
      "execution_count": null,
      "outputs": [
        {
          "output_type": "stream",
          "name": "stdout",
          "text": [
            "wOrDs\n",
            "aRe\n",
            "iN\n",
            "cAsE\n"
          ]
        },
        {
          "output_type": "execute_result",
          "data": {
            "text/plain": [
              "' wOrDs aRe iN cAsE '"
            ],
            "application/vnd.google.colaboratory.intrinsic+json": {
              "type": "string"
            }
          },
          "metadata": {},
          "execution_count": 23
        }
      ]
    },
    {
      "cell_type": "code",
      "source": [
        "# input: wOrDs aRe iN cAsE    HeLLo WoRLD\n",
        "# output: wOrDs ArE In CaSe   hElLo WoRlD\n",
        "#Leave the first character in each word as it is.\n",
        "#Consider current char as X and the char preceding it as Y.\n",
        "#If Y precedes X in the alphabet,convert X to uppercase.\n",
        "#If X precedes Y in the alphabet,convert X to lowercase.\n",
        "#If Y equals X, leave X as it is.\n",
        "\n"
      ],
      "metadata": {
        "id": "0-LQxgUaoXLa"
      },
      "execution_count": null,
      "outputs": []
    },
    {
      "cell_type": "code",
      "source": [
        "def transformSentence(sentence):\n",
        "  l =sentence.split()\n",
        "  li = []\n",
        "  st = \"\"\n",
        "  for i in l:\n",
        "    st += i[0]\n",
        "    for j in range(1,len(i)-1):\n",
        "      if(i[j].lower() < i[j+1].lower()):\n",
        "        st += (i[j+1].lower())\n",
        "      elif(i[j].lower() > i[j+1].lower()):\n",
        "        st += (i[j+1].lower())\n",
        "      else:\n",
        "        st += i[j+1]\n",
        "    li.append(st)\n",
        "    st = \"\"\n",
        "  result = \"\"\n",
        "\n",
        "  for i in li:\n",
        "    result = result + \" \" + i\n",
        "  return (result.strip())\n",
        "\n",
        "transformSentence(\"wOrDs aRe iN cAsE\")"
      ],
      "metadata": {
        "colab": {
          "base_uri": "https://localhost:8080/",
          "height": 36
        },
        "id": "UBG03ij6eQlo",
        "outputId": "4ebe7350-48d0-439e-c279-594f91bc3f5b"
      },
      "execution_count": null,
      "outputs": [
        {
          "output_type": "execute_result",
          "data": {
            "text/plain": [
              "'wrds ae i cse'"
            ],
            "application/vnd.google.colaboratory.intrinsic+json": {
              "type": "string"
            }
          },
          "metadata": {},
          "execution_count": 49
        }
      ]
    },
    {
      "cell_type": "code",
      "source": [
        "string = \"bbccddccbbbddss\"\n",
        "counter =[]\n",
        "x = 1\n",
        "for i in range(1,len(string)):\n",
        "  if string[i] == string[i-1]:\n",
        "    x += 1\n",
        "  else:\n",
        "    counter.append(x)\n",
        "    x = 1\n",
        "print(counter)"
      ],
      "metadata": {
        "colab": {
          "base_uri": "https://localhost:8080/"
        },
        "id": "k0KMJLl5wPOv",
        "outputId": "ef5f7288-9592-4833-d7da-1701e387b127"
      },
      "execution_count": null,
      "outputs": [
        {
          "output_type": "stream",
          "name": "stdout",
          "text": [
            "[2, 2, 2, 2, 3, 2]\n"
          ]
        }
      ]
    },
    {
      "cell_type": "code",
      "source": [
        "# Word count problem\n",
        "def character_count(text):\n",
        "    # Initialize an empty dictionary to store character counts\n",
        "    char_counts = {}\n",
        "\n",
        "    # Iterate through each character in the text\n",
        "    for char in text:\n",
        "        # Check if the character is already in the dictionary\n",
        "        if char in char_counts:\n",
        "            # Increment the character count\n",
        "            char_counts[char] += 1\n",
        "        else:\n",
        "            # Add the character to the dictionary with a count of 1\n",
        "            char_counts[char] = 1\n",
        "\n",
        "    return char_counts\n",
        "\n",
        "# Example usage\n",
        "if __name__ == \"__main__\":\n",
        "    sample_text = \"bbbccddvvssbbddcc\"\n",
        "    counts = character_count(sample_text)\n",
        "    #for char, count in counts.items():\n",
        "    #    print(f\"{char}: {count}\")\n",
        "\n",
        "print(counts)"
      ],
      "metadata": {
        "colab": {
          "base_uri": "https://localhost:8080/"
        },
        "id": "tZXJVSBaLHeS",
        "outputId": "fcf0580d-ace3-4b0e-8111-904fb21c2849"
      },
      "execution_count": null,
      "outputs": [
        {
          "output_type": "stream",
          "name": "stdout",
          "text": [
            "{'b': 5, 'c': 4, 'd': 4, 'v': 2, 's': 2}\n"
          ]
        }
      ]
    },
    {
      "cell_type": "code",
      "source": [
        "def word_count(text):\n",
        "  dict = {}\n",
        "\n",
        "  for char in text:\n",
        "    if char in dict:\n",
        "      dict[char] += 1\n",
        "    else:\n",
        "      dict[char] = 1\n",
        "\n",
        "  return dict\n",
        "\n",
        "if __name__ == \"__main__\":\n",
        "\n",
        "  sample_txt = \"dnqwindowdbuipaupfd\"\n",
        "\n",
        "  result = word_count(sample_txt)\n",
        "  for k,v in result.items():\n",
        "    print(f\"{k} : {v}\")"
      ],
      "metadata": {
        "colab": {
          "base_uri": "https://localhost:8080/"
        },
        "id": "c284YPYmABE2",
        "outputId": "9531bae4-9393-4c5e-ec15-ae4c58f9ed6f"
      },
      "execution_count": null,
      "outputs": [
        {
          "output_type": "stream",
          "name": "stdout",
          "text": [
            "d : 4\n",
            "n : 2\n",
            "q : 1\n",
            "w : 2\n",
            "i : 2\n",
            "o : 1\n",
            "b : 1\n",
            "u : 2\n",
            "p : 2\n",
            "a : 1\n",
            "f : 1\n"
          ]
        }
      ]
    },
    {
      "cell_type": "code",
      "source": [
        "x,y,z = 1,1,2\n",
        "\n",
        "#for i in range(x):\n",
        "#  for j in range(y):\n",
        "#    for k in range(z):\n",
        "#      print([i,j,k])\n",
        "\n",
        "for i in range(x+1):\n",
        "  for j in range(y+1):\n",
        "    for k in range(z+2):\n",
        "      print([i,j,k])"
      ],
      "metadata": {
        "id": "sE7379oGb_pn",
        "colab": {
          "base_uri": "https://localhost:8080/"
        },
        "outputId": "23da7d10-1e37-4363-d0f9-75a89c79d319"
      },
      "execution_count": null,
      "outputs": [
        {
          "output_type": "stream",
          "name": "stdout",
          "text": [
            "[0, 0, 0]\n",
            "[0, 0, 1]\n",
            "[0, 0, 2]\n",
            "[0, 0, 3]\n",
            "[0, 1, 0]\n",
            "[0, 1, 1]\n",
            "[0, 1, 2]\n",
            "[0, 1, 3]\n",
            "[1, 0, 0]\n",
            "[1, 0, 1]\n",
            "[1, 0, 2]\n",
            "[1, 0, 3]\n",
            "[1, 1, 0]\n",
            "[1, 1, 1]\n",
            "[1, 1, 2]\n",
            "[1, 1, 3]\n"
          ]
        }
      ]
    },
    {
      "cell_type": "code",
      "source": [
        "x,y,z,n = 1,1,2,3\n",
        "output = [[i,j,k] for i in range(x+1) for j in range(y+1) for k in range(z+1) if i+j+k != n]\n",
        "print(output)"
      ],
      "metadata": {
        "colab": {
          "base_uri": "https://localhost:8080/"
        },
        "id": "gwGdkV9o2ytU",
        "outputId": "70ea6189-e974-417c-aa38-ad3917dbe66c"
      },
      "execution_count": null,
      "outputs": [
        {
          "output_type": "stream",
          "name": "stdout",
          "text": [
            "[[0, 0, 0], [0, 0, 1], [0, 0, 2], [0, 1, 0], [0, 1, 1], [1, 0, 0], [1, 0, 1], [1, 1, 0]]\n"
          ]
        }
      ]
    },
    {
      "cell_type": "code",
      "source": [
        "print(type(output))"
      ],
      "metadata": {
        "colab": {
          "base_uri": "https://localhost:8080/"
        },
        "id": "-gOv1fJK6qYK",
        "outputId": "f95516be-3286-4c27-c2d3-37773c7b99b4"
      },
      "execution_count": null,
      "outputs": [
        {
          "output_type": "stream",
          "name": "stdout",
          "text": [
            "<class 'list'>\n"
          ]
        }
      ]
    },
    {
      "cell_type": "code",
      "source": [
        "if __name__ == '__main__':\n",
        "    n = int(input())\n",
        "    arr = map(int, input().split())\n",
        "    sets = set(arr)\n",
        "    lst = [i for i in sets if n>2 & n<10]\n",
        "    print(lst)"
      ],
      "metadata": {
        "colab": {
          "base_uri": "https://localhost:8080/",
          "height": 245
        },
        "id": "ePD6bORL7MRV",
        "outputId": "cd1f7f09-48ec-4d93-f4a1-625f4188bd08"
      },
      "execution_count": null,
      "outputs": [
        {
          "name": "stdout",
          "output_type": "stream",
          "text": [
            "5\n",
            "[2,3,6,6,5]\n"
          ]
        },
        {
          "output_type": "error",
          "ename": "ValueError",
          "evalue": "invalid literal for int() with base 10: '[2,3,6,6,5]'",
          "traceback": [
            "\u001b[0;31m---------------------------------------------------------------------------\u001b[0m",
            "\u001b[0;31mValueError\u001b[0m                                Traceback (most recent call last)",
            "\u001b[0;32m<ipython-input-16-9cf2e6f89533>\u001b[0m in \u001b[0;36m<cell line: 1>\u001b[0;34m()\u001b[0m\n\u001b[1;32m      2\u001b[0m     \u001b[0mn\u001b[0m \u001b[0;34m=\u001b[0m \u001b[0mint\u001b[0m\u001b[0;34m(\u001b[0m\u001b[0minput\u001b[0m\u001b[0;34m(\u001b[0m\u001b[0;34m)\u001b[0m\u001b[0;34m)\u001b[0m\u001b[0;34m\u001b[0m\u001b[0;34m\u001b[0m\u001b[0m\n\u001b[1;32m      3\u001b[0m     \u001b[0marr\u001b[0m \u001b[0;34m=\u001b[0m \u001b[0mmap\u001b[0m\u001b[0;34m(\u001b[0m\u001b[0mint\u001b[0m\u001b[0;34m,\u001b[0m \u001b[0minput\u001b[0m\u001b[0;34m(\u001b[0m\u001b[0;34m)\u001b[0m\u001b[0;34m.\u001b[0m\u001b[0msplit\u001b[0m\u001b[0;34m(\u001b[0m\u001b[0;34m)\u001b[0m\u001b[0;34m)\u001b[0m\u001b[0;34m\u001b[0m\u001b[0;34m\u001b[0m\u001b[0m\n\u001b[0;32m----> 4\u001b[0;31m     \u001b[0msets\u001b[0m \u001b[0;34m=\u001b[0m \u001b[0mset\u001b[0m\u001b[0;34m(\u001b[0m\u001b[0marr\u001b[0m\u001b[0;34m)\u001b[0m\u001b[0;34m\u001b[0m\u001b[0;34m\u001b[0m\u001b[0m\n\u001b[0m\u001b[1;32m      5\u001b[0m     \u001b[0mlst\u001b[0m \u001b[0;34m=\u001b[0m \u001b[0;34m[\u001b[0m\u001b[0mi\u001b[0m \u001b[0;32mfor\u001b[0m \u001b[0mi\u001b[0m \u001b[0;32min\u001b[0m \u001b[0msets\u001b[0m \u001b[0;32mif\u001b[0m \u001b[0mn\u001b[0m\u001b[0;34m>\u001b[0m\u001b[0;36m2\u001b[0m \u001b[0;34m&\u001b[0m \u001b[0mn\u001b[0m\u001b[0;34m<\u001b[0m\u001b[0;36m10\u001b[0m\u001b[0;34m]\u001b[0m\u001b[0;34m\u001b[0m\u001b[0;34m\u001b[0m\u001b[0m\n\u001b[1;32m      6\u001b[0m     \u001b[0mprint\u001b[0m\u001b[0;34m(\u001b[0m\u001b[0mlst\u001b[0m\u001b[0;34m)\u001b[0m\u001b[0;34m\u001b[0m\u001b[0;34m\u001b[0m\u001b[0m\n",
            "\u001b[0;31mValueError\u001b[0m: invalid literal for int() with base 10: '[2,3,6,6,5]'"
          ]
        }
      ]
    },
    {
      "cell_type": "code",
      "source": [
        "if __name__ == '__main__':\n",
        "    n = 5\n",
        "    arr = [2,3,6,6,5]\n",
        "    sets = set(arr)\n",
        "    results = list(sets)\n",
        "    fo = results[-2]\n",
        "    print(fo)\n"
      ],
      "metadata": {
        "colab": {
          "base_uri": "https://localhost:8080/"
        },
        "id": "ulcWObcwD5op",
        "outputId": "c0554736-ccb8-4cdd-ebfe-62fe3cd8a795"
      },
      "execution_count": null,
      "outputs": [
        {
          "output_type": "stream",
          "name": "stdout",
          "text": [
            "5\n"
          ]
        }
      ]
    },
    {
      "cell_type": "code",
      "source": [
        "\n",
        "n = int(input())\n",
        "arr = list(map(int, input().split()))\n",
        "list2=set(arr)\n",
        "list2=sorted(list2,reverse=True)\n",
        "print(list2[1])"
      ],
      "metadata": {
        "colab": {
          "base_uri": "https://localhost:8080/"
        },
        "id": "ZGh3PpiuJc93",
        "outputId": "a69b8a64-40a2-4fa0-ef3a-151d5c37af87"
      },
      "execution_count": null,
      "outputs": [
        {
          "output_type": "stream",
          "name": "stdout",
          "text": [
            "5\n",
            "2 3 6 6 5\n",
            "5\n"
          ]
        }
      ]
    },
    {
      "cell_type": "code",
      "source": [
        "n = 5\n",
        "arr = [2,3,6,6,5]\n",
        "sel = arr[-1]\n",
        "print(sel)"
      ],
      "metadata": {
        "colab": {
          "base_uri": "https://localhost:8080/"
        },
        "id": "FsoF9Xr6Pfj-",
        "outputId": "8f34eafd-d0be-488e-dc48-b6af39f4d960"
      },
      "execution_count": null,
      "outputs": [
        {
          "output_type": "stream",
          "name": "stdout",
          "text": [
            "5\n"
          ]
        }
      ]
    },
    {
      "cell_type": "code",
      "source": [
        "n = 5\n",
        "arr = [2,3,6,6,5]\n",
        "scores = list(set(arr))\n",
        "print(scores)"
      ],
      "metadata": {
        "colab": {
          "base_uri": "https://localhost:8080/"
        },
        "id": "bnOhmZq-QS7q",
        "outputId": "ee5543d1-b5ff-4a8c-9fd5-c0bb102ffd70"
      },
      "execution_count": null,
      "outputs": [
        {
          "output_type": "stream",
          "name": "stdout",
          "text": [
            "[2, 3, 5, 6]\n"
          ]
        }
      ]
    },
    {
      "cell_type": "code",
      "source": [
        "#5 Harry 37.21 Berry 37.21 Tina 37.2 Akriti 41 Harsh 39\n",
        "\n",
        "if __name__ == '__main__':\n",
        "    students = []\n",
        "    for _ in range(int(input())):\n",
        "        name = input()\n",
        "        grade = float(input())\n",
        "        students.append([name, grade])\n",
        "\n",
        "# Extract all grades\n",
        "grades = [grade for name, grade in students]\n",
        "\n",
        "# Find the second lowest grade\n",
        "unique_grades = sorted(set(grades))\n",
        "second_lowest_grade = unique_grades[1]\n",
        "\n",
        "# Find all students with the second lowest grade\n",
        "second_lowest_students = [name for name, grade in students if grade == second_lowest_grade]\n",
        "\n",
        "# Sort the names alphabetically\n",
        "second_lowest_students.sort()\n",
        "\n",
        "# Print each name on a new line\n",
        "for student in second_lowest_students:\n",
        "    print(\"Answer is:\",student)"
      ],
      "metadata": {
        "colab": {
          "base_uri": "https://localhost:8080/"
        },
        "id": "lcWE_xCnh5qB",
        "outputId": "928fd637-3ec6-4e34-db4c-04956ea6c59a"
      },
      "execution_count": null,
      "outputs": [
        {
          "output_type": "stream",
          "name": "stdout",
          "text": [
            "5\n",
            "Harry\n",
            "37.21\n",
            "Berry\n",
            "37.21\n",
            "Tina\n",
            "37.2\n",
            "Akriti\n",
            "41\n",
            "Harshad\n",
            "39\n",
            "Berry\n",
            "Harry\n"
          ]
        }
      ]
    },
    {
      "cell_type": "code",
      "source": [
        "#stud = [['Harry', 37.21], ['Berry', 37.21], ['Tina', 37.2], ['Akriti', 41], ['Harsh', 39]]\n",
        "students = []\n",
        "for _ in range(int(input())):\n",
        "  name = input()\n",
        "  grade =float(input())\n",
        "  students.append([name,grade])\n",
        "\n",
        "#Extract all grade\n",
        "grades = [grade for name,grade in students]\n",
        "\n",
        "#"
      ],
      "metadata": {
        "id": "MH-7H0OciHSq"
      },
      "execution_count": null,
      "outputs": []
    },
    {
      "cell_type": "code",
      "source": [
        "stud = [['Harry', 37.21], ['Berry', 37.21], ['Tina', 37.2], ['Akriti', 41], ['Harsh', 39]]\n",
        "students = sorted(stud)\n",
        "print(students)\n",
        "\n",
        "grades = [grade for name,grade in students]   #[37.21, 37.21, 37.2, 41, 39]\n",
        "print(grades)\n",
        "second_lowest_grade = grades[1]\n",
        "print(second_lowest_grade)\n",
        "\n",
        "result = [name for name,grade in students if second_lowest_grade == grade]\n",
        "print(result)"
      ],
      "metadata": {
        "colab": {
          "base_uri": "https://localhost:8080/"
        },
        "id": "XbnRxn2t26bZ",
        "outputId": "893ce2e7-abd9-4bd5-b8ee-cfea8abd5fcf"
      },
      "execution_count": null,
      "outputs": [
        {
          "output_type": "stream",
          "name": "stdout",
          "text": [
            "[['Akriti', 41], ['Berry', 37.21], ['Harry', 37.21], ['Harsh', 39], ['Tina', 37.2]]\n",
            "[41, 37.21, 37.21, 39, 37.2]\n",
            "37.21\n",
            "['Berry', 'Harry']\n"
          ]
        }
      ]
    },
    {
      "cell_type": "code",
      "source": [
        "a = int(input())\n",
        "b = int(input())\n",
        "\n",
        "def division(a,b):\n",
        "  x = a//b\n",
        "  y = a/b\n",
        "  for i in x,y:\n",
        "    print(i)\n",
        "\n",
        "division(a,b)"
      ],
      "metadata": {
        "id": "JmPZTFpk4J8O",
        "colab": {
          "base_uri": "https://localhost:8080/"
        },
        "outputId": "d5d9d40d-4148-4696-fd11-d8e4c11f1336"
      },
      "execution_count": null,
      "outputs": [
        {
          "output_type": "stream",
          "name": "stdout",
          "text": [
            "4\n",
            "3\n",
            "1\n",
            "1.3333333333333333\n"
          ]
        }
      ]
    },
    {
      "cell_type": "code",
      "source": [
        "if __name__ == \"__main__\":\n",
        "  N = int(input())\n",
        "  empty_list=[]\n",
        "  for i in range(N):\n",
        "    input_list=input().split()\n",
        "    commond1=input_list[0]\n",
        "\n",
        "    if len(input_list)==1:\n",
        "        if commond1=='print':\n",
        "            print(empty_list)\n",
        "        elif commond1=='pop':\n",
        "            empty_list.pop()\n",
        "        elif commond1=='sort':\n",
        "            empty_list.sort()\n",
        "        elif commond1=='reverse':\n",
        "            empty_list.reverse()\n",
        "\n",
        "    elif len(input_list)==2:\n",
        "        commond,value=input_list\n",
        "        value=int(value)\n",
        "        if commond=='append':\n",
        "            empty_list.append(value)\n",
        "        elif commond=='remove':\n",
        "            empty_list.remove(value)\n",
        "\n",
        "    else :\n",
        "        commond,index,value = input_list\n",
        "        index = int(index)\n",
        "        value = int(value)\n",
        "        if commond=='insert':\n",
        "            empty_list.insert(index,value)"
      ],
      "metadata": {
        "colab": {
          "base_uri": "https://localhost:8080/"
        },
        "id": "yBbDIGbAgI8C",
        "outputId": "ebf4ff2a-9cb2-4b37-f500-bf3c393fa35f"
      },
      "execution_count": null,
      "outputs": [
        {
          "name": "stdout",
          "output_type": "stream",
          "text": [
            "1\n",
            "insert 0 12\n"
          ]
        }
      ]
    },
    {
      "cell_type": "code",
      "source": [
        "def fizzBuzz(n):\n",
        "    for i in range(1,n+1):\n",
        "    # Write your code here\n",
        "      if (i % 3 == 0 & i % 5 == 0):\n",
        "          print(\"FizzBuzz\")\n",
        "      elif (i % 3 == 0 & i % 5 != 0):\n",
        "          print(\"Fizz\")\n",
        "      elif (i % 5 == 0 & i % 3 != 0):\n",
        "          print(\"Buzz\")\n",
        "      else:\n",
        "          print(i)\n",
        "\n",
        "\n",
        "if __name__ == '__main__':\n",
        "\n",
        "    n = int(input().strip())\n",
        "\n",
        "    fizzBuzz(n)"
      ],
      "metadata": {
        "id": "m-RYuMFM4SB1",
        "colab": {
          "base_uri": "https://localhost:8080/"
        },
        "outputId": "b5525ebd-0a5c-4316-d68f-5653d17fc0c4"
      },
      "execution_count": null,
      "outputs": [
        {
          "output_type": "stream",
          "name": "stdout",
          "text": [
            "15\n",
            "1\n",
            "2\n",
            "FizzBuzz\n",
            "4\n",
            "5\n",
            "FizzBuzz\n",
            "7\n",
            "8\n",
            "FizzBuzz\n",
            "10\n",
            "11\n",
            "FizzBuzz\n",
            "13\n",
            "14\n",
            "FizzBuzz\n"
          ]
        }
      ]
    },
    {
      "cell_type": "code",
      "source": [],
      "metadata": {
        "id": "dzGvRZtOM5r_"
      },
      "execution_count": null,
      "outputs": []
    }
  ],
  "metadata": {
    "colab": {
      "provenance": [],
      "authorship_tag": "ABX9TyO9WZPMxupnpxx5ZLfUaf8s",
      "include_colab_link": true
    },
    "kernelspec": {
      "display_name": "Python 3",
      "name": "python3"
    },
    "language_info": {
      "name": "python"
    }
  },
  "nbformat": 4,
  "nbformat_minor": 0
}